{
  "cells": [
    {
      "cell_type": "markdown",
      "metadata": {
        "id": "eAcOzKKD0TSg"
      },
      "source": [
        "# Ejemplo de modelamiento"
      ]
    },
    {
      "cell_type": "code",
      "execution_count": 1,
      "metadata": {
        "colab": {
          "base_uri": "https://localhost:8080/"
        },
        "id": "ilSuM8VM0S1D",
        "outputId": "f0173624-9e2e-4bdc-fd0a-44ff3f04fea4"
      },
      "outputs": [
        {
          "name": "stdout",
          "output_type": "stream",
          "text": [
            "Collecting wooldridge\n",
            "  Downloading wooldridge-0.4.4-py3-none-any.whl (5.1 MB)\n",
            "\u001b[2K     \u001b[90m━━━━━━━━━━━━━━━━━━━━━━━━━━━━━━━━━━━━━━━━\u001b[0m \u001b[32m5.1/5.1 MB\u001b[0m \u001b[31m40.7 MB/s\u001b[0m eta \u001b[36m0:00:00\u001b[0m\n",
            "\u001b[?25hRequirement already satisfied: pandas in /usr/local/lib/python3.10/dist-packages (from wooldridge) (1.5.3)\n",
            "Requirement already satisfied: python-dateutil>=2.8.1 in /usr/local/lib/python3.10/dist-packages (from pandas->wooldridge) (2.8.2)\n",
            "Requirement already satisfied: pytz>=2020.1 in /usr/local/lib/python3.10/dist-packages (from pandas->wooldridge) (2023.3)\n",
            "Requirement already satisfied: numpy>=1.21.0 in /usr/local/lib/python3.10/dist-packages (from pandas->wooldridge) (1.23.5)\n",
            "Requirement already satisfied: six>=1.5 in /usr/local/lib/python3.10/dist-packages (from python-dateutil>=2.8.1->pandas->wooldridge) (1.16.0)\n",
            "Installing collected packages: wooldridge\n",
            "Successfully installed wooldridge-0.4.4\n"
          ]
        }
      ],
      "source": [
        "!pip install wooldridge"
      ]
    },
    {
      "cell_type": "code",
      "execution_count": 2,
      "metadata": {
        "id": "P1fGcxM50j2I"
      },
      "outputs": [],
      "source": [
        "import wooldridge as wd\n",
        "import pandas as pd\n",
        "import numpy as np\n",
        "\n",
        "from sklearn.model_selection import GridSearchCV, train_test_split\n",
        "from sklearn.linear_model import LinearRegression, Lasso, Ridge, ElasticNet\n",
        "from sklearn.metrics import mean_squared_error"
      ]
    },
    {
      "cell_type": "code",
      "execution_count": 3,
      "metadata": {
        "id": "P55KNk1X04JE"
      },
      "outputs": [],
      "source": [
        "wage = wd.data('wage2')"
      ]
    },
    {
      "cell_type": "code",
      "execution_count": 4,
      "metadata": {
        "colab": {
          "base_uri": "https://localhost:8080/"
        },
        "id": "KeAcfy4w050D",
        "outputId": "f527e430-5cd8-4836-ac8a-bb7e800404a4"
      },
      "outputs": [
        {
          "name": "stdout",
          "output_type": "stream",
          "text": [
            "<class 'pandas.core.frame.DataFrame'>\n",
            "RangeIndex: 935 entries, 0 to 934\n",
            "Data columns (total 17 columns):\n",
            " #   Column   Non-Null Count  Dtype  \n",
            "---  ------   --------------  -----  \n",
            " 0   wage     935 non-null    int64  \n",
            " 1   hours    935 non-null    int64  \n",
            " 2   IQ       935 non-null    int64  \n",
            " 3   KWW      935 non-null    int64  \n",
            " 4   educ     935 non-null    int64  \n",
            " 5   exper    935 non-null    int64  \n",
            " 6   tenure   935 non-null    int64  \n",
            " 7   age      935 non-null    int64  \n",
            " 8   married  935 non-null    int64  \n",
            " 9   black    935 non-null    int64  \n",
            " 10  south    935 non-null    int64  \n",
            " 11  urban    935 non-null    int64  \n",
            " 12  sibs     935 non-null    int64  \n",
            " 13  brthord  852 non-null    float64\n",
            " 14  meduc    857 non-null    float64\n",
            " 15  feduc    741 non-null    float64\n",
            " 16  lwage    935 non-null    float64\n",
            "dtypes: float64(4), int64(13)\n",
            "memory usage: 124.3 KB\n"
          ]
        }
      ],
      "source": [
        "wage.info()"
      ]
    },
    {
      "cell_type": "code",
      "execution_count": 6,
      "metadata": {
        "id": "s4ce_z_g06ej"
      },
      "outputs": [],
      "source": [
        "wage = wage[['wage', 'educ', 'exper']]"
      ]
    },
    {
      "cell_type": "code",
      "execution_count": 7,
      "metadata": {
        "id": "sIV6rORk0-6T"
      },
      "outputs": [],
      "source": [
        "y = wage['wage']\n",
        "X = wage[['educ', 'exper']]"
      ]
    },
    {
      "cell_type": "code",
      "execution_count": 8,
      "metadata": {
        "id": "lPx1wJUU1G4j"
      },
      "outputs": [],
      "source": [
        "X_train, X_test, y_train, y_test = train_test_split(X, y, test_size=0.2)"
      ]
    },
    {
      "cell_type": "code",
      "execution_count": 9,
      "metadata": {
        "colab": {
          "base_uri": "https://localhost:8080/"
        },
        "id": "jhVzjBPs1Obz",
        "outputId": "fc1ed396-947c-49c6-9a34-bb7085c45273"
      },
      "outputs": [
        {
          "data": {
            "text/plain": [
              "131359.4322838416"
            ]
          },
          "execution_count": 9,
          "metadata": {},
          "output_type": "execute_result"
        }
      ],
      "source": [
        "linreg = LinearRegression()\n",
        "linreg.fit(X_train, y_train)\n",
        "linreg_pred = linreg.predict(X_test)\n",
        "mean_squared_error(linreg_pred, y_test)"
      ]
    },
    {
      "cell_type": "markdown",
      "metadata": {},
      "source": [
        "$$\\min_{\\hat{\\beta}} \\sum_{i=1}^n (y_i-\\hat{y}_i)^2$$"
      ]
    },
    {
      "cell_type": "markdown",
      "metadata": {
        "id": "y3R3LmSy2JQs"
      },
      "source": [
        "## Ridge"
      ]
    },
    {
      "cell_type": "markdown",
      "metadata": {},
      "source": [
        "$$\\min_{\\hat{\\beta}} \\sum_{i=1}^n (y_i-\\hat{y}_i)^2 + \\lambda_{ridge}\\sum_{j=1}^k\\hat{\\beta}_j^2$$"
      ]
    },
    {
      "cell_type": "code",
      "execution_count": 11,
      "metadata": {
        "id": "FeA9ylbl1keT"
      },
      "outputs": [],
      "source": [
        "ridge_reg = Ridge()\n",
        "param_grid = {'alpha' : [0, 5, 10]}\n",
        "gs_ridge = GridSearchCV(\n",
        "    ridge_reg,\n",
        "    param_grid=param_grid,\n",
        "    scoring='neg_mean_squared_error',\n",
        "    cv=3, verbose=2\n",
        ")"
      ]
    },
    {
      "cell_type": "code",
      "execution_count": 13,
      "metadata": {
        "colab": {
          "base_uri": "https://localhost:8080/",
          "height": 290
        },
        "id": "O4anhrI33A1z",
        "outputId": "93fea997-9215-4ae8-aa2c-122981987fda"
      },
      "outputs": [
        {
          "name": "stdout",
          "output_type": "stream",
          "text": [
            "Fitting 3 folds for each of 3 candidates, totalling 9 fits\n",
            "[CV] END ............................................alpha=0; total time=   0.0s\n",
            "[CV] END ............................................alpha=0; total time=   0.0s\n",
            "[CV] END ............................................alpha=0; total time=   0.0s\n",
            "[CV] END ............................................alpha=5; total time=   0.0s\n",
            "[CV] END ............................................alpha=5; total time=   0.0s\n",
            "[CV] END ............................................alpha=5; total time=   0.0s\n",
            "[CV] END ...........................................alpha=10; total time=   0.0s\n",
            "[CV] END ...........................................alpha=10; total time=   0.0s\n",
            "[CV] END ...........................................alpha=10; total time=   0.0s\n"
          ]
        },
        {
          "data": {
            "text/html": [
              "<style>#sk-container-id-1 {color: black;background-color: white;}#sk-container-id-1 pre{padding: 0;}#sk-container-id-1 div.sk-toggleable {background-color: white;}#sk-container-id-1 label.sk-toggleable__label {cursor: pointer;display: block;width: 100%;margin-bottom: 0;padding: 0.3em;box-sizing: border-box;text-align: center;}#sk-container-id-1 label.sk-toggleable__label-arrow:before {content: \"▸\";float: left;margin-right: 0.25em;color: #696969;}#sk-container-id-1 label.sk-toggleable__label-arrow:hover:before {color: black;}#sk-container-id-1 div.sk-estimator:hover label.sk-toggleable__label-arrow:before {color: black;}#sk-container-id-1 div.sk-toggleable__content {max-height: 0;max-width: 0;overflow: hidden;text-align: left;background-color: #f0f8ff;}#sk-container-id-1 div.sk-toggleable__content pre {margin: 0.2em;color: black;border-radius: 0.25em;background-color: #f0f8ff;}#sk-container-id-1 input.sk-toggleable__control:checked~div.sk-toggleable__content {max-height: 200px;max-width: 100%;overflow: auto;}#sk-container-id-1 input.sk-toggleable__control:checked~label.sk-toggleable__label-arrow:before {content: \"▾\";}#sk-container-id-1 div.sk-estimator input.sk-toggleable__control:checked~label.sk-toggleable__label {background-color: #d4ebff;}#sk-container-id-1 div.sk-label input.sk-toggleable__control:checked~label.sk-toggleable__label {background-color: #d4ebff;}#sk-container-id-1 input.sk-hidden--visually {border: 0;clip: rect(1px 1px 1px 1px);clip: rect(1px, 1px, 1px, 1px);height: 1px;margin: -1px;overflow: hidden;padding: 0;position: absolute;width: 1px;}#sk-container-id-1 div.sk-estimator {font-family: monospace;background-color: #f0f8ff;border: 1px dotted black;border-radius: 0.25em;box-sizing: border-box;margin-bottom: 0.5em;}#sk-container-id-1 div.sk-estimator:hover {background-color: #d4ebff;}#sk-container-id-1 div.sk-parallel-item::after {content: \"\";width: 100%;border-bottom: 1px solid gray;flex-grow: 1;}#sk-container-id-1 div.sk-label:hover label.sk-toggleable__label {background-color: #d4ebff;}#sk-container-id-1 div.sk-serial::before {content: \"\";position: absolute;border-left: 1px solid gray;box-sizing: border-box;top: 0;bottom: 0;left: 50%;z-index: 0;}#sk-container-id-1 div.sk-serial {display: flex;flex-direction: column;align-items: center;background-color: white;padding-right: 0.2em;padding-left: 0.2em;position: relative;}#sk-container-id-1 div.sk-item {position: relative;z-index: 1;}#sk-container-id-1 div.sk-parallel {display: flex;align-items: stretch;justify-content: center;background-color: white;position: relative;}#sk-container-id-1 div.sk-item::before, #sk-container-id-1 div.sk-parallel-item::before {content: \"\";position: absolute;border-left: 1px solid gray;box-sizing: border-box;top: 0;bottom: 0;left: 50%;z-index: -1;}#sk-container-id-1 div.sk-parallel-item {display: flex;flex-direction: column;z-index: 1;position: relative;background-color: white;}#sk-container-id-1 div.sk-parallel-item:first-child::after {align-self: flex-end;width: 50%;}#sk-container-id-1 div.sk-parallel-item:last-child::after {align-self: flex-start;width: 50%;}#sk-container-id-1 div.sk-parallel-item:only-child::after {width: 0;}#sk-container-id-1 div.sk-dashed-wrapped {border: 1px dashed gray;margin: 0 0.4em 0.5em 0.4em;box-sizing: border-box;padding-bottom: 0.4em;background-color: white;}#sk-container-id-1 div.sk-label label {font-family: monospace;font-weight: bold;display: inline-block;line-height: 1.2em;}#sk-container-id-1 div.sk-label-container {text-align: center;}#sk-container-id-1 div.sk-container {/* jupyter's `normalize.less` sets `[hidden] { display: none; }` but bootstrap.min.css set `[hidden] { display: none !important; }` so we also need the `!important` here to be able to override the default hidden behavior on the sphinx rendered scikit-learn.org. See: https://github.com/scikit-learn/scikit-learn/issues/21755 */display: inline-block !important;position: relative;}#sk-container-id-1 div.sk-text-repr-fallback {display: none;}</style><div id=\"sk-container-id-1\" class=\"sk-top-container\"><div class=\"sk-text-repr-fallback\"><pre>GridSearchCV(cv=3, estimator=Ridge(), param_grid={&#x27;alpha&#x27;: [0, 5, 10]},\n",
              "             scoring=&#x27;neg_mean_squared_error&#x27;, verbose=2)</pre><b>In a Jupyter environment, please rerun this cell to show the HTML representation or trust the notebook. <br />On GitHub, the HTML representation is unable to render, please try loading this page with nbviewer.org.</b></div><div class=\"sk-container\" hidden><div class=\"sk-item sk-dashed-wrapped\"><div class=\"sk-label-container\"><div class=\"sk-label sk-toggleable\"><input class=\"sk-toggleable__control sk-hidden--visually\" id=\"sk-estimator-id-1\" type=\"checkbox\" ><label for=\"sk-estimator-id-1\" class=\"sk-toggleable__label sk-toggleable__label-arrow\">GridSearchCV</label><div class=\"sk-toggleable__content\"><pre>GridSearchCV(cv=3, estimator=Ridge(), param_grid={&#x27;alpha&#x27;: [0, 5, 10]},\n",
              "             scoring=&#x27;neg_mean_squared_error&#x27;, verbose=2)</pre></div></div></div><div class=\"sk-parallel\"><div class=\"sk-parallel-item\"><div class=\"sk-item\"><div class=\"sk-label-container\"><div class=\"sk-label sk-toggleable\"><input class=\"sk-toggleable__control sk-hidden--visually\" id=\"sk-estimator-id-2\" type=\"checkbox\" ><label for=\"sk-estimator-id-2\" class=\"sk-toggleable__label sk-toggleable__label-arrow\">estimator: Ridge</label><div class=\"sk-toggleable__content\"><pre>Ridge()</pre></div></div></div><div class=\"sk-serial\"><div class=\"sk-item\"><div class=\"sk-estimator sk-toggleable\"><input class=\"sk-toggleable__control sk-hidden--visually\" id=\"sk-estimator-id-3\" type=\"checkbox\" ><label for=\"sk-estimator-id-3\" class=\"sk-toggleable__label sk-toggleable__label-arrow\">Ridge</label><div class=\"sk-toggleable__content\"><pre>Ridge()</pre></div></div></div></div></div></div></div></div></div></div>"
            ],
            "text/plain": [
              "GridSearchCV(cv=3, estimator=Ridge(), param_grid={'alpha': [0, 5, 10]},\n",
              "             scoring='neg_mean_squared_error', verbose=2)"
            ]
          },
          "execution_count": 13,
          "metadata": {},
          "output_type": "execute_result"
        }
      ],
      "source": [
        "gs_ridge.fit(X_train, y_train)"
      ]
    },
    {
      "cell_type": "code",
      "execution_count": 15,
      "metadata": {
        "colab": {
          "base_uri": "https://localhost:8080/"
        },
        "id": "S2dXE5663D2D",
        "outputId": "55e86f68-42ec-4ce3-9613-c8664ae5d9ce"
      },
      "outputs": [
        {
          "data": {
            "text/plain": [
              "{'alpha': 10}"
            ]
          },
          "execution_count": 15,
          "metadata": {},
          "output_type": "execute_result"
        }
      ],
      "source": [
        "gs_ridge.best_params_"
      ]
    },
    {
      "cell_type": "code",
      "execution_count": 16,
      "metadata": {
        "colab": {
          "base_uri": "https://localhost:8080/"
        },
        "id": "bLZTUwqY3LVj",
        "outputId": "96ca0a69-55b3-47c8-9973-c02355d60923"
      },
      "outputs": [
        {
          "data": {
            "text/plain": [
              "131317.5545066945"
            ]
          },
          "execution_count": 16,
          "metadata": {},
          "output_type": "execute_result"
        }
      ],
      "source": [
        "ridge_pred = gs_ridge.predict(X_test)\n",
        "mean_squared_error(ridge_pred, y_test)"
      ]
    },
    {
      "cell_type": "markdown",
      "metadata": {
        "id": "eTe7YxN55k2Z"
      },
      "source": [
        "## Lasso"
      ]
    },
    {
      "cell_type": "markdown",
      "metadata": {},
      "source": [
        "$$\\min_{\\hat{\\beta}} \\sum_{i=1}^n (y_i-\\hat{y}_i)^2 + \\lambda_{lasso}\\sum_{j=1}^k|\\hat{\\beta}_j|$$"
      ]
    },
    {
      "cell_type": "code",
      "execution_count": 17,
      "metadata": {
        "id": "290sCG8o3XOD"
      },
      "outputs": [],
      "source": [
        "lasso = Lasso()\n",
        "param_grid = {'alpha': [0, 5, 10, 15, 20, 25, 50, 100]}\n",
        "gs_lasso = GridSearchCV(lasso,\n",
        "                        param_grid=param_grid,\n",
        "                        scoring='neg_mean_squared_error',\n",
        "                        cv=3)"
      ]
    },
    {
      "cell_type": "code",
      "execution_count": null,
      "metadata": {
        "id": "HQgj7uZv32xU"
      },
      "outputs": [],
      "source": [
        "gs_lasso.fit(X_train, y_train)"
      ]
    },
    {
      "cell_type": "code",
      "execution_count": 21,
      "metadata": {
        "id": "m8K_4PyA34Sz"
      },
      "outputs": [],
      "source": [
        "lasso_pred = gs_lasso.predict(X_test)"
      ]
    },
    {
      "cell_type": "code",
      "execution_count": 22,
      "metadata": {
        "colab": {
          "base_uri": "https://localhost:8080/"
        },
        "id": "JnD6G29p38Oz",
        "outputId": "cde2e613-ddf1-4655-ba07-106d6197497f"
      },
      "outputs": [
        {
          "data": {
            "text/plain": [
              "131359.4322838416"
            ]
          },
          "execution_count": 22,
          "metadata": {},
          "output_type": "execute_result"
        }
      ],
      "source": [
        "mean_squared_error(lasso_pred, y_test)"
      ]
    },
    {
      "cell_type": "code",
      "execution_count": 23,
      "metadata": {
        "colab": {
          "base_uri": "https://localhost:8080/"
        },
        "id": "RpUCmlT74BZT",
        "outputId": "524347ad-ac29-45ef-fbbb-21b76a5c323f"
      },
      "outputs": [
        {
          "data": {
            "text/plain": [
              "{'alpha': 0}"
            ]
          },
          "execution_count": 23,
          "metadata": {},
          "output_type": "execute_result"
        }
      ],
      "source": [
        "gs_lasso.best_params_"
      ]
    },
    {
      "cell_type": "markdown",
      "metadata": {
        "id": "9xKsjQ-O5nFJ"
      },
      "source": [
        "## Elastic Net"
      ]
    },
    {
      "cell_type": "markdown",
      "metadata": {},
      "source": [
        "$$\\min_{\\hat{\\beta}} \\sum_{i=1}^n (y_i-\\hat{y}_i)^2 + \\lambda_{enet}\\left(\\frac{1-\\alpha}{2}\\sum_{j=1}^k\\hat{\\beta}_j^2+\\alpha\\sum_{j=1}^p|\\hat{\\beta}_j|\\right)$$"
      ]
    },
    {
      "cell_type": "code",
      "execution_count": 31,
      "metadata": {
        "id": "y96m_lt-4FMz"
      },
      "outputs": [],
      "source": [
        "en = ElasticNet()\n",
        "param_grid = {'alpha':[0,1,5, 10],\n",
        "              'l1_ratio':[0.2, 0.5, 0.9]}\n",
        "gs_en = GridSearchCV(en, param_grid=param_grid,\n",
        "                     scoring='neg_mean_squared_error',\n",
        "                     cv=3,\n",
        "                     verbose=3)"
      ]
    },
    {
      "cell_type": "code",
      "execution_count": null,
      "metadata": {
        "id": "6448eOjf4trN"
      },
      "outputs": [],
      "source": [
        "gs_en.fit(X_train, y_train)\n",
        "en_pred = gs_en.predict(X_test)\n",
        "mean_squared_error(en_pred, y_test)"
      ]
    },
    {
      "cell_type": "code",
      "execution_count": 33,
      "metadata": {
        "colab": {
          "base_uri": "https://localhost:8080/"
        },
        "id": "nAII0CP741Q9",
        "outputId": "9e82c451-6cfb-468b-9f1f-158ab79d0e46"
      },
      "outputs": [
        {
          "data": {
            "text/plain": [
              "131359.4322838416"
            ]
          },
          "execution_count": 33,
          "metadata": {},
          "output_type": "execute_result"
        }
      ],
      "source": [
        "mean_squared_error(en_pred, y_test)"
      ]
    },
    {
      "cell_type": "markdown",
      "metadata": {},
      "source": [
        "## Métricas relevantes para regresión"
      ]
    },
    {
      "cell_type": "markdown",
      "metadata": {},
      "source": [
        "$$\\text{MAE}=\\frac{1}{n}\\sum_{i=1}^n|y_i-\\hat{y}_i|$$\n",
        "$$\\text{MSE}=\\frac{1}{n}\\sum_{i=1}^n(y_i-\\hat{y}_i)^2$$\n",
        "$$\\text{RMSE}=\\sqrt{\\frac{1}{n}\\sum_{i=1}^n(y_i-\\hat{y}_i)^2}$$\n",
        "$$\\text{MAPE}=\\frac{1}{n}\\sum_{i=1}^n\\left|\\frac{y_i-\\hat{y}_i}{y_i}\\right|$$"
      ]
    }
  ],
  "metadata": {
    "colab": {
      "provenance": []
    },
    "kernelspec": {
      "display_name": "Python 3",
      "name": "python3"
    },
    "language_info": {
      "name": "python"
    }
  },
  "nbformat": 4,
  "nbformat_minor": 0
}
