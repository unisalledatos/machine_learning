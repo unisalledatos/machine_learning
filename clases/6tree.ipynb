{
  "nbformat": 4,
  "nbformat_minor": 0,
  "metadata": {
    "colab": {
      "provenance": []
    },
    "kernelspec": {
      "name": "python3",
      "display_name": "Python 3"
    },
    "language_info": {
      "name": "python"
    }
  },
  "cells": [
    {
      "cell_type": "markdown",
      "metadata": {
        "id": "Sp1AoIfwSUKV"
      },
      "source": [
        "# Tree based (Decision tree, random forest, XGBoost)\n",
        "\n",
        "1. Agenda\n",
        " - Bootstrapping\n",
        " - Decision Tree\n",
        " - Random forest\n",
        " - XGBoost"
      ]
    },
    {
      "cell_type": "code",
      "metadata": {
        "id": "wwlUYP7o_LNs",
        "colab": {
          "base_uri": "https://localhost:8080/"
        },
        "outputId": "0045eaed-255f-49a0-93de-e50535a0fece"
      },
      "source": [
        "\n",
        "pip install wooldridge shap\n"
      ],
      "execution_count": 1,
      "outputs": [
        {
          "output_type": "stream",
          "name": "stdout",
          "text": [
            "Collecting wooldridge\n",
            "  Downloading wooldridge-0.4.4-py3-none-any.whl (5.1 MB)\n",
            "\u001b[2K     \u001b[90m━━━━━━━━━━━━━━━━━━━━━━━━━━━━━━━━━━━━━━━━\u001b[0m \u001b[32m5.1/5.1 MB\u001b[0m \u001b[31m11.9 MB/s\u001b[0m eta \u001b[36m0:00:00\u001b[0m\n",
            "\u001b[?25hCollecting shap\n",
            "  Downloading shap-0.42.1-cp310-cp310-manylinux_2_12_x86_64.manylinux2010_x86_64.manylinux_2_17_x86_64.manylinux2014_x86_64.whl (547 kB)\n",
            "\u001b[2K     \u001b[90m━━━━━━━━━━━━━━━━━━━━━━━━━━━━━━━━━━━━━━\u001b[0m \u001b[32m547.9/547.9 kB\u001b[0m \u001b[31m14.0 MB/s\u001b[0m eta \u001b[36m0:00:00\u001b[0m\n",
            "\u001b[?25hRequirement already satisfied: pandas in /usr/local/lib/python3.10/dist-packages (from wooldridge) (1.5.3)\n",
            "Requirement already satisfied: numpy in /usr/local/lib/python3.10/dist-packages (from shap) (1.23.5)\n",
            "Requirement already satisfied: scipy in /usr/local/lib/python3.10/dist-packages (from shap) (1.10.1)\n",
            "Requirement already satisfied: scikit-learn in /usr/local/lib/python3.10/dist-packages (from shap) (1.2.2)\n",
            "Requirement already satisfied: tqdm>=4.27.0 in /usr/local/lib/python3.10/dist-packages (from shap) (4.66.1)\n",
            "Requirement already satisfied: packaging>20.9 in /usr/local/lib/python3.10/dist-packages (from shap) (23.1)\n",
            "Collecting slicer==0.0.7 (from shap)\n",
            "  Downloading slicer-0.0.7-py3-none-any.whl (14 kB)\n",
            "Requirement already satisfied: numba in /usr/local/lib/python3.10/dist-packages (from shap) (0.56.4)\n",
            "Requirement already satisfied: cloudpickle in /usr/local/lib/python3.10/dist-packages (from shap) (2.2.1)\n",
            "Requirement already satisfied: llvmlite<0.40,>=0.39.0dev0 in /usr/local/lib/python3.10/dist-packages (from numba->shap) (0.39.1)\n",
            "Requirement already satisfied: setuptools in /usr/local/lib/python3.10/dist-packages (from numba->shap) (67.7.2)\n",
            "Requirement already satisfied: python-dateutil>=2.8.1 in /usr/local/lib/python3.10/dist-packages (from pandas->wooldridge) (2.8.2)\n",
            "Requirement already satisfied: pytz>=2020.1 in /usr/local/lib/python3.10/dist-packages (from pandas->wooldridge) (2023.3)\n",
            "Requirement already satisfied: joblib>=1.1.1 in /usr/local/lib/python3.10/dist-packages (from scikit-learn->shap) (1.3.2)\n",
            "Requirement already satisfied: threadpoolctl>=2.0.0 in /usr/local/lib/python3.10/dist-packages (from scikit-learn->shap) (3.2.0)\n",
            "Requirement already satisfied: six>=1.5 in /usr/local/lib/python3.10/dist-packages (from python-dateutil>=2.8.1->pandas->wooldridge) (1.16.0)\n",
            "Installing collected packages: slicer, wooldridge, shap\n",
            "Successfully installed shap-0.42.1 slicer-0.0.7 wooldridge-0.4.4\n"
          ]
        }
      ]
    },
    {
      "cell_type": "code",
      "metadata": {
        "id": "XkwmPTn5TIfx",
        "colab": {
          "base_uri": "https://localhost:8080/"
        },
        "outputId": "ecc4e53e-e1db-4821-ed56-fae385e33991"
      },
      "source": [
        "import matplotlib.pyplot as plt\n",
        "import numpy as np\n",
        "import pandas as pd\n",
        "import seaborn as sns\n",
        "import wooldridge as wd\n",
        "import shap"
      ],
      "execution_count": 2,
      "outputs": [
        {
          "output_type": "stream",
          "name": "stderr",
          "text": [
            "Using `tqdm.autonotebook.tqdm` in notebook mode. Use `tqdm.tqdm` instead to force console mode (e.g. in jupyter console)\n"
          ]
        }
      ]
    },
    {
      "cell_type": "markdown",
      "metadata": {
        "id": "teeKg4MB1aRP"
      },
      "source": [
        "## Bootstrap\n",
        "\n",
        "Se utiliza para aproximar la distribución en el muestreo de un estadístico.\n",
        "\n",
        "### Algoritmo\n",
        "\n",
        "- Con una muestra dada de datos\n",
        "\n",
        "$$x={x_i;1,...,n}$$\n",
        "\n",
        "- Se seleccionan $B$ muestras bootstrap independientes cada una con $n$ elementos obtenidos de la muestra original.\n",
        "\n",
        "- Para cada muestra bootstrap se calcula el estadístico de interés $\\theta(b)=t(x_B)$\n",
        "\n",
        "- La muestra de estadísticos resultante será la distribución de probabilidades del estadístico.\n",
        "\n",
        "- Se puede calcular el error estándar como:\n",
        "\n",
        "$$se_B=\\bigg\\{\\frac{1}{B-1}\\sum_{b=1}^B[\\theta(b)-\\bar{\\theta}]^2 \\bigg\\}^{1/2}$$\n",
        "\n"
      ]
    },
    {
      "cell_type": "code",
      "metadata": {
        "id": "W2Y2C21ATZgO"
      },
      "source": [
        "from scipy import stats\n",
        "from sklearn.utils import resample"
      ],
      "execution_count": 3,
      "outputs": []
    },
    {
      "cell_type": "code",
      "metadata": {
        "id": "PukIsbJ2TfcU"
      },
      "source": [
        "x = np.random.randn(100)"
      ],
      "execution_count": 4,
      "outputs": []
    },
    {
      "cell_type": "code",
      "metadata": {
        "id": "D7dTHFPqTfPE"
      },
      "source": [
        "boot = resample(x, replace=True, n_samples=len(x))"
      ],
      "execution_count": 5,
      "outputs": []
    },
    {
      "cell_type": "code",
      "metadata": {
        "id": "RgVxWUFqTe95"
      },
      "source": [
        "sample = [resample(x, replace=True, n_samples=len(x)) for _ in range(500)]"
      ],
      "execution_count": 6,
      "outputs": []
    },
    {
      "cell_type": "code",
      "metadata": {
        "id": "nk4gCNNAUwDq"
      },
      "source": [
        "estad = [np.mean(m) for m in sample]"
      ],
      "execution_count": 7,
      "outputs": []
    },
    {
      "cell_type": "code",
      "metadata": {
        "colab": {
          "base_uri": "https://localhost:8080/",
          "height": 621
        },
        "id": "49IoQlh8UvxZ",
        "outputId": "f49605f6-042d-4573-ba9c-75c03eb38e6d"
      },
      "source": [
        "sns.distplot(estad)"
      ],
      "execution_count": 8,
      "outputs": [
        {
          "output_type": "stream",
          "name": "stderr",
          "text": [
            "\n",
            "\n",
            "`distplot` is a deprecated function and will be removed in seaborn v0.14.0.\n",
            "\n",
            "Please adapt your code to use either `displot` (a figure-level function with\n",
            "similar flexibility) or `histplot` (an axes-level function for histograms).\n",
            "\n",
            "For a guide to updating your code to use the new functions, please see\n",
            "https://gist.github.com/mwaskom/de44147ed2974457ad6372750bbe5751\n",
            "\n"
          ]
        },
        {
          "output_type": "execute_result",
          "data": {
            "text/plain": [
              "<Axes: ylabel='Density'>"
            ]
          },
          "metadata": {},
          "execution_count": 8
        },
        {
          "output_type": "display_data",
          "data": {
            "text/plain": [
              "<Figure size 640x480 with 1 Axes>"
            ],
            "image/png": "[encoded data removed]"
          },
          "metadata": {}
        }
      ]
    },
    {
      "cell_type": "markdown",
      "source": [
        "## Métricas de clasificación\n",
        "\n",
        "### Métricas\n",
        "\n",
        "1. Matriz de confusión\n",
        "\n",
        "\n",
        "||Pr|Nr|\n",
        "|---|---|---\n",
        "|Pe|TP|FP|\n",
        "|Ne|FN|TN|\n",
        "\n",
        "Error tipo I: falso positivo\n",
        "\n",
        "Error tipo II: falso negativo\n",
        "\n",
        "2. Accuracy score\n",
        "\n",
        "$$\\frac{TP+TN}{TP+TN+FP+FN}$$\n",
        "\n",
        "3. Recall (sensitivity) score\n",
        "\n",
        "$$\\frac{TP}{TP+FN}$$\n",
        "\n",
        "4. Precision score\n",
        "\n",
        "$$\\frac{TP}{TP+FP}$$\n",
        "\n",
        "5. F1 score\n",
        "\n",
        "$$\\frac{2 \\text{ x precision x recall}}{\\text{precision+recall}}$$\n",
        "\n",
        "6. Specificity\n",
        "\n",
        "$$\\frac{TN}{TN+FP}$$\n",
        "\n",
        "7. ROC curve: Sensitivity vs. 1 - specificity\n",
        "\n",
        "8. Precision-recall curve"
      ],
      "metadata": {
        "id": "igFhWHWyy9X5"
      }
    },
    {
      "cell_type": "markdown",
      "metadata": {
        "id": "xOjW9UO4srBS"
      },
      "source": [
        "## Decision Tree\n",
        "\n",
        "Los métodos basados en árboles que se verán a continuación pueden ser utilizados tanto para regresión como para clasificación.\n",
        "\n",
        "El proceso para la construcción de un árbol de decisión es simple:\n",
        "\n",
        "1. Se divide el espacio de variables independientes en $J$ regiones diferentes sin traslaparse:\n",
        "\n",
        "$$R_1,R_2,...,R_J$$\n",
        "\n",
        "2. Para cada observación que cae en la región $R_j$ se hace la misma predicción, simplemente la media de las variables de respuesta para el número de observaciones en $R_j$.\n",
        "\n",
        "¿Cómo se construyen las regiones $R_1,...,R_J$? El objetivo es encontrar cajas $R_1,...,R_j$ que minimicen RSS\n",
        "\n",
        "$$\\sum_{j=1}^J\\sum_{i\\in R_j}(y_i-\\hat{y}_{R_j})^2$$\n",
        "\n",
        "Donde $\\hat{y}_{R_j}$ es la media de la variable de respuesta para las observaciones de entrenamiento dentro de la $j$-ésima caja.\n",
        "\n",
        "Aunque es la intención, es computacionalmente costoso llevarlo a cabo de esta forma.\n",
        "\n",
        "Para contrarrestar esto se puede hacer splitting binario recursivo. Se selecciona una variable $X_j$ y el punto de corte $s$ de tal forma que se devida el espacio de la variable en las regiones\n",
        "\n",
        "$$\\{X|X_j<s\\} \\text{ y }\\{X|X_j\\geq s\\}$$\n",
        "\n",
        "que lleven a la mayor reducción posible en RSS.\n",
        "\n",
        "Formalmente, para cualquier $j$ y $s$ se define un par de planos\n",
        "\n",
        "$$R_1(j,s)=\\{X|X_j <s\\} \\text{ y }R_2(j,s)=\\{X|X_j\\geq s\\}$$\n",
        "\n",
        "y se busca el valor de $j$ y $s$ que minimice la ecuación\n",
        "\n",
        "$$\\sum_{}(y_i-\\hat{y}_{R_1})^2+\\sum_{}(y_i-\\hat{y}_{R_2})^2$$\n",
        "\n",
        "El proceso continúa hasta que se alcance un criterio determinado.\n",
        "\n",
        "Es posible que este proceso pueda producir buenas predicciones en el conjunto de entrenamienot, pero puede llevar a un mal desempeño en el conjunto de testeo. Hay una estrategia y consiste en hacer crecer un árbol grande $T_0$ y podarlo para obtener un subárbol. ¿Cuál es la mejor forma de podar? Tomar cada subárbol es costoso computacionalmente, así que se toma una secuencia de árobles indexados por un parámetro no negativo $\\alpha$. Para cada valor de $\\alpha$ corresponde un subárbol $T$ $\\subset$ $T_0$ tal que\n",
        "\n",
        "$$\\sum_{m=1}^{|T|}\\sum_{i:x_i \\in R_m}(y_i-\\hat{y}_{R_m})^2+\\alpha|T|$$\n",
        "\n",
        "sea tan pequeño como sea posible.\n",
        "\n",
        "El algoritmo para regresión es el siguiente:\n",
        "\n",
        "1. Emplear splitting binario recursivo para hacer crecer un árbol, deteniéndose únicamente cuando cada nodo temrinal tenga menos de un número específico de observaciones.\n",
        "\n",
        "2. Aplicar cost complexity pruning al árbol para obtener una secuencia de mejores subárboles, como una función de $\\alpha$.\n",
        "\n",
        "3. Utilizar K-fold cross-validation para escoger $\\alpha$. Esto es dividir el conjunto de entrenamiento en $K$ folds para encontrar el mejor $\\alpha$.\n",
        "\n",
        "4. Devolver el árbol que corresponda con el mejor valor de $\\alpha$.\n",
        "\n",
        "Básicamente, hacer crecer un árbol y encontrar el que mejor parámetro $\\alpha$ tenga."
      ]
    },
    {
      "cell_type": "code",
      "metadata": {
        "id": "yWbxCsu8SSWV"
      },
      "source": [
        "from sklearn.tree import DecisionTreeRegressor\n",
        "from sklearn.model_selection import train_test_split\n",
        "from sklearn.metrics import mean_squared_error, mean_absolute_error, max_error"
      ],
      "execution_count": 9,
      "outputs": []
    },
    {
      "cell_type": "code",
      "source": [
        "!pip install wooldridge\n",
        "from sklearn.tree import DecisionTreeClassifier\n",
        "from sklearn.ensemble import RandomForestClassifier, BaggingClassifier\n",
        "from sklearn.model_selection import train_test_split, GridSearchCV\n",
        "from sklearn.metrics import accuracy_score, f1_score, precision_score, recall_score, confusion_matrix\n",
        "import wooldridge as wd"
      ],
      "metadata": {
        "colab": {
          "base_uri": "https://localhost:8080/"
        },
        "id": "cBor_TOP8X6q",
        "outputId": "c6189435-7340-44c5-b2e4-1d4782429132"
      },
      "execution_count": 10,
      "outputs": [
        {
          "output_type": "stream",
          "name": "stdout",
          "text": [
            "Requirement already satisfied: wooldridge in /usr/local/lib/python3.10/dist-packages (0.4.4)\n",
            "Requirement already satisfied: pandas in /usr/local/lib/python3.10/dist-packages (from wooldridge) (1.5.3)\n",
            "Requirement already satisfied: python-dateutil>=2.8.1 in /usr/local/lib/python3.10/dist-packages (from pandas->wooldridge) (2.8.2)\n",
            "Requirement already satisfied: pytz>=2020.1 in /usr/local/lib/python3.10/dist-packages (from pandas->wooldridge) (2023.3)\n",
            "Requirement already satisfied: numpy>=1.21.0 in /usr/local/lib/python3.10/dist-packages (from pandas->wooldridge) (1.23.5)\n",
            "Requirement already satisfied: six>=1.5 in /usr/local/lib/python3.10/dist-packages (from python-dateutil>=2.8.1->pandas->wooldridge) (1.16.0)\n"
          ]
        }
      ]
    },
    {
      "cell_type": "code",
      "source": [
        "df = wd.data('mroz')"
      ],
      "metadata": {
        "id": "P7aAN3-582c5"
      },
      "execution_count": 11,
      "outputs": []
    },
    {
      "cell_type": "code",
      "source": [
        "df.info()"
      ],
      "metadata": {
        "colab": {
          "base_uri": "https://localhost:8080/"
        },
        "id": "jliUJ1wU-Be9",
        "outputId": "8642d363-a6bc-4fa3-badf-9eabdbf34044"
      },
      "execution_count": null,
      "outputs": [
        {
          "output_type": "stream",
          "name": "stdout",
          "text": [
            "<class 'pandas.core.frame.DataFrame'>\n",
            "RangeIndex: 753 entries, 0 to 752\n",
            "Data columns (total 22 columns):\n",
            " #   Column    Non-Null Count  Dtype  \n",
            "---  ------    --------------  -----  \n",
            " 0   inlf      753 non-null    int64  \n",
            " 1   hours     753 non-null    int64  \n",
            " 2   kidslt6   753 non-null    int64  \n",
            " 3   kidsge6   753 non-null    int64  \n",
            " 4   age       753 non-null    int64  \n",
            " 5   educ      753 non-null    int64  \n",
            " 6   wage      428 non-null    float64\n",
            " 7   repwage   753 non-null    float64\n",
            " 8   hushrs    753 non-null    int64  \n",
            " 9   husage    753 non-null    int64  \n",
            " 10  huseduc   753 non-null    int64  \n",
            " 11  huswage   753 non-null    float64\n",
            " 12  faminc    753 non-null    float64\n",
            " 13  mtr       753 non-null    float64\n",
            " 14  motheduc  753 non-null    int64  \n",
            " 15  fatheduc  753 non-null    int64  \n",
            " 16  unem      753 non-null    float64\n",
            " 17  city      753 non-null    int64  \n",
            " 18  exper     753 non-null    int64  \n",
            " 19  nwifeinc  753 non-null    float64\n",
            " 20  lwage     428 non-null    float64\n",
            " 21  expersq   753 non-null    int64  \n",
            "dtypes: float64(8), int64(14)\n",
            "memory usage: 129.5 KB\n"
          ]
        }
      ]
    },
    {
      "cell_type": "code",
      "source": [
        "y = df['inlf']\n",
        "X = df[['kidslt6','age']]"
      ],
      "metadata": {
        "id": "sAb-bOH4-AU3"
      },
      "execution_count": null,
      "outputs": []
    },
    {
      "cell_type": "code",
      "source": [
        "X_train, X_test, y_train, y_test = train_test_split(X, y, test_size=0.2)"
      ],
      "metadata": {
        "id": "L0u__W0_-HRW"
      },
      "execution_count": null,
      "outputs": []
    },
    {
      "cell_type": "code",
      "source": [
        "def metricas(y_test, y_pred):\n",
        "  print(f'Accuracy: {accuracy_score(y_test, y_pred)}')\n",
        "  print(f'f1_score: {f1_score(y_test, y_pred)}')"
      ],
      "metadata": {
        "id": "Gr0i3WPH-fNs"
      },
      "execution_count": null,
      "outputs": []
    },
    {
      "cell_type": "code",
      "source": [
        "tree = DecisionTreeClassifier()\n",
        "tree.fit(X_train, y_train)\n",
        "y_pred = tree.predict(X_test)\n",
        "metricas(y_test, y_pred)"
      ],
      "metadata": {
        "colab": {
          "base_uri": "https://localhost:8080/"
        },
        "id": "CG1BZkPV-IMx",
        "outputId": "96e69576-3a58-45e4-889c-6380400ebec2"
      },
      "execution_count": null,
      "outputs": [
        {
          "output_type": "stream",
          "name": "stdout",
          "text": [
            "Accuracy: 0.5629139072847682\n",
            "f1_score: 0.6597938144329897\n"
          ]
        }
      ]
    },
    {
      "cell_type": "code",
      "source": [
        "param_grid = {'max_depth': [2, 3, 4, 5, 6, 7, 8],\n",
        "              'min_samples_split': [4, 5, 6, 7, 8]}\n",
        "\n",
        "tree_grid = GridSearchCV(DecisionTreeClassifier(), param_grid=param_grid, cv=5)"
      ],
      "metadata": {
        "id": "pxA9ZG4Y_Glq"
      },
      "execution_count": null,
      "outputs": []
    },
    {
      "cell_type": "code",
      "source": [
        "tree_grid.fit(X_train, y_train)"
      ],
      "metadata": {
        "colab": {
          "base_uri": "https://localhost:8080/",
          "height": 116
        },
        "id": "jtshXN3F_elY",
        "outputId": "8a5eecdd-8c19-44c7-b80d-457159a7ee4b"
      },
      "execution_count": null,
      "outputs": [
        {
          "output_type": "execute_result",
          "data": {
            "text/plain": [
              "GridSearchCV(cv=5, estimator=DecisionTreeClassifier(),\n",
              "             param_grid={'max_depth': [2, 3, 4, 5, 6, 7, 8],\n",
              "                         'min_samples_split': [4, 5, 6, 7, 8]})"
            ],
            "text/html": [
              "<style>#sk-container-id-2 {color: black;background-color: white;}#sk-container-id-2 pre{padding: 0;}#sk-container-id-2 div.sk-toggleable {background-color: white;}#sk-container-id-2 label.sk-toggleable__label {cursor: pointer;display: block;width: 100%;margin-bottom: 0;padding: 0.3em;box-sizing: border-box;text-align: center;}#sk-container-id-2 label.sk-toggleable__label-arrow:before {content: \"▸\";float: left;margin-right: 0.25em;color: #696969;}#sk-container-id-2 label.sk-toggleable__label-arrow:hover:before {color: black;}#sk-container-id-2 div.sk-estimator:hover label.sk-toggleable__label-arrow:before {color: black;}#sk-container-id-2 div.sk-toggleable__content {max-height: 0;max-width: 0;overflow: hidden;text-align: left;background-color: #f0f8ff;}#sk-container-id-2 div.sk-toggleable__content pre {margin: 0.2em;color: black;border-radius: 0.25em;background-color: #f0f8ff;}#sk-container-id-2 input.sk-toggleable__control:checked~div.sk-toggleable__content {max-height: 200px;max-width: 100%;overflow: auto;}#sk-container-id-2 input.sk-toggleable__control:checked~label.sk-toggleable__label-arrow:before {content: \"▾\";}#sk-container-id-2 div.sk-estimator input.sk-toggleable__control:checked~label.sk-toggleable__label {background-color: #d4ebff;}#sk-container-id-2 div.sk-label input.sk-toggleable__control:checked~label.sk-toggleable__label {background-color: #d4ebff;}#sk-container-id-2 input.sk-hidden--visually {border: 0;clip: rect(1px 1px 1px 1px);clip: rect(1px, 1px, 1px, 1px);height: 1px;margin: -1px;overflow: hidden;padding: 0;position: absolute;width: 1px;}#sk-container-id-2 div.sk-estimator {font-family: monospace;background-color: #f0f8ff;border: 1px dotted black;border-radius: 0.25em;box-sizing: border-box;margin-bottom: 0.5em;}#sk-container-id-2 div.sk-estimator:hover {background-color: #d4ebff;}#sk-container-id-2 div.sk-parallel-item::after {content: \"\";width: 100%;border-bottom: 1px solid gray;flex-grow: 1;}#sk-container-id-2 div.sk-label:hover label.sk-toggleable__label {background-color: #d4ebff;}#sk-container-id-2 div.sk-serial::before {content: \"\";position: absolute;border-left: 1px solid gray;box-sizing: border-box;top: 0;bottom: 0;left: 50%;z-index: 0;}#sk-container-id-2 div.sk-serial {display: flex;flex-direction: column;align-items: center;background-color: white;padding-right: 0.2em;padding-left: 0.2em;position: relative;}#sk-container-id-2 div.sk-item {position: relative;z-index: 1;}#sk-container-id-2 div.sk-parallel {display: flex;align-items: stretch;justify-content: center;background-color: white;position: relative;}#sk-container-id-2 div.sk-item::before, #sk-container-id-2 div.sk-parallel-item::before {content: \"\";position: absolute;border-left: 1px solid gray;box-sizing: border-box;top: 0;bottom: 0;left: 50%;z-index: -1;}#sk-container-id-2 div.sk-parallel-item {display: flex;flex-direction: column;z-index: 1;position: relative;background-color: white;}#sk-container-id-2 div.sk-parallel-item:first-child::after {align-self: flex-end;width: 50%;}#sk-container-id-2 div.sk-parallel-item:last-child::after {align-self: flex-start;width: 50%;}#sk-container-id-2 div.sk-parallel-item:only-child::after {width: 0;}#sk-container-id-2 div.sk-dashed-wrapped {border: 1px dashed gray;margin: 0 0.4em 0.5em 0.4em;box-sizing: border-box;padding-bottom: 0.4em;background-color: white;}#sk-container-id-2 div.sk-label label {font-family: monospace;font-weight: bold;display: inline-block;line-height: 1.2em;}#sk-container-id-2 div.sk-label-container {text-align: center;}#sk-container-id-2 div.sk-container {/* jupyter's `normalize.less` sets `[hidden] { display: none; }` but bootstrap.min.css set `[hidden] { display: none !important; }` so we also need the `!important` here to be able to override the default hidden behavior on the sphinx rendered scikit-learn.org. See: https://github.com/scikit-learn/scikit-learn/issues/21755 */display: inline-block !important;position: relative;}#sk-container-id-2 div.sk-text-repr-fallback {display: none;}</style><div id=\"sk-container-id-2\" class=\"sk-top-container\"><div class=\"sk-text-repr-fallback\"><pre>GridSearchCV(cv=5, estimator=DecisionTreeClassifier(),\n",
              "             param_grid={&#x27;max_depth&#x27;: [2, 3, 4, 5, 6, 7, 8],\n",
              "                         &#x27;min_samples_split&#x27;: [4, 5, 6, 7, 8]})</pre><b>In a Jupyter environment, please rerun this cell to show the HTML representation or trust the notebook. <br />On GitHub, the HTML representation is unable to render, please try loading this page with nbviewer.org.</b></div><div class=\"sk-container\" hidden><div class=\"sk-item sk-dashed-wrapped\"><div class=\"sk-label-container\"><div class=\"sk-label sk-toggleable\"><input class=\"sk-toggleable__control sk-hidden--visually\" id=\"sk-estimator-id-4\" type=\"checkbox\" ><label for=\"sk-estimator-id-4\" class=\"sk-toggleable__label sk-toggleable__label-arrow\">GridSearchCV</label><div class=\"sk-toggleable__content\"><pre>GridSearchCV(cv=5, estimator=DecisionTreeClassifier(),\n",
              "             param_grid={&#x27;max_depth&#x27;: [2, 3, 4, 5, 6, 7, 8],\n",
              "                         &#x27;min_samples_split&#x27;: [4, 5, 6, 7, 8]})</pre></div></div></div><div class=\"sk-parallel\"><div class=\"sk-parallel-item\"><div class=\"sk-item\"><div class=\"sk-label-container\"><div class=\"sk-label sk-toggleable\"><input class=\"sk-toggleable__control sk-hidden--visually\" id=\"sk-estimator-id-5\" type=\"checkbox\" ><label for=\"sk-estimator-id-5\" class=\"sk-toggleable__label sk-toggleable__label-arrow\">estimator: DecisionTreeClassifier</label><div class=\"sk-toggleable__content\"><pre>DecisionTreeClassifier()</pre></div></div></div><div class=\"sk-serial\"><div class=\"sk-item\"><div class=\"sk-estimator sk-toggleable\"><input class=\"sk-toggleable__control sk-hidden--visually\" id=\"sk-estimator-id-6\" type=\"checkbox\" ><label for=\"sk-estimator-id-6\" class=\"sk-toggleable__label sk-toggleable__label-arrow\">DecisionTreeClassifier</label><div class=\"sk-toggleable__content\"><pre>DecisionTreeClassifier()</pre></div></div></div></div></div></div></div></div></div></div>"
            ]
          },
          "metadata": {},
          "execution_count": 32
        }
      ]
    },
    {
      "cell_type": "code",
      "source": [
        "y_pred = tree_grid.predict(X_test)"
      ],
      "metadata": {
        "id": "iHA8YGq3_efR"
      },
      "execution_count": null,
      "outputs": []
    },
    {
      "cell_type": "code",
      "source": [
        "metricas(y_pred, y_test)"
      ],
      "metadata": {
        "colab": {
          "base_uri": "https://localhost:8080/"
        },
        "id": "SEXPqLHK_l1Y",
        "outputId": "dfacab65-ad30-4127-e281-0738c91fd19f"
      },
      "execution_count": null,
      "outputs": [
        {
          "output_type": "stream",
          "name": "stdout",
          "text": [
            "Accuracy: 0.5761589403973509\n",
            "f1_score: 0.6190476190476191\n"
          ]
        }
      ]
    },
    {
      "cell_type": "code",
      "source": [
        "rf = RandomForestClassifier()\n",
        "rf.fit(X_train, y_train)\n",
        "y_pred = rf.predict(X_test)\n",
        "metricas(y_test, y_pred)"
      ],
      "metadata": {
        "colab": {
          "base_uri": "https://localhost:8080/"
        },
        "id": "XOG7Fn61_8m3",
        "outputId": "94f8adb1-5cf3-4fce-aafa-a0c74cc05df9"
      },
      "execution_count": null,
      "outputs": [
        {
          "output_type": "stream",
          "name": "stdout",
          "text": [
            "Accuracy: 0.5761589403973509\n",
            "f1_score: 0.6862745098039216\n"
          ]
        }
      ]
    },
    {
      "cell_type": "code",
      "source": [
        "param_grid = {'n_estimators':[50, 100, 150, 200],\n",
        "              'max_depth': [4, 5, 6, 7, 8, 9, 10],\n",
        "              'min_samples_split': [5, 10, 15, 20],\n",
        "              'criterion': ['gini', 'entropy'],\n",
        "              'min_samples_leaf': [5, 10, 15, 20]}\n",
        "\n",
        "rf_grid = GridSearchCV(RandomForestClassifier(), param_grid=param_grid, cv=3)\n",
        "rf_grid.fit(X_train, y_train)\n",
        "y_pred = rf_grid.predict(X_test)\n",
        "metricas(y_test, y_pred)\n",
        ""
      ],
      "metadata": {
        "colab": {
          "base_uri": "https://localhost:8080/"
        },
        "id": "MNSrgjebAk0t",
        "outputId": "c0aacbc0-b909-4db1-8c3c-59d6100fefb6"
      },
      "execution_count": null,
      "outputs": [
        {
          "output_type": "stream",
          "name": "stdout",
          "text": [
            "Accuracy: 0.5960264900662252\n",
            "f1_score: 0.6702702702702703\n"
          ]
        }
      ]
    },
    {
      "cell_type": "code",
      "source": [
        "import seaborn as sns"
      ],
      "metadata": {
        "id": "WJxRUoja-4H6"
      },
      "execution_count": null,
      "outputs": []
    },
    {
      "cell_type": "code",
      "source": [
        "sns.heatmap(confusion_matrix(y_test, y_pred), annot=True, cmap='Blues')"
      ],
      "metadata": {
        "colab": {
          "base_uri": "https://localhost:8080/",
          "height": 282
        },
        "id": "KltFyyiP-IK0",
        "outputId": "a078517f-7e54-43d4-fa24-9ef6ee066dd8"
      },
      "execution_count": null,
      "outputs": [
        {
          "output_type": "execute_result",
          "data": {
            "text/plain": [
              "<Axes: >"
            ]
          },
          "metadata": {},
          "execution_count": 17
        },
        {
          "output_type": "display_data",
          "data": {
            "text/plain": [
              "<Figure size 432x288 with 2 Axes>"
            ],
            "image/png": "[encoded data removed]"
          },
          "metadata": {
            "needs_background": "light"
          }
        }
      ]
    },
    {
      "cell_type": "code",
      "metadata": {
        "id": "iR6T6XYesLpt"
      },
      "source": [
        "gpa = wd.data('gpa1')"
      ],
      "execution_count": null,
      "outputs": []
    },
    {
      "cell_type": "code",
      "metadata": {
        "colab": {
          "base_uri": "https://localhost:8080/"
        },
        "id": "p5tiDhiuPyIS",
        "outputId": "69482edc-e388-4db6-90c8-5f49b6461ed6"
      },
      "source": [
        "wd.data('gpa1', description=True)"
      ],
      "execution_count": null,
      "outputs": [
        {
          "output_type": "stream",
          "name": "stdout",
          "text": [
            "name of dataset: gpa1\n",
            "no of variables: 29\n",
            "no of observations: 141\n",
            "\n",
            "+----------+--------------------------------+\n",
            "| variable | label                          |\n",
            "+----------+--------------------------------+\n",
            "| age      | in years                       |\n",
            "| soph     | =1 if sophomore                |\n",
            "| junior   | =1 if junior                   |\n",
            "| senior   | =1 if senior                   |\n",
            "| senior5  | =1 if fifth year senior        |\n",
            "| male     | =1 if male                     |\n",
            "| campus   | =1 if live on campus           |\n",
            "| business | =1 if business major           |\n",
            "| engineer | =1 if engineering major        |\n",
            "| colGPA   | MSU GPA                        |\n",
            "| hsGPA    | high school GPA                |\n",
            "| ACT      | 'achievement' score            |\n",
            "| job19    | =1 if job <= 19 hours          |\n",
            "| job20    | =1 if job >= 20 hours          |\n",
            "| drive    | =1 if drive to campus          |\n",
            "| bike     | =1 if bicycle to campus        |\n",
            "| walk     | =1 if walk to campus           |\n",
            "| voluntr  | =1 if do volunteer work        |\n",
            "| PC       | =1 of pers computer at sch     |\n",
            "| greek    | =1 if fraternity or sorority   |\n",
            "| car      | =1 if own car                  |\n",
            "| siblings | =1 if have siblings            |\n",
            "| bgfriend | =1 if boy- or girlfriend       |\n",
            "| clubs    | =1 if belong to MSU club       |\n",
            "| skipped  | avg lectures missed per week   |\n",
            "| alcohol  | avg # days per week drink alc. |\n",
            "| gradMI   | =1 if Michigan high school     |\n",
            "| fathcoll | =1 if father college grad      |\n",
            "| mothcoll | =1 if mother college grad      |\n",
            "+----------+--------------------------------+\n",
            "\n",
            "Christopher Lemmon, a former MSU undergraduate, collected these data\n",
            "from a survey he took of MSU students in Fall 1994.\n"
          ]
        }
      ]
    },
    {
      "cell_type": "code",
      "metadata": {
        "colab": {
          "base_uri": "https://localhost:8080/",
          "height": 297
        },
        "id": "4sFraDsg_ay-",
        "outputId": "0ee76402-8557-4a57-87ad-726f892617c4"
      },
      "source": [
        "sns.histplot(data=gpa, x='colGPA', bins=15)"
      ],
      "execution_count": null,
      "outputs": [
        {
          "output_type": "execute_result",
          "data": {
            "text/plain": [
              "<matplotlib.axes._subplots.AxesSubplot at 0x7fdd6e65ae90>"
            ]
          },
          "metadata": {},
          "execution_count": 12
        },
        {
          "output_type": "display_data",
          "data": {
            "text/plain": [
              "<Figure size 432x288 with 1 Axes>"
            ],
            "image/png": "[encoded data removed]"
          },
          "metadata": {
            "needs_background": "light"
          }
        }
      ]
    },
    {
      "cell_type": "code",
      "metadata": {
        "id": "l9AqJZKe_x8X"
      },
      "source": [
        "X = gpa.filter(['PC','hsGPA','ACT'])\n",
        "y = gpa.pop('colGPA')"
      ],
      "execution_count": null,
      "outputs": []
    },
    {
      "cell_type": "code",
      "metadata": {
        "id": "t_U45Au4_6dO"
      },
      "source": [
        "X_train, X_test, y_train, y_test = train_test_split(X,y, test_size=0.2, random_state=42)"
      ],
      "execution_count": null,
      "outputs": []
    },
    {
      "cell_type": "code",
      "metadata": {
        "colab": {
          "base_uri": "https://localhost:8080/"
        },
        "id": "Zc2t8KYy_6W9",
        "outputId": "d2b07e5f-c0d9-4af3-a388-184409327306"
      },
      "source": [
        "reg_tree = DecisionTreeRegressor(max_depth=4)\n",
        "reg_tree.fit(X_train, y_train)"
      ],
      "execution_count": null,
      "outputs": [
        {
          "output_type": "execute_result",
          "data": {
            "text/plain": [
              "DecisionTreeRegressor(max_depth=4)"
            ]
          },
          "metadata": {},
          "execution_count": 15
        }
      ]
    },
    {
      "cell_type": "code",
      "metadata": {
        "id": "AjVwuZvqARrM"
      },
      "source": [
        "y_pred = reg_tree.predict(X_test)\n",
        "y_fit_train = reg_tree.predict(X_train)"
      ],
      "execution_count": null,
      "outputs": []
    },
    {
      "cell_type": "code",
      "metadata": {
        "id": "HyHH35yKARad"
      },
      "source": [
        "def metricas(y_true, y_pred):\n",
        "  print(f'MSE: {mean_squared_error(y_true, y_pred)}')\n",
        "  print(f'MAE: {mean_absolute_error(y_true, y_pred)}')\n",
        "  print(f'RMSE: {np.sqrt(mean_squared_error(y_true,y_pred))}')"
      ],
      "execution_count": null,
      "outputs": []
    },
    {
      "cell_type": "code",
      "metadata": {
        "colab": {
          "base_uri": "https://localhost:8080/"
        },
        "id": "whBLs20L_6P9",
        "outputId": "4c70be4b-13a0-45bd-d86b-7a85c92c673e"
      },
      "source": [
        "print('Métricas del entrenamiento',end='\\n')\n",
        "print('---'*10)\n",
        "metricas(y_train, y_fit_train)\n",
        "print('---'*10)\n",
        "print('Métricas del testeo')\n",
        "print('---'*10)\n",
        "metricas(y_test, y_pred)"
      ],
      "execution_count": null,
      "outputs": [
        {
          "output_type": "stream",
          "name": "stdout",
          "text": [
            "Métricas del entrenamiento\n",
            "------------------------------\n",
            "MSE: 0.08627729899187123\n",
            "MAE: 0.23557414744824343\n",
            "RMSE: 0.29372997632497644\n",
            "------------------------------\n",
            "Métricas del testeo\n",
            "------------------------------\n",
            "MSE: 0.1054165372866283\n",
            "MAE: 0.2359905482789325\n",
            "RMSE: 0.32467912973677304\n"
          ]
        }
      ]
    },
    {
      "cell_type": "code",
      "metadata": {
        "id": "lZrBkYCUB16F",
        "colab": {
          "base_uri": "https://localhost:8080/",
          "height": 466
        },
        "outputId": "e8e5ce6a-a2af-4f8a-a622-c44f8a695d93"
      },
      "source": [
        "from sklearn import tree\n",
        "\n",
        "fig, ax = plt.subplots(1,1, figsize=(14,8))\n",
        "tree.plot_tree(reg_tree, ax=ax)\n",
        "plt.show()"
      ],
      "execution_count": null,
      "outputs": [
        {
          "output_type": "display_data",
          "data": {
            "text/plain": [
              "<Figure size 1008x576 with 1 Axes>"
            ],
            "image/png": "[encoded data removed]"
          },
          "metadata": {
            "needs_background": "light"
          }
        }
      ]
    },
    {
      "cell_type": "code",
      "metadata": {
        "id": "osdXa1p5Cuxu"
      },
      "source": [
        "wage1 = wd.data('wage1')"
      ],
      "execution_count": null,
      "outputs": []
    },
    {
      "cell_type": "code",
      "metadata": {
        "id": "2qY8xo4oCyyv"
      },
      "source": [
        "X = wage1.filter(['female','educ','exper','tenure'])\n",
        "y = wage1.pop('wage')"
      ],
      "execution_count": null,
      "outputs": []
    },
    {
      "cell_type": "code",
      "metadata": {
        "id": "TGyzH56FCysM"
      },
      "source": [
        "X_train, X_test, y_train, y_test = train_test_split(X, y, test_size=0.2, random_state=42)"
      ],
      "execution_count": null,
      "outputs": []
    },
    {
      "cell_type": "code",
      "metadata": {
        "colab": {
          "base_uri": "https://localhost:8080/"
        },
        "id": "i3b51c21DBPs",
        "outputId": "2a0b2612-2da8-428a-a837-0125986d4b16"
      },
      "source": [
        "reg_tree2 = DecisionTreeRegressor(max_depth=3)\n",
        "reg_tree2.fit(X_train, y_train)"
      ],
      "execution_count": null,
      "outputs": [
        {
          "output_type": "execute_result",
          "data": {
            "text/plain": [
              "DecisionTreeRegressor(max_depth=3)"
            ]
          },
          "metadata": {},
          "execution_count": 86
        }
      ]
    },
    {
      "cell_type": "code",
      "metadata": {
        "id": "zDngQLnMDBHi"
      },
      "source": [
        "y_pred = reg_tree2.predict(X_test)\n",
        "y_pred_train = reg_tree2.predict(X_train)"
      ],
      "execution_count": null,
      "outputs": []
    },
    {
      "cell_type": "code",
      "metadata": {
        "colab": {
          "base_uri": "https://localhost:8080/"
        },
        "id": "a1jt6u-eDA-q",
        "outputId": "9345fe57-7647-430e-c3db-cf9b06becba2"
      },
      "source": [
        "print('Métricas del entrenamiento',end='\\n')\n",
        "print('---'*10)\n",
        "metricas(y_train, y_pred_train)\n",
        "print('---'*10)\n",
        "print('Métricas del testeo')\n",
        "print('---'*10)\n",
        "metricas(y_test, y_pred)"
      ],
      "execution_count": null,
      "outputs": [
        {
          "output_type": "stream",
          "name": "stdout",
          "text": [
            "Métricas del entrenamiento\n",
            "------------------------------\n",
            "MSE: 8.189002058642126\n",
            "MAE: 1.9846693877965496\n",
            "RMSE: 2.8616432444737283\n",
            "------------------------------\n",
            "Métricas del testeo\n",
            "------------------------------\n",
            "MSE: 9.434193648199999\n",
            "MAE: 2.1117408786822827\n",
            "RMSE: 3.071513250533033\n"
          ]
        }
      ]
    },
    {
      "cell_type": "code",
      "metadata": {
        "id": "5dUxaKz0DA2_",
        "colab": {
          "base_uri": "https://localhost:8080/",
          "height": 516
        },
        "outputId": "5cff883d-9b97-4ff6-8da4-e0b9e4d1550e"
      },
      "source": [
        "tree.plot_tree(reg_tree2)"
      ],
      "execution_count": null,
      "outputs": [
        {
          "output_type": "execute_result",
          "data": {
            "text/plain": [
              "[Text(0.5, 0.875, 'X[1] <= 15.5\\nsquared_error = 13.533\\nsamples = 420\\nvalue = 5.859'),\n",
              " Text(0.25, 0.625, 'X[3] <= 2.5\\nsquared_error = 8.628\\nsamples = 344\\nvalue = 5.195'),\n",
              " Text(0.125, 0.375, 'X[0] <= 0.5\\nsquared_error = 3.86\\nsamples = 177\\nvalue = 4.171'),\n",
              " Text(0.0625, 0.125, 'squared_error = 5.92\\nsamples = 76\\nvalue = 4.884'),\n",
              " Text(0.1875, 0.125, 'squared_error = 1.64\\nsamples = 101\\nvalue = 3.635'),\n",
              " Text(0.375, 0.375, 'X[0] <= 0.5\\nsquared_error = 11.393\\nsamples = 167\\nvalue = 6.281'),\n",
              " Text(0.3125, 0.125, 'squared_error = 14.679\\nsamples = 93\\nvalue = 7.175'),\n",
              " Text(0.4375, 0.125, 'squared_error = 4.992\\nsamples = 74\\nvalue = 5.156'),\n",
              " Text(0.75, 0.625, 'X[3] <= 4.5\\nsquared_error = 24.708\\nsamples = 76\\nvalue = 8.864'),\n",
              " Text(0.625, 0.375, 'X[2] <= 9.5\\nsquared_error = 10.207\\nsamples = 56\\nvalue = 7.287'),\n",
              " Text(0.5625, 0.125, 'squared_error = 5.181\\nsamples = 39\\nvalue = 6.452'),\n",
              " Text(0.6875, 0.125, 'squared_error = 16.464\\nsamples = 17\\nvalue = 9.204'),\n",
              " Text(0.875, 0.375, 'X[3] <= 21.5\\nsquared_error = 38.85\\nsamples = 20\\nvalue = 13.28'),\n",
              " Text(0.8125, 0.125, 'squared_error = 33.708\\nsamples = 17\\nvalue = 12.056'),\n",
              " Text(0.9375, 0.125, 'squared_error = 11.433\\nsamples = 3\\nvalue = 20.213')]"
            ]
          },
          "metadata": {},
          "execution_count": 89
        },
        {
          "output_type": "display_data",
          "data": {
            "text/plain": [
              "<Figure size 432x288 with 1 Axes>"
            ],
            "image/png": "[encoded data removed]"
          },
          "metadata": {
            "needs_background": "light"
          }
        }
      ]
    },
    {
      "cell_type": "code",
      "source": [],
      "metadata": {
        "id": "5ebl3f7g7DCf"
      },
      "execution_count": null,
      "outputs": []
    },
    {
      "cell_type": "code",
      "source": [],
      "metadata": {
        "id": "dbaS6bcA7C_v"
      },
      "execution_count": null,
      "outputs": []
    },
    {
      "cell_type": "code",
      "source": [],
      "metadata": {
        "id": "aCrXTumg7C6n"
      },
      "execution_count": null,
      "outputs": []
    },
    {
      "cell_type": "code",
      "source": [],
      "metadata": {
        "id": "a7_XBDYu7C4A"
      },
      "execution_count": null,
      "outputs": []
    },
    {
      "cell_type": "code",
      "source": [],
      "metadata": {
        "id": "pXQBjbR67Cyy"
      },
      "execution_count": null,
      "outputs": []
    },
    {
      "cell_type": "code",
      "source": [],
      "metadata": {
        "id": "ci8v2adP7Cvg"
      },
      "execution_count": null,
      "outputs": []
    },
    {
      "cell_type": "code",
      "source": [
        "tree"
      ],
      "metadata": {
        "colab": {
          "base_uri": "https://localhost:8080/"
        },
        "id": "RDxYTYB7ugCz",
        "outputId": "9350ff21-b7c3-4c2f-9d49-f76bbec601d5"
      },
      "execution_count": null,
      "outputs": [
        {
          "output_type": "execute_result",
          "data": {
            "text/plain": [
              "<module 'sklearn.tree' from '/usr/local/lib/python3.7/dist-packages/sklearn/tree/__init__.py'>"
            ]
          },
          "metadata": {},
          "execution_count": 90
        }
      ]
    },
    {
      "cell_type": "code",
      "source": [
        "explainer = shap.Explainer(reg_tree2.predict, X_test)\n",
        "shap_values = explainer(X_test)"
      ],
      "metadata": {
        "id": "xMk63sWLuOQ-"
      },
      "execution_count": null,
      "outputs": []
    },
    {
      "cell_type": "code",
      "source": [
        "shap.plots.bar(shap_values)"
      ],
      "metadata": {
        "colab": {
          "base_uri": "https://localhost:8080/",
          "height": 255
        },
        "id": "G7KBHYidunza",
        "outputId": "4512b0f6-0287-4142-e758-e76cda0f8e89"
      },
      "execution_count": null,
      "outputs": [
        {
          "output_type": "display_data",
          "data": {
            "text/plain": [
              "<Figure size 576x252 with 1 Axes>"
            ],
            "image/png": "[encoded data removed]"
          },
          "metadata": {}
        }
      ]
    },
    {
      "cell_type": "code",
      "source": [
        "shap.plots.beeswarm(shap_values, )"
      ],
      "metadata": {
        "colab": {
          "base_uri": "https://localhost:8080/",
          "height": 237
        },
        "id": "lYQ0rGMrvhdy",
        "outputId": "7b776338-f9bf-4d3d-e321-f461c0eb0fdf"
      },
      "execution_count": null,
      "outputs": [
        {
          "output_type": "display_data",
          "data": {
            "text/plain": [
              "<Figure size 576x223.2 with 2 Axes>"
            ],
            "image/png": "[encoded data removed]"
          },
          "metadata": {
            "needs_background": "light"
          }
        }
      ]
    },
    {
      "cell_type": "code",
      "source": [
        "shap.plots.waterfall(shap_values[0])"
      ],
      "metadata": {
        "colab": {
          "base_uri": "https://localhost:8080/",
          "height": 281
        },
        "id": "XKt1rrMQwKBL",
        "outputId": "eaebc038-93f4-4aaf-f1e9-155885241d8e"
      },
      "execution_count": null,
      "outputs": [
        {
          "output_type": "display_data",
          "data": {
            "text/plain": [
              "<Figure size 576x252 with 3 Axes>"
            ],
            "image/png": "[encoded data removed]"
          },
          "metadata": {}
        }
      ]
    },
    {
      "cell_type": "markdown",
      "metadata": {
        "id": "_gGIKxBTEEAi"
      },
      "source": [
        "### Árboles de clasificación\n",
        "\n",
        "El proceso es similar al de un árbol de regresión. Para el problema de regresión, la respuesta predicha para una observación es dada por la media de la respuesta de las observaciones de entrenamiento que pertenecen al mismo nodo. Para los árboles de decisión, se predice que cada observación pertenece a la clase más común en las observaciones de entrenamiento que pertenecen al nodo en cuestión.\n",
        "\n",
        "La diferencia radica en que en este caso no se puede utilizar RSS como criterio para hacer los splits binarios. En su lugar pueden ser utilizados el índice Gini o la entropía:\n",
        "\n",
        "$$G=\\sum_{k=1}^K\\hat{p}_{mk}(1-\\hat{p}_{mk})$$\n",
        "\n",
        "$$D=-\\sum_{k=1}^K\\hat{p}_{mk}\\log \\hat{p}_{mk}$$\n",
        "\n",
        "Cuando se está construyendo un árbol de clasificación, cualquier de los dos es utilizado para evaluar la calidad de un split específico. Pueden ser utilizados para podar el árbol, pero si el ojetivo es la precisión de la predicción la tasa de error de clasificación puede ser mejor\n",
        "\n",
        "$$E=1-\\max_k(\\hat{p}_{mk})$$"
      ]
    },
    {
      "cell_type": "code",
      "metadata": {
        "id": "gCo8fyZvZVJQ"
      },
      "source": [
        "mroz = wd.data('mroz')"
      ],
      "execution_count": null,
      "outputs": []
    },
    {
      "cell_type": "code",
      "metadata": {
        "colab": {
          "base_uri": "https://localhost:8080/"
        },
        "id": "t4jqoscMZYoc",
        "outputId": "151b3f3a-6545-462a-8dd3-85e73fa60609"
      },
      "source": [
        "mroz = wd.data('mroz', description=True)"
      ],
      "execution_count": null,
      "outputs": [
        {
          "output_type": "stream",
          "name": "stdout",
          "text": [
            "name of dataset: mroz\n",
            "no of variables: 22\n",
            "no of observations: 753\n",
            "\n",
            "+----------+---------------------------------+\n",
            "| variable | label                           |\n",
            "+----------+---------------------------------+\n",
            "| inlf     | =1 if in lab frce, 1975         |\n",
            "| hours    | hours worked, 1975              |\n",
            "| kidslt6  | # kids < 6 years                |\n",
            "| kidsge6  | # kids 6-18                     |\n",
            "| age      | woman's age in yrs              |\n",
            "| educ     | years of schooling              |\n",
            "| wage     | est. wage from earn, hrs        |\n",
            "| repwage  | rep. wage at interview in 1976  |\n",
            "| hushrs   | hours worked by husband, 1975   |\n",
            "| husage   | husband's age                   |\n",
            "| huseduc  | husband's years of schooling    |\n",
            "| huswage  | husband's hourly wage, 1975     |\n",
            "| faminc   | family income, 1975             |\n",
            "| mtr      | fed. marg. tax rte facing woman |\n",
            "| motheduc | mother's years of schooling     |\n",
            "| fatheduc | father's years of schooling     |\n",
            "| unem     | unem. rate in county of resid.  |\n",
            "| city     | =1 if live in SMSA              |\n",
            "| exper    | actual labor mkt exper          |\n",
            "| nwifeinc | (faminc - wage*hours)/1000      |\n",
            "| lwage    | log(wage)                       |\n",
            "| expersq  | exper^2                         |\n",
            "+----------+---------------------------------+\n",
            "\n",
            "T.A. Mroz (1987), “The Sensitivity of an Empirical Model of Married\n",
            "Women’s Hours of Work to Economic and Statistical Assumptions,”\n",
            "Econometrica 55, 765-799. Professor Ernst R. Berndt, of MIT, kindly\n",
            "provided the data, which he obtained from Professor Mroz.\n"
          ]
        }
      ]
    },
    {
      "cell_type": "code",
      "metadata": {
        "id": "LFsGrPsYZdZb"
      },
      "source": [
        "y = mroz.pop('inlf')\n",
        "X = mroz.filter(['kidslt6','age','educ','exper'])"
      ],
      "execution_count": null,
      "outputs": []
    },
    {
      "cell_type": "code",
      "metadata": {
        "id": "eViwB8gHEE36"
      },
      "source": [
        "from sklearn.tree import DecisionTreeClassifier\n",
        "from sklearn.metrics import accuracy_score, precision_score, recall_score, confusion_matrix, classification_report"
      ],
      "execution_count": null,
      "outputs": []
    },
    {
      "cell_type": "code",
      "metadata": {
        "id": "8eyBeTPEEcYz"
      },
      "source": [
        "X_train, X_test, y_train, y_test = train_test_split(X,y, test_size=0.2, random_state=42)"
      ],
      "execution_count": null,
      "outputs": []
    },
    {
      "cell_type": "code",
      "metadata": {
        "colab": {
          "base_uri": "https://localhost:8080/"
        },
        "id": "6e_MVzJTEcPT",
        "outputId": "c8c28b5e-72a9-4411-afc1-36a9b33ca15a"
      },
      "source": [
        "clsr = DecisionTreeClassifier(max_depth=4)\n",
        "clsr.fit(X_train, y_train)"
      ],
      "execution_count": null,
      "outputs": [
        {
          "output_type": "execute_result",
          "data": {
            "text/plain": [
              "DecisionTreeClassifier(max_depth=4)"
            ]
          },
          "metadata": {},
          "execution_count": 204
        }
      ]
    },
    {
      "cell_type": "code",
      "metadata": {
        "id": "K-PmK-taEcF3"
      },
      "source": [
        "y_pred = clsr.predict(X_test)\n",
        "y_fit_train = clsr.predict(X_train)"
      ],
      "execution_count": null,
      "outputs": []
    },
    {
      "cell_type": "code",
      "metadata": {
        "id": "6UAzuRx1Eb92"
      },
      "source": [
        "def metricas_clas(y_true, y_pred):\n",
        "  print(f'Accuracy: {accuracy_score(y_true, y_pred)}')\n",
        "  print(f\"Precision: {precision_score(y_true, y_pred, average='weighted')}\")\n",
        "  print(f\"Recall: {recall_score(y_true, y_pred,average='weighted')}\")"
      ],
      "execution_count": null,
      "outputs": []
    },
    {
      "cell_type": "code",
      "metadata": {
        "colab": {
          "base_uri": "https://localhost:8080/"
        },
        "id": "wtZwEdNjEb1P",
        "outputId": "b7e36791-3438-4621-e612-5316c52917c0"
      },
      "source": [
        "print('---'*10)\n",
        "print('Métricas en entrenamiento')\n",
        "print('---'*10)\n",
        "metricas_clas(y_train, y_fit_train)\n",
        "print('---'*10)\n",
        "print('Métricas en testeo')\n",
        "print('---'*10)\n",
        "metricas_clas(y_test, y_pred)"
      ],
      "execution_count": null,
      "outputs": [
        {
          "output_type": "stream",
          "name": "stdout",
          "text": [
            "------------------------------\n",
            "Métricas en entrenamiento\n",
            "------------------------------\n",
            "Accuracy: 0.7408637873754153\n",
            "Precision: 0.7420095758469217\n",
            "Recall: 0.7408637873754153\n",
            "------------------------------\n",
            "Métricas en testeo\n",
            "------------------------------\n",
            "Accuracy: 0.6887417218543046\n",
            "Precision: 0.6906097912116466\n",
            "Recall: 0.6887417218543046\n"
          ]
        }
      ]
    },
    {
      "cell_type": "code",
      "metadata": {
        "colab": {
          "base_uri": "https://localhost:8080/",
          "height": 287
        },
        "id": "BCDddql0GnIJ",
        "outputId": "a3782de7-2dac-480a-af90-a60e5e4db58e"
      },
      "source": [
        "cm = confusion_matrix(y_test, y_pred)\n",
        "sns.heatmap(cm, annot=True)"
      ],
      "execution_count": null,
      "outputs": [
        {
          "output_type": "execute_result",
          "data": {
            "text/plain": [
              "<matplotlib.axes._subplots.AxesSubplot at 0x7fdce8455550>"
            ]
          },
          "metadata": {},
          "execution_count": 208
        },
        {
          "output_type": "display_data",
          "data": {
            "text/plain": [
              "<Figure size 432x288 with 2 Axes>"
            ],
            "image/png": "[encoded data removed]"
          },
          "metadata": {
            "needs_background": "light"
          }
        }
      ]
    },
    {
      "cell_type": "code",
      "metadata": {
        "colab": {
          "base_uri": "https://localhost:8080/",
          "height": 466
        },
        "id": "Sw-2MNCOG6IN",
        "outputId": "541e326d-2df9-4e3d-e499-d3ca3a0e0e57"
      },
      "source": [
        "fig, ax = plt.subplots(1, 1, figsize=(14, 8))\n",
        "tree.plot_tree(clsr, ax=ax)\n",
        "plt.show()"
      ],
      "execution_count": null,
      "outputs": [
        {
          "output_type": "display_data",
          "data": {
            "text/plain": [
              "<Figure size 1008x576 with 1 Axes>"
            ],
            "image/png": "[encoded data removed]"
          },
          "metadata": {
            "needs_background": "light"
          }
        }
      ]
    },
    {
      "cell_type": "code",
      "source": [
        "print(classification_report(y_test, y_pred))"
      ],
      "metadata": {
        "colab": {
          "base_uri": "https://localhost:8080/"
        },
        "id": "j--JlS8OxrAx",
        "outputId": "83b0d5fc-93ac-4200-e879-a2a0c3dd4bed"
      },
      "execution_count": null,
      "outputs": [
        {
          "output_type": "stream",
          "name": "stdout",
          "text": [
            "              precision    recall  f1-score   support\n",
            "\n",
            "           0       0.64      0.67      0.65        66\n",
            "           1       0.73      0.71      0.72        85\n",
            "\n",
            "    accuracy                           0.69       151\n",
            "   macro avg       0.68      0.69      0.69       151\n",
            "weighted avg       0.69      0.69      0.69       151\n",
            "\n"
          ]
        }
      ]
    },
    {
      "cell_type": "code",
      "source": [
        "explainer = shap.Explainer(clsr.predict, X_test)\n",
        "shap_values = explainer(X_test)"
      ],
      "metadata": {
        "id": "O9O-gavBx1PA"
      },
      "execution_count": null,
      "outputs": []
    },
    {
      "cell_type": "code",
      "source": [
        "shap.plots.bar(shap_values)"
      ],
      "metadata": {
        "colab": {
          "base_uri": "https://localhost:8080/",
          "height": 255
        },
        "id": "wnm1aI9iyA4X",
        "outputId": "63b6aa16-198d-4572-b6ed-9d5b0c1635b7"
      },
      "execution_count": null,
      "outputs": [
        {
          "output_type": "display_data",
          "data": {
            "text/plain": [
              "<Figure size 576x252 with 1 Axes>"
            ],
            "image/png": "[encoded data removed]"
          },
          "metadata": {}
        }
      ]
    },
    {
      "cell_type": "code",
      "source": [
        "shap.plots.beeswarm(shap_values)"
      ],
      "metadata": {
        "colab": {
          "base_uri": "https://localhost:8080/",
          "height": 237
        },
        "id": "4ed4YnhJyDzD",
        "outputId": "95866b7e-b554-46e5-ba88-d53e5714be4d"
      },
      "execution_count": null,
      "outputs": [
        {
          "output_type": "display_data",
          "data": {
            "text/plain": [
              "<Figure size 576x223.2 with 2 Axes>"
            ],
            "image/png": "[encoded data removed]"
          },
          "metadata": {
            "needs_background": "light"
          }
        }
      ]
    },
    {
      "cell_type": "code",
      "source": [
        "from sklearn.metrics import RocCurveDisplay, PrecisionRecallDisplay\n",
        "\n",
        "RocCurveDisplay.from_predictions(y_test, y_pred)"
      ],
      "metadata": {
        "colab": {
          "base_uri": "https://localhost:8080/",
          "height": 297
        },
        "id": "mLscCBON0flo",
        "outputId": "2c7284bd-b4c0-4634-f96d-ec2d25f34ff1"
      },
      "execution_count": null,
      "outputs": [
        {
          "output_type": "execute_result",
          "data": {
            "text/plain": [
              "<sklearn.metrics._plot.roc_curve.RocCurveDisplay at 0x7fdce7a7b050>"
            ]
          },
          "metadata": {},
          "execution_count": 214
        },
        {
          "output_type": "display_data",
          "data": {
            "text/plain": [
              "<Figure size 432x288 with 1 Axes>"
            ],
            "image/png": "[encoded data removed]"
          },
          "metadata": {
            "needs_background": "light"
          }
        }
      ]
    },
    {
      "cell_type": "code",
      "source": [
        "PrecisionRecallDisplay.from_estimator(clsr, X_test, y_test)"
      ],
      "metadata": {
        "colab": {
          "base_uri": "https://localhost:8080/",
          "height": 297
        },
        "id": "X0zEVqJJ5pAd",
        "outputId": "7c8eead5-adc4-4667-f986-475fdc412324"
      },
      "execution_count": null,
      "outputs": [
        {
          "output_type": "execute_result",
          "data": {
            "text/plain": [
              "<sklearn.metrics._plot.precision_recall_curve.PrecisionRecallDisplay at 0x7fdce743f410>"
            ]
          },
          "metadata": {},
          "execution_count": 219
        },
        {
          "output_type": "display_data",
          "data": {
            "text/plain": [
              "<Figure size 432x288 with 1 Axes>"
            ],
            "image/png": "[encoded data removed]"
          },
          "metadata": {
            "needs_background": "light"
          }
        }
      ]
    },
    {
      "cell_type": "code",
      "source": [
        "PrecisionRecallDisplay.from_predictions(y_test, y_pred)"
      ],
      "metadata": {
        "colab": {
          "base_uri": "https://localhost:8080/",
          "height": 297
        },
        "id": "X1i-gVto1u7C",
        "outputId": "cbb5a828-559e-4f24-9c40-4d90e5726a9a"
      },
      "execution_count": null,
      "outputs": [
        {
          "output_type": "execute_result",
          "data": {
            "text/plain": [
              "<sklearn.metrics._plot.precision_recall_curve.PrecisionRecallDisplay at 0x7fdce882d450>"
            ]
          },
          "metadata": {},
          "execution_count": 215
        },
        {
          "output_type": "display_data",
          "data": {
            "text/plain": [
              "<Figure size 432x288 with 1 Axes>"
            ],
            "image/png": "[encoded data removed]"
          },
          "metadata": {
            "needs_background": "light"
          }
        }
      ]
    },
    {
      "cell_type": "markdown",
      "metadata": {
        "id": "lD1CuR3yEFad"
      },
      "source": [
        "### Ventajas y desventajas de los árboles de decisión\n",
        "\n",
        "#### Ventajas\n",
        "\n",
        "- Son fáciles de explicar a las personas. Son incluso más fáciles de explicar que la regresión lineal.\n",
        "- Se cree que se parece más a la forma en que una persona toma decisiones que otros modelos.\n",
        "- Los árboles pueden trabajar con variables cualitativas sin la necesidad de crear variables dummy.\n",
        "#### Desventajas\n",
        "\n",
        "- No tienen usualmente la misma precisión de otros modelos de regresión y clasificación.\n",
        "\n",
        "- Los árboles pueden ser poco robustos. Un pequeño cambio en los datos puede provocar un gran cambio en el árbol estimado final.\n",
        "\n",
        "Todo esto se puede mejorar a través de random forests y metodologías de boosting."
      ]
    },
    {
      "cell_type": "markdown",
      "metadata": {
        "id": "LlNqM7mtssnm"
      },
      "source": [
        "## Random Forest\n",
        "\n",
        "Una forma de reducir la varianza de un estimador es promediar juntos varios estimadores. Por ejemplo, se pueden entrenar $M$ árboles diferentes en diferentes subconjuntos de los datos, seleccionados aleatoriamente con remplazo, y así computar el ensable\n",
        "\n",
        "$$f(\\textbf{x})=\\sum_{m=1}^M\\frac{1}{M}f_m(\\textbf{x})$$\n",
        "\n",
        "donde $f_m$ es el árbol $m$-ésimo. Esto es conocido como bagging, que proviene de \"bootstrap aggregating\".\n",
        "\n",
        "No obstante, las consecuencias de estos puede ser que se tengan variables predictoras altamente correlacionadas, lo cuál limita el monto de reducción de varianza posible.\n",
        "\n",
        "La técnica de \"Random forest\" intenta evitar esta correlación creando árboles basados en selección aleatoria subconjunto de variables predictores, así como un subconjunto del total de los datos.\n",
        "\n",
        "Como en el bagging, se construyen un número de árboles de decisión en muestras boostrap de entrenamiento. Pero cuando estos árboles de decisión se van construir, cada vez que se considera un split en el árbol, se toma una muestra aleatoria de $m$ variables predictoras del conjunto total de $p$ variables existentes.\n",
        "\n",
        "La técnica de RF puede que no tome en cuenta la mayoría de las variables. ¿Por qué?\n",
        "\n",
        "Suponga que hay una predictora fuerte, junto con predictoras moderadas. En el bagging, la mayoría o todos los árboles utilizarán la predictora fuerte, como consecuencia los árboles serán muy similares entre sí. RF fuerza que cada split considere solo un subconjunto de las predictoras.\n",
        "\n",
        "Si $m=p$ se tiene bagging, usualmente para RF se piensa en $m=\\sqrt{p}$"
      ]
    },
    {
      "cell_type": "code",
      "metadata": {
        "id": "DYA9YSvbsutv"
      },
      "source": [
        "from sklearn.ensemble import RandomForestClassifier, RandomForestRegressor\n",
        "from sklearn.datasets import make_regression, make_classification"
      ],
      "execution_count": null,
      "outputs": []
    },
    {
      "cell_type": "code",
      "metadata": {
        "id": "B7OSQNmvsvCQ"
      },
      "source": [
        "X, y = make_classification(n_samples=1000,n_features=4)"
      ],
      "execution_count": null,
      "outputs": []
    },
    {
      "cell_type": "code",
      "metadata": {
        "id": "vG5FsVI6dwgi"
      },
      "source": [
        "X_train, X_test, y_train, y_test = train_test_split(X,y, test_size=0.2, random_state=42)"
      ],
      "execution_count": null,
      "outputs": []
    },
    {
      "cell_type": "code",
      "metadata": {
        "colab": {
          "base_uri": "https://localhost:8080/"
        },
        "id": "Z1jl2XRyd_f6",
        "outputId": "4dd2fa21-8ff2-4199-dcb0-b52cbea421c3"
      },
      "source": [
        "rf_cls = RandomForestClassifier(n_estimators=10)\n",
        "rf_cls.fit(X_train,y_train)"
      ],
      "execution_count": null,
      "outputs": [
        {
          "output_type": "execute_result",
          "data": {
            "text/plain": [
              "RandomForestClassifier(n_estimators=10)"
            ]
          },
          "metadata": {},
          "execution_count": 182
        }
      ]
    },
    {
      "cell_type": "code",
      "metadata": {
        "id": "NOEiKu7aeIVM"
      },
      "source": [
        "y_fit_train = rf_cls.predict(X_train)\n",
        "y_pred = rf_cls.predict(X_test)"
      ],
      "execution_count": null,
      "outputs": []
    },
    {
      "cell_type": "code",
      "metadata": {
        "colab": {
          "base_uri": "https://localhost:8080/"
        },
        "id": "FGZQCzihd_VG",
        "outputId": "6f64e381-d732-4e5c-9c47-efab89595a87"
      },
      "source": [
        "print('---'*10)\n",
        "print('Métricas en entrenamiento')\n",
        "print('---'*10)\n",
        "metricas_clas(y_train, y_fit_train)\n",
        "print('---'*10)\n",
        "print('Métricas en testeo')\n",
        "print('---'*10)\n",
        "metricas_clas(y_test, y_pred)"
      ],
      "execution_count": null,
      "outputs": [
        {
          "output_type": "stream",
          "name": "stdout",
          "text": [
            "------------------------------\n",
            "Métricas en entrenamiento\n",
            "------------------------------\n",
            "Accuracy: 0.97875\n",
            "Precision: 0.9789913227016885\n",
            "Recall: 0.97875\n",
            "------------------------------\n",
            "Métricas en testeo\n",
            "------------------------------\n",
            "Accuracy: 0.845\n",
            "Precision: 0.8470192307692307\n",
            "Recall: 0.845\n"
          ]
        }
      ]
    },
    {
      "cell_type": "code",
      "metadata": {
        "colab": {
          "base_uri": "https://localhost:8080/",
          "height": 283
        },
        "id": "wms5g2ndd_KK",
        "outputId": "261fd61a-1625-438a-adff-145e3c6002f6"
      },
      "source": [
        "cm = confusion_matrix(y_test, y_pred)\n",
        "sns.heatmap(cm, annot=True)"
      ],
      "execution_count": null,
      "outputs": [
        {
          "output_type": "execute_result",
          "data": {
            "text/plain": [
              "<matplotlib.axes._subplots.AxesSubplot at 0x7fdce7b834d0>"
            ]
          },
          "metadata": {},
          "execution_count": 185
        },
        {
          "output_type": "display_data",
          "data": {
            "text/plain": [
              "<Figure size 432x288 with 2 Axes>"
            ],
            "image/png": "[encoded data removed]"
          },
          "metadata": {
            "needs_background": "light"
          }
        }
      ]
    },
    {
      "cell_type": "code",
      "source": [
        "print(classification_report(y_test, y_pred))"
      ],
      "metadata": {
        "colab": {
          "base_uri": "https://localhost:8080/"
        },
        "id": "3eCabOHDyT-X",
        "outputId": "c30116e5-5c59-4beb-8794-3181d96f35cb"
      },
      "execution_count": null,
      "outputs": [
        {
          "output_type": "stream",
          "name": "stdout",
          "text": [
            "              precision    recall  f1-score   support\n",
            "\n",
            "           0       0.82      0.88      0.85        97\n",
            "           1       0.88      0.82      0.84       103\n",
            "\n",
            "    accuracy                           0.84       200\n",
            "   macro avg       0.85      0.85      0.84       200\n",
            "weighted avg       0.85      0.84      0.84       200\n",
            "\n"
          ]
        }
      ]
    },
    {
      "cell_type": "code",
      "source": [
        "explainer = shap.Explainer(rf_cls.predict, X_test)\n",
        "shap_values = explainer(X_test)"
      ],
      "metadata": {
        "id": "7jK7EA8oyZO4"
      },
      "execution_count": null,
      "outputs": []
    },
    {
      "cell_type": "code",
      "source": [
        "shap.plots.bar(shap_values)"
      ],
      "metadata": {
        "colab": {
          "base_uri": "https://localhost:8080/",
          "height": 255
        },
        "id": "LKtJKrqeyZMf",
        "outputId": "c000d444-0a16-46ef-bfa8-1819aab09cb2"
      },
      "execution_count": null,
      "outputs": [
        {
          "output_type": "display_data",
          "data": {
            "text/plain": [
              "<Figure size 576x252 with 1 Axes>"
            ],
            "image/png": "[encoded data removed]"
          },
          "metadata": {}
        }
      ]
    },
    {
      "cell_type": "code",
      "source": [
        "shap.plots.beeswarm(shap_values)"
      ],
      "metadata": {
        "colab": {
          "base_uri": "https://localhost:8080/",
          "height": 237
        },
        "id": "1nx-5IiGymz_",
        "outputId": "59ec9743-7a8e-4fb6-d059-c9e64c0ce8a2"
      },
      "execution_count": null,
      "outputs": [
        {
          "output_type": "display_data",
          "data": {
            "text/plain": [
              "<Figure size 576x223.2 with 2 Axes>"
            ],
            "image/png": "[encoded data removed]"
          },
          "metadata": {
            "needs_background": "light"
          }
        }
      ]
    },
    {
      "cell_type": "code",
      "source": [
        "RocCurveDisplay.from_predictions(y_test, y_pred)"
      ],
      "metadata": {
        "colab": {
          "base_uri": "https://localhost:8080/",
          "height": 297
        },
        "id": "0qLWD--I1YOZ",
        "outputId": "04392d3a-e861-40f8-a371-b7200c833e43"
      },
      "execution_count": null,
      "outputs": [
        {
          "output_type": "execute_result",
          "data": {
            "text/plain": [
              "<sklearn.metrics._plot.roc_curve.RocCurveDisplay at 0x7fdce7cf28d0>"
            ]
          },
          "metadata": {},
          "execution_count": 190
        },
        {
          "output_type": "display_data",
          "data": {
            "text/plain": [
              "<Figure size 432x288 with 1 Axes>"
            ],
            "image/png": "[encoded data removed]"
          },
          "metadata": {
            "needs_background": "light"
          }
        }
      ]
    },
    {
      "cell_type": "code",
      "source": [
        "PrecisionRecallDisplay.from_predictions(y_test, y_pred)"
      ],
      "metadata": {
        "colab": {
          "base_uri": "https://localhost:8080/",
          "height": 297
        },
        "id": "12ZU9qM816gq",
        "outputId": "f6712ff0-e342-46bd-9fc6-3697b8f8e1ca"
      },
      "execution_count": null,
      "outputs": [
        {
          "output_type": "execute_result",
          "data": {
            "text/plain": [
              "<sklearn.metrics._plot.precision_recall_curve.PrecisionRecallDisplay at 0x7fdce8387d50>"
            ]
          },
          "metadata": {},
          "execution_count": 196
        },
        {
          "output_type": "display_data",
          "data": {
            "text/plain": [
              "<Figure size 432x288 with 1 Axes>"
            ],
            "image/png": "[encoded data removed]"
          },
          "metadata": {
            "needs_background": "light"
          }
        }
      ]
    },
    {
      "cell_type": "code",
      "metadata": {
        "id": "hOy7Gv7id-_u"
      },
      "source": [
        "X, y = make_regression(n_samples=1000, n_features=4, noise=0.2)"
      ],
      "execution_count": null,
      "outputs": []
    },
    {
      "cell_type": "code",
      "metadata": {
        "id": "XfK9fKcHd-0T"
      },
      "source": [
        "X_train, X_test, y_train, y_test = train_test_split(X,y, test_size=0.2, random_state=42)"
      ],
      "execution_count": null,
      "outputs": []
    },
    {
      "cell_type": "code",
      "metadata": {
        "colab": {
          "base_uri": "https://localhost:8080/"
        },
        "id": "v88R2vkHfL_n",
        "outputId": "7255ff6f-ba30-4fb0-8f34-33eaf37725c5"
      },
      "source": [
        "rf_reg = RandomForestRegressor(max_depth=4, n_estimators=20)\n",
        "rf_reg.fit(X_train, y_train)"
      ],
      "execution_count": null,
      "outputs": [
        {
          "output_type": "execute_result",
          "data": {
            "text/plain": [
              "RandomForestRegressor(max_depth=4, n_estimators=20)"
            ]
          },
          "metadata": {},
          "execution_count": 152
        }
      ]
    },
    {
      "cell_type": "code",
      "metadata": {
        "id": "H_byXjikfLzT"
      },
      "source": [
        "y_fit_train = rf_reg.predict(X_train)\n",
        "y_pred = rf_reg.predict(X_test)"
      ],
      "execution_count": null,
      "outputs": []
    },
    {
      "cell_type": "code",
      "metadata": {
        "colab": {
          "base_uri": "https://localhost:8080/"
        },
        "id": "IOrJ-DG1fLnR",
        "outputId": "95998253-9acc-4a1d-bf15-378b116734f5"
      },
      "source": [
        "print('Métricas del entrenamiento',end='\\n')\n",
        "print('---'*10)\n",
        "metricas(y_train, y_fit_train)\n",
        "print('---'*10)\n",
        "print('Métricas del testeo')\n",
        "print('---'*10)\n",
        "metricas(y_test, y_pred)"
      ],
      "execution_count": null,
      "outputs": [
        {
          "output_type": "stream",
          "name": "stdout",
          "text": [
            "Métricas del entrenamiento\n",
            "------------------------------\n",
            "MSE: 3346.449023051482\n",
            "MAE: 43.38697536830657\n",
            "RMSE: 57.84850061195607\n",
            "------------------------------\n",
            "Métricas del testeo\n",
            "------------------------------\n",
            "MSE: 4391.157771365153\n",
            "MAE: 50.69414743592968\n",
            "RMSE: 66.2658114819788\n"
          ]
        }
      ]
    },
    {
      "cell_type": "code",
      "source": [
        "X_train"
      ],
      "metadata": {
        "colab": {
          "base_uri": "https://localhost:8080/"
        },
        "id": "-HUd3SHMtlLS",
        "outputId": "c145777a-3cc4-42ad-e29e-38b90289f653"
      },
      "execution_count": null,
      "outputs": [
        {
          "output_type": "execute_result",
          "data": {
            "text/plain": [
              "array([[ 0.51481064,  0.0518232 , -0.60234429, -0.49101798],\n",
              "       [ 1.9902416 ,  0.52653726, -0.82243214, -0.20797399],\n",
              "       [-0.57445411,  0.19003424, -1.34644334, -0.28004291],\n",
              "       ...,\n",
              "       [ 1.34261918,  1.0341338 ,  0.22506827, -0.33887945],\n",
              "       [ 0.97827634,  0.69483768,  0.90345869,  0.34743261],\n",
              "       [-0.47756891,  0.42927652,  1.15545582, -0.11841717]])"
            ]
          },
          "metadata": {},
          "execution_count": 155
        }
      ]
    },
    {
      "cell_type": "code",
      "source": [
        "sns.barplot(x=[f'col{i}' for i in range(1, 5)], y=rf_reg.feature_importances_)"
      ],
      "metadata": {
        "colab": {
          "base_uri": "https://localhost:8080/",
          "height": 283
        },
        "id": "IQmvNNYDtdiZ",
        "outputId": "4f5987db-94aa-41d1-cfce-9deaa572cadd"
      },
      "execution_count": null,
      "outputs": [
        {
          "output_type": "execute_result",
          "data": {
            "text/plain": [
              "<matplotlib.axes._subplots.AxesSubplot at 0x7fdce87c4590>"
            ]
          },
          "metadata": {},
          "execution_count": 156
        },
        {
          "output_type": "display_data",
          "data": {
            "text/plain": [
              "<Figure size 432x288 with 1 Axes>"
            ],
            "image/png": "[encoded data removed]"
          },
          "metadata": {
            "needs_background": "light"
          }
        }
      ]
    },
    {
      "cell_type": "code",
      "source": [
        "explainer = shap.Explainer(rf_reg.predict, X_test)\n",
        "shap_values = explainer(X_test)"
      ],
      "metadata": {
        "id": "P15xGRhpyuWI"
      },
      "execution_count": null,
      "outputs": []
    },
    {
      "cell_type": "code",
      "source": [
        "shap.plots.bar(shap_values)"
      ],
      "metadata": {
        "colab": {
          "base_uri": "https://localhost:8080/",
          "height": 255
        },
        "id": "9NcE2kE_yxsw",
        "outputId": "51f6ccaf-f36e-4111-909c-948673568b4b"
      },
      "execution_count": null,
      "outputs": [
        {
          "output_type": "display_data",
          "data": {
            "text/plain": [
              "<Figure size 576x252 with 1 Axes>"
            ],
            "image/png": "[encoded data removed]"
          },
          "metadata": {}
        }
      ]
    },
    {
      "cell_type": "code",
      "source": [
        "shap.plots.beeswarm(shap_values)"
      ],
      "metadata": {
        "colab": {
          "base_uri": "https://localhost:8080/",
          "height": 237
        },
        "id": "cg8GGcpKyxq4",
        "outputId": "ed8b6845-31b3-4575-f720-730fc6281100"
      },
      "execution_count": null,
      "outputs": [
        {
          "output_type": "display_data",
          "data": {
            "text/plain": [
              "<Figure size 576x223.2 with 2 Axes>"
            ],
            "image/png": "[encoded data removed]"
          },
          "metadata": {
            "needs_background": "light"
          }
        }
      ]
    },
    {
      "cell_type": "markdown",
      "metadata": {
        "id": "V0RIIkZIqWgI"
      },
      "source": [
        "## Boosting\n",
        "\n",
        "Existe otro método para mejorar la predicción de un árbol de decisión. Mientras el bagging consiste en crear multiples copias de los datos de entrenamiento utilizando bootstrap, ajustando un árbol de decisión por separado para cada uno, y después los combina para crear un solo modelo predictivo, el boosting hace algo similar, excepto que los árboles crecen secuencialmente: cada árbol crece utilizando información de los árboles precedentes.\n",
        "\n",
        "El boosting no utiliza boostrap, en lugar de eso cada árbol es ajustado en una versión modificada de los datos de entrenamiento."
      ]
    },
    {
      "cell_type": "code",
      "metadata": {
        "id": "_wELx_HNqV7W"
      },
      "source": [
        "from sklearn.tree import DecisionTreeRegressor\n",
        "from sklearn.datasets import make_regression"
      ],
      "execution_count": null,
      "outputs": []
    },
    {
      "cell_type": "code",
      "metadata": {
        "id": "OzguWuM4rJe1"
      },
      "source": [
        "X, y = make_regression(n_samples=1000, n_features=5)"
      ],
      "execution_count": null,
      "outputs": []
    },
    {
      "cell_type": "code",
      "metadata": {
        "id": "c_q1SL2nrJQb"
      },
      "source": [
        "X_train, X_test, y_train, y_test = train_test_split(X,y, test_size=0.2, random_state=42)"
      ],
      "execution_count": null,
      "outputs": []
    },
    {
      "cell_type": "code",
      "metadata": {
        "colab": {
          "base_uri": "https://localhost:8080/"
        },
        "id": "HM_aFOrIrdXy",
        "outputId": "1c32bed6-94e5-400b-c261-11a68dd0889a"
      },
      "source": [
        "tree_reg1 = DecisionTreeRegressor(max_depth=2)\n",
        "tree_reg1.fit(X_train,y_train)\n",
        "\n",
        "y_train2 = y_train - tree_reg1.predict(X_train)\n",
        "tree_reg2 = DecisionTreeRegressor(max_depth=2)\n",
        "tree_reg2.fit(X_train, y_train2)\n",
        "\n",
        "y_train3 = y_train2 - tree_reg2.predict(X_train)\n",
        "tree_reg3 = DecisionTreeRegressor(max_depth=2)\n",
        "tree_reg3.fit(X_train, y_train3)"
      ],
      "execution_count": null,
      "outputs": [
        {
          "output_type": "execute_result",
          "data": {
            "text/plain": [
              "DecisionTreeRegressor(ccp_alpha=0.0, criterion='mse', max_depth=2,\n",
              "                      max_features=None, max_leaf_nodes=None,\n",
              "                      min_impurity_decrease=0.0, min_impurity_split=None,\n",
              "                      min_samples_leaf=1, min_samples_split=2,\n",
              "                      min_weight_fraction_leaf=0.0, presort='deprecated',\n",
              "                      random_state=None, splitter='best')"
            ]
          },
          "metadata": {},
          "execution_count": 82
        }
      ]
    },
    {
      "cell_type": "markdown",
      "metadata": {
        "id": "Yw1OPY99sLKZ"
      },
      "source": [
        "Lo visto anteriormente se puede utilizar el módulo `GradientBoosting`  de sklearn. Puede utilizarse tanto para regresión como para clasificación."
      ]
    },
    {
      "cell_type": "code",
      "metadata": {
        "colab": {
          "base_uri": "https://localhost:8080/"
        },
        "id": "t_m_9_fxsRJ3",
        "outputId": "d21b9cba-b55f-489c-d420-8ce4d54d2dfe"
      },
      "source": [
        "from sklearn.ensemble import GradientBoostingRegressor\n",
        "\n",
        "gbrt = GradientBoostingRegressor(max_depth=4, n_estimators=3, learning_rate=1)\n",
        "gbrt.fit(X_train, y_train)"
      ],
      "execution_count": null,
      "outputs": [
        {
          "output_type": "execute_result",
          "data": {
            "text/plain": [
              "GradientBoostingRegressor(alpha=0.9, ccp_alpha=0.0, criterion='friedman_mse',\n",
              "                          init=None, learning_rate=1, loss='ls', max_depth=4,\n",
              "                          max_features=None, max_leaf_nodes=None,\n",
              "                          min_impurity_decrease=0.0, min_impurity_split=None,\n",
              "                          min_samples_leaf=1, min_samples_split=2,\n",
              "                          min_weight_fraction_leaf=0.0, n_estimators=3,\n",
              "                          n_iter_no_change=None, presort='deprecated',\n",
              "                          random_state=None, subsample=1.0, tol=0.0001,\n",
              "                          validation_fraction=0.1, verbose=0, warm_start=False)"
            ]
          },
          "metadata": {},
          "execution_count": 86
        }
      ]
    },
    {
      "cell_type": "code",
      "metadata": {
        "id": "T4yGdXVjs371"
      },
      "source": [
        "y_fit_train = gbrt.predict(X_train)\n",
        "y_pred = gbrt.predict(X_test)"
      ],
      "execution_count": null,
      "outputs": []
    },
    {
      "cell_type": "code",
      "metadata": {
        "colab": {
          "base_uri": "https://localhost:8080/"
        },
        "id": "8MCkRNbXs_v7",
        "outputId": "88aa072b-beec-4369-ae71-ab34f577a2a2"
      },
      "source": [
        "print('Métricas del entrenamiento',end='\\n')\n",
        "print('---'*10)\n",
        "metricas(y_train, y_fit_train)\n",
        "print('---'*10)\n",
        "print('Métricas del testeo')\n",
        "print('---'*10)\n",
        "metricas(y_test, y_pred)"
      ],
      "execution_count": null,
      "outputs": [
        {
          "output_type": "stream",
          "name": "stdout",
          "text": [
            "Métricas del entrenamiento\n",
            "------------------------------\n",
            "MSE: 1024.9144025943888\n",
            "MAE: 24.896691201366142\n",
            "RMSE: 32.014284352369785\n",
            "------------------------------\n",
            "Métricas del testeo\n",
            "------------------------------\n",
            "MSE: 2256.5532104179088\n",
            "MAE: 36.77347554760655\n",
            "RMSE: 47.503191581386496\n"
          ]
        }
      ]
    },
    {
      "cell_type": "markdown",
      "metadata": {
        "id": "vf5XbMmSsvYl"
      },
      "source": [
        "## XGBoost\n"
      ]
    },
    {
      "cell_type": "code",
      "metadata": {
        "id": "LZyrQf4jsw0l"
      },
      "source": [
        "import xgboost as xgb"
      ],
      "execution_count": null,
      "outputs": []
    },
    {
      "cell_type": "code",
      "metadata": {
        "id": "Z7uMUE6msxqJ"
      },
      "source": [
        "xg_reg = xgb.XGBRegressor(objective='reg:squarederror', n_estimators=3)"
      ],
      "execution_count": null,
      "outputs": []
    },
    {
      "cell_type": "code",
      "metadata": {
        "id": "m7ohVpMnnVP4"
      },
      "source": [
        "wage1 = wd.data('wage1')\n",
        "X = wage1.filter(['female','educ','exper','tenure'])\n",
        "y = wage1.pop('wage')"
      ],
      "execution_count": null,
      "outputs": []
    },
    {
      "cell_type": "code",
      "metadata": {
        "id": "xYkvadDEv_4l"
      },
      "source": [
        "X_train, X_test, y_train, y_test = train_test_split(X,y, test_size=0.2, random_state=42)"
      ],
      "execution_count": null,
      "outputs": []
    },
    {
      "cell_type": "code",
      "metadata": {
        "colab": {
          "base_uri": "https://localhost:8080/"
        },
        "id": "rXROMvCfwGc0",
        "outputId": "b4ccccef-8280-4cb8-9417-ead1904ada26"
      },
      "source": [
        "xg_reg.fit(X_train,y_train)"
      ],
      "execution_count": null,
      "outputs": [
        {
          "output_type": "execute_result",
          "data": {
            "text/plain": [
              "XGBRegressor(base_score=0.5, booster='gbtree', colsample_bylevel=1,\n",
              "             colsample_bynode=1, colsample_bytree=1, gamma=0,\n",
              "             importance_type='gain', learning_rate=0.1, max_delta_step=0,\n",
              "             max_depth=3, min_child_weight=1, missing=None, n_estimators=3,\n",
              "             n_jobs=1, nthread=None, objective='reg:squarederror',\n",
              "             random_state=0, reg_alpha=0, reg_lambda=1, scale_pos_weight=1,\n",
              "             seed=None, silent=None, subsample=1, verbosity=1)"
            ]
          },
          "metadata": {},
          "execution_count": 93
        }
      ]
    },
    {
      "cell_type": "code",
      "metadata": {
        "id": "tXdwFIk0wJhm"
      },
      "source": [
        "y_fit_train = xg_reg.predict(X_train)\n",
        "y_pred = xg_reg.predict(X_test)"
      ],
      "execution_count": null,
      "outputs": []
    },
    {
      "cell_type": "code",
      "metadata": {
        "colab": {
          "base_uri": "https://localhost:8080/"
        },
        "id": "Yn3Pu9-Dwhwp",
        "outputId": "2e234c52-c64c-4b37-b6d2-32123438cf47"
      },
      "source": [
        "print('Métricas del entrenamiento',end='\\n')\n",
        "print('---'*10)\n",
        "metricas(y_train, y_fit_train)\n",
        "print('---'*10)\n",
        "print('Métricas del testeo')\n",
        "print('---'*10)\n",
        "metricas(y_test, y_pred)"
      ],
      "execution_count": null,
      "outputs": [
        {
          "output_type": "stream",
          "name": "stdout",
          "text": [
            "Métricas del entrenamiento\n",
            "------------------------------\n",
            "MSE: 26.662555126801383\n",
            "MAE: 3.9500313145773753\n",
            "RMSE: 5.163579681461436\n",
            "------------------------------\n",
            "Métricas del testeo\n",
            "------------------------------\n",
            "MSE: 27.490410669700978\n",
            "MAE: 4.03102677385762\n",
            "RMSE: 5.243129854361894\n"
          ]
        }
      ]
    },
    {
      "cell_type": "code",
      "metadata": {
        "id": "cxLhLavRcUTm"
      },
      "source": [],
      "execution_count": null,
      "outputs": []
    }
  ]
}