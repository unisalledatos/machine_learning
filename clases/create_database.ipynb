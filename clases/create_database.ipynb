{
  "nbformat": 4,
  "nbformat_minor": 0,
  "metadata": {
    "colab": {
      "provenance": []
    },
    "kernelspec": {
      "name": "python3",
      "display_name": "Python 3"
    },
    "language_info": {
      "name": "python"
    }
  },
  "cells": [
    {
      "cell_type": "code",
      "execution_count": null,
      "metadata": {
        "colab": {
          "base_uri": "https://localhost:8080/"
        },
        "id": "V0_5M_4BCqe1",
        "outputId": "4bb178a2-bda9-405d-b333-1057c2d62660"
      },
      "outputs": [
        {
          "output_type": "stream",
          "name": "stdout",
          "text": [
            "Looking in indexes: https://pypi.org/simple, https://us-python.pkg.dev/colab-wheels/public/simple/\n",
            "Collecting faker\n",
            "  Downloading Faker-14.2.0-py3-none-any.whl (1.6 MB)\n",
            "\u001b[K     |████████████████████████████████| 1.6 MB 12.4 MB/s \n",
            "\u001b[?25hRequirement already satisfied: python-dateutil>=2.4 in /usr/local/lib/python3.7/dist-packages (from faker) (2.8.2)\n",
            "Requirement already satisfied: typing-extensions>=3.7.4.3 in /usr/local/lib/python3.7/dist-packages (from faker) (4.1.1)\n",
            "Requirement already satisfied: six>=1.5 in /usr/local/lib/python3.7/dist-packages (from python-dateutil>=2.4->faker) (1.15.0)\n",
            "Installing collected packages: faker\n",
            "Successfully installed faker-14.2.0\n"
          ]
        }
      ],
      "source": [
        "!pip install faker\n",
        "import pandas as pd\n",
        "import sqlite3\n",
        "from faker import Faker\n",
        "import string\n",
        "import datetime\n",
        "\n",
        "import seaborn as sns\n",
        "import numpy as np\n",
        "import matplotlib.pyplot as plt"
      ]
    },
    {
      "cell_type": "code",
      "source": [
        "try:\n",
        "  conn = sqlite3.connect('sales.db')\n",
        "except:\n",
        "  print('ERROR en conexión')\n",
        "else:\n",
        "  print('Connected')"
      ],
      "metadata": {
        "colab": {
          "base_uri": "https://localhost:8080/"
        },
        "id": "D4jL_664CtZa",
        "outputId": "520afed0-d5b5-4879-bb53-5128dd9a6267"
      },
      "execution_count": null,
      "outputs": [
        {
          "output_type": "stream",
          "name": "stdout",
          "text": [
            "Connected\n"
          ]
        }
      ]
    },
    {
      "cell_type": "code",
      "source": [
        "faker = Faker()"
      ],
      "metadata": {
        "id": "Hq56n0ExEkfZ"
      },
      "execution_count": null,
      "outputs": []
    },
    {
      "cell_type": "code",
      "source": [
        "letters_digits = string.ascii_letters + string.digits"
      ],
      "metadata": {
        "id": "Phve-P17QRKq"
      },
      "execution_count": null,
      "outputs": []
    },
    {
      "cell_type": "code",
      "source": [
        "def calculo_edad(prob: list, n: int) -> list:\n",
        "  return [np.random.choice([np.random.randint(18,30), np.random.randint(30, 60), np.random.randint(60,85)], p=prob) for i in range(n)]"
      ],
      "metadata": {
        "id": "Zh4dNbfSLOqD"
      },
      "execution_count": null,
      "outputs": []
    },
    {
      "cell_type": "code",
      "source": [
        "def nombres(n: int) -> list:\n",
        "  return [faker.name() for i in range(n)]"
      ],
      "metadata": {
        "id": "AS1vnpI9LsvP"
      },
      "execution_count": null,
      "outputs": []
    },
    {
      "cell_type": "code",
      "source": [
        "def calculo_fecha(n: int):\n",
        "  return [str(np.random.choice([faker.date_between_dates(datetime.date(2021,6,1), datetime.date(2021,8,31)),\n",
        "                            faker.date_between_dates(datetime.date(2021,9,1), datetime.date(2021,9,30)),\n",
        "                            faker.date_between_dates(datetime.date(2021,10,1), datetime.date(2021,11,28)),\n",
        "                            faker.date_between_dates(datetime.date(2021,11,29), datetime.date(2021,12,28)),\n",
        "                            faker.date_between_dates(datetime.date(2021,12,29), datetime.date(2022,1,31))],\n",
        "                           p=[0.1,0.25,0.1,0.5,0.05])) for i in range(n)]"
      ],
      "metadata": {
        "id": "yKdehmE7ZcSH"
      },
      "execution_count": null,
      "outputs": []
    },
    {
      "cell_type": "markdown",
      "source": [
        "## Información cliente"
      ],
      "metadata": {
        "id": "N2GbZrdNEO-1"
      }
    },
    {
      "cell_type": "code",
      "source": [
        "clientes = nombres(50)\n",
        "ciudad = [faker.city() for i in range(10)]\n",
        "clientes_ciudad = {name:np.random.choice(ciudad) for name in clientes}\n",
        "edad = calculo_edad(prob=[0.15,0.55,0.3], n=50)\n",
        "id_cliente = np.arange(1, 51, 1)"
      ],
      "metadata": {
        "id": "HCMXc0DBCu-Q"
      },
      "execution_count": null,
      "outputs": []
    },
    {
      "cell_type": "code",
      "source": [
        "df_clientes = pd.DataFrame({'nombre': clientes_ciudad.keys(),\n",
        "              'ciudad': clientes_ciudad.values(),\n",
        "              'edad': edad,\n",
        "              'id_cliente': id_cliente})"
      ],
      "metadata": {
        "id": "zgZb1DmOGx3O"
      },
      "execution_count": null,
      "outputs": []
    },
    {
      "cell_type": "markdown",
      "source": [
        "## Información productos"
      ],
      "metadata": {
        "id": "vrqVTUOYERKy"
      }
    },
    {
      "cell_type": "code",
      "source": [
        "nombres_productos = ['celular','computador','tablet']\n",
        "marcas = ['apple','samsung','huawei']\n",
        "dic_price = {'celular':3000,\n",
        "             'computador': 4500,\n",
        "             'tablet': 2800}\n",
        "dic_mult = {'apple':2.3,\n",
        "            'samsung':1.8,\n",
        "            'huawei':1.2}\n",
        "id_producto = np.arange(1, 10, 1)"
      ],
      "metadata": {
        "id": "fmruuhxGIIl_"
      },
      "execution_count": null,
      "outputs": []
    },
    {
      "cell_type": "code",
      "source": [
        "prods = []\n",
        "contador = 1\n",
        "for nombre in nombres_productos:\n",
        "  for marca in marcas:\n",
        "    costo = dic_price[nombre] * dic_mult[marca]\n",
        "    precio = (np.random.rand() + 1) * costo\n",
        "    prods.append((nombre, marca, round(costo), round(precio), contador))\n",
        "    contador += 1"
      ],
      "metadata": {
        "id": "rqVuKCsdISFu"
      },
      "execution_count": null,
      "outputs": []
    },
    {
      "cell_type": "code",
      "source": [
        "df_productos = pd.DataFrame(prods, columns=['nombre','marca','costo','precio', 'id_producto'])"
      ],
      "metadata": {
        "id": "NnqViIk7JqY_"
      },
      "execution_count": null,
      "outputs": []
    },
    {
      "cell_type": "markdown",
      "source": [
        "## Información tienda"
      ],
      "metadata": {
        "id": "AP33pOahEWkB"
      }
    },
    {
      "cell_type": "code",
      "source": [
        "ciudad_tienda = np.random.choice(ciudad, replace=False, size=3)\n",
        "direccion_tienda = [faker.address() for i in range(len(ciudad_tienda))]\n",
        "id_tienda = np.arange(1, 4, 1)"
      ],
      "metadata": {
        "id": "3BNWkjH_K34f"
      },
      "execution_count": null,
      "outputs": []
    },
    {
      "cell_type": "code",
      "source": [
        "df_tienda = pd.DataFrame({'ciudad':ciudad_tienda,\n",
        "              'direccion': direccion_tienda,\n",
        "              'id_tienda': id_tienda})"
      ],
      "metadata": {
        "id": "YtLIFidbbS25"
      },
      "execution_count": null,
      "outputs": []
    },
    {
      "cell_type": "markdown",
      "source": [
        "## Información managers"
      ],
      "metadata": {
        "id": "-gU2RisaEUiK"
      }
    },
    {
      "cell_type": "code",
      "source": [
        "nombre_manager = nombres(3)\n",
        "edad_manager = calculo_edad(prob=[0.01,0.89,0.1], n=3)\n",
        "id_tienda_manager = np.arange(1, 4, 1)\n",
        "id_manager = np.arange(1, 4, 1)"
      ],
      "metadata": {
        "id": "5N8B_s6-K1v_"
      },
      "execution_count": null,
      "outputs": []
    },
    {
      "cell_type": "code",
      "source": [
        "df_manager = pd.DataFrame({'nombre': nombre_manager,\n",
        "                          'edad': edad_manager,\n",
        "                          'id_tienda': id_tienda_manager,\n",
        "                          'id_manager': id_manager})"
      ],
      "metadata": {
        "id": "TkMn2Za9bEyT"
      },
      "execution_count": null,
      "outputs": []
    },
    {
      "cell_type": "markdown",
      "source": [
        "## Información vendedores"
      ],
      "metadata": {
        "id": "x__HSDnJEShx"
      }
    },
    {
      "cell_type": "code",
      "source": [
        "nombre_vendedores = nombres(15)\n",
        "edad_vendedores = calculo_edad(prob=[0.94,0.05,0.01], n=15)\n",
        "id_tienda_vendedor = np.random.choice(id_tienda, size=15)\n",
        "id_vendedor = np.arange(1, 16, 1)"
      ],
      "metadata": {
        "id": "zWvmAo21KvdC"
      },
      "execution_count": null,
      "outputs": []
    },
    {
      "cell_type": "code",
      "source": [
        "df_vendedores = pd.DataFrame({'nombre': nombre_vendedores,\n",
        "              'edad':edad_vendedores,\n",
        "              'id_tienda':id_tienda_vendedor,\n",
        "              'id_vendedor':id_vendedor})"
      ],
      "metadata": {
        "id": "I0nVomZuaQEX"
      },
      "execution_count": null,
      "outputs": []
    },
    {
      "cell_type": "markdown",
      "source": [
        "## Información ventas"
      ],
      "metadata": {
        "id": "7FR2JH2fEZGS"
      }
    },
    {
      "cell_type": "code",
      "source": [
        "id_venta = [''.join(np.random.choice(list(letters_digits), size=30)) for i in range(15000)]\n",
        "id_vendedor_venta = np.random.choice(id_vendedor, size=15000)\n",
        "id_cliente_venta = np.random.choice(id_cliente, size=15000)\n",
        "id_producto_venta = np.random.choice(id_producto, size=15000)\n",
        "fecha = calculo_fecha(15000)\n",
        "forma_pago = np.random.choice(['efectivo','debito','credito'], size=15000)\n",
        "cantidad = np.random.choice([1,2,3,4], p=[0.55,0.4,0.04,0.01], size=15000)"
      ],
      "metadata": {
        "id": "UeD-_mu4EYlT"
      },
      "execution_count": null,
      "outputs": []
    },
    {
      "cell_type": "code",
      "source": [
        "df_ventas = pd.DataFrame({'id_venta': id_venta,\n",
        "              'id_vendedor': id_vendedor_venta,\n",
        "              'id_cliente': id_cliente_venta,\n",
        "              'id_producto': id_producto_venta,\n",
        "              'fecha': fecha,\n",
        "              'forma_pago': forma_pago,\n",
        "              'cantidad': cantidad}).sort_values(by='fecha').reset_index(drop=True)"
      ],
      "metadata": {
        "id": "fuNRYQckLBSg"
      },
      "execution_count": null,
      "outputs": []
    },
    {
      "cell_type": "markdown",
      "source": [
        "# Carga de datos a base de datos"
      ],
      "metadata": {
        "id": "Vm6yr8flcsA2"
      }
    },
    {
      "cell_type": "markdown",
      "source": [
        "## clientes"
      ],
      "metadata": {
        "id": "783sc7p5k8Rs"
      }
    },
    {
      "cell_type": "code",
      "source": [
        "#crear tabla\n",
        "\n",
        "query = \"\"\"\n",
        "CREATE TABLE clientes (\n",
        "  nombre VARCHAR(150),\n",
        "  ciudad VARCHAR(100),\n",
        "  edad INT,\n",
        "  id_cliente INT\n",
        ")\n",
        "\"\"\"\n",
        "\n",
        "cursor = conn.cursor()\n",
        "cursor.execute(query)\n",
        "#commit\n",
        "\n",
        "conn.commit()\n",
        "\n",
        "#incluir datos en tabla\n",
        "\n",
        "#commit"
      ],
      "metadata": {
        "id": "ECIUWH4Mclz5"
      },
      "execution_count": null,
      "outputs": []
    },
    {
      "cell_type": "code",
      "source": [
        "for _, row in df_clientes.iterrows():\n",
        "  query = f\"\"\"INSERT INTO clientes (nombre, ciudad, edad, id_cliente)\n",
        "  VALUES ('{row['nombre']}', '{row['ciudad']}', {row['edad']}, {row['id_cliente']})\n",
        "  \"\"\"\n",
        "  cursor.execute(query)\n",
        "  conn.commit()"
      ],
      "metadata": {
        "id": "LosdJMXyiuDw"
      },
      "execution_count": null,
      "outputs": []
    },
    {
      "cell_type": "markdown",
      "source": [
        "## productos"
      ],
      "metadata": {
        "id": "3Ud-3vEkk-Cv"
      }
    },
    {
      "cell_type": "code",
      "source": [
        "query = \"\"\"\n",
        "CREATE TABLE productos (\n",
        "  nombre VARCHAR(50),\n",
        "  marca VARCHAR(50),\n",
        "  costo INT,\n",
        "  precio INT,\n",
        "  id_producto INT\n",
        ")\n",
        "\"\"\"\n",
        "\n",
        "\n",
        "cursor = conn.cursor()\n",
        "cursor.execute(query)\n",
        "#commit\n",
        "\n",
        "conn.commit()"
      ],
      "metadata": {
        "id": "JiLR6_adcnsp"
      },
      "execution_count": null,
      "outputs": []
    },
    {
      "cell_type": "code",
      "source": [
        "for _, row in df_productos.iterrows():\n",
        "  query = f\"\"\"INSERT INTO productos (nombre, marca, costo, precio, id_producto)\n",
        "  VALUES ('{row['nombre']}', '{row['marca']}', {row['costo']}, {row['precio']}, {row['id_producto']})\n",
        "  \"\"\"\n",
        "  cursor.execute(query)\n",
        "  conn.commit()"
      ],
      "metadata": {
        "id": "SFltHdChl4X7"
      },
      "execution_count": null,
      "outputs": []
    },
    {
      "cell_type": "markdown",
      "source": [
        "## tienda"
      ],
      "metadata": {
        "id": "B_DreBO1lA9-"
      }
    },
    {
      "cell_type": "code",
      "source": [
        "query = \"\"\"\n",
        "CREATE TABLE tiendas (\n",
        "  ciudad VARCHAR(150),\n",
        "  direccion VARCHAR(150),\n",
        "  id_tienda INT\n",
        ")\n",
        "\"\"\"\n",
        "\n",
        "\n",
        "cursor = conn.cursor()\n",
        "cursor.execute(query)\n",
        "#commit\n",
        "\n",
        "conn.commit()"
      ],
      "metadata": {
        "id": "1TB4nzhelHPz"
      },
      "execution_count": null,
      "outputs": []
    },
    {
      "cell_type": "code",
      "source": [
        "for _, row in df_tienda.iterrows():\n",
        "  query = f\"\"\"INSERT INTO tiendas (ciudad, direccion, id_tienda)\n",
        "  VALUES ('{row['ciudad']}', '{row['direccion']}', {row['id_tienda']})\n",
        "  \"\"\"\n",
        "  cursor.execute(query)\n",
        "  conn.commit()"
      ],
      "metadata": {
        "id": "omE8oLprmf1G"
      },
      "execution_count": null,
      "outputs": []
    },
    {
      "cell_type": "markdown",
      "source": [
        "## managers"
      ],
      "metadata": {
        "id": "o6mjUVYqlA3a"
      }
    },
    {
      "cell_type": "code",
      "source": [
        "query = \"\"\"\n",
        "CREATE TABLE managers (\n",
        "  nombre VARCHAR(50),\n",
        "  edad INT,\n",
        "  id_tienda INT,\n",
        "  id_manager INT\n",
        ")\n",
        "\"\"\"\n",
        "\n",
        "\n",
        "cursor = conn.cursor()\n",
        "cursor.execute(query)\n",
        "#commit\n",
        "\n",
        "conn.commit()"
      ],
      "metadata": {
        "id": "Ss_gARsklH4C"
      },
      "execution_count": null,
      "outputs": []
    },
    {
      "cell_type": "code",
      "source": [
        "for _, row in df_manager.iterrows():\n",
        "  query = f\"\"\"INSERT INTO managers (nombre, edad, id_tienda, id_manager)\n",
        "  VALUES ('{row['nombre']}', {row['edad']}, {row['id_tienda']}, {row['id_manager']})\n",
        "  \"\"\"\n",
        "  cursor.execute(query)\n",
        "  conn.commit()"
      ],
      "metadata": {
        "id": "-ZJ87ZUTmraZ"
      },
      "execution_count": null,
      "outputs": []
    },
    {
      "cell_type": "markdown",
      "source": [
        "## vendedores"
      ],
      "metadata": {
        "id": "jzZ0z2RDlAvd"
      }
    },
    {
      "cell_type": "code",
      "source": [
        "query = \"\"\"\n",
        "CREATE TABLE vendedores (\n",
        "  nombre VARCHAR(50),\n",
        "  edad INT,\n",
        "  id_tienda INT,\n",
        "  id_vendedor INT\n",
        ")\n",
        "\"\"\"\n",
        "\n",
        "\n",
        "cursor = conn.cursor()\n",
        "cursor.execute(query)\n",
        "#commit\n",
        "\n",
        "conn.commit()"
      ],
      "metadata": {
        "id": "_2fHEO7DlIRP"
      },
      "execution_count": null,
      "outputs": []
    },
    {
      "cell_type": "code",
      "source": [
        "for _, row in df_vendedores.iterrows():\n",
        "  query = f\"\"\"INSERT INTO vendedores (nombre, edad, id_tienda, id_vendedor)\n",
        "  VALUES ('{row['nombre']}', {row['edad']}, {row['id_tienda']}, {row['id_vendedor']})\n",
        "  \"\"\"\n",
        "  cursor.execute(query)\n",
        "  conn.commit()"
      ],
      "metadata": {
        "id": "Ir2dEeYlnISV"
      },
      "execution_count": null,
      "outputs": []
    },
    {
      "cell_type": "markdown",
      "source": [
        "## ventas"
      ],
      "metadata": {
        "id": "1CKZJYRIlF6H"
      }
    },
    {
      "cell_type": "code",
      "source": [
        "query = \"\"\"\n",
        "CREATE TABLE ventas (\n",
        "  id_venta VARCHAR(120),\n",
        "  id_vendedor INT,\n",
        "  id_cliente INT,\n",
        "  id_producto INT,\n",
        "  fecha VARCHAR(50),\n",
        "  forma_pago VARCHAR(60),\n",
        "  cantidad INT\n",
        ")\n",
        "\"\"\"\n",
        "\n",
        "\n",
        "cursor = conn.cursor()\n",
        "cursor.execute(query)\n",
        "#commit\n",
        "\n",
        "conn.commit()"
      ],
      "metadata": {
        "id": "zSj-Fon4lGli"
      },
      "execution_count": null,
      "outputs": []
    },
    {
      "cell_type": "code",
      "source": [
        "for _, row in df_ventas.iterrows():\n",
        "  query = f\"\"\"INSERT INTO ventas (id_venta, id_vendedor, id_cliente, id_producto, fecha, forma_pago, cantidad)\n",
        "  VALUES ('{row['id_venta']}', {row['id_vendedor']}, {row['id_cliente']}, {row['id_producto']}, '{row['fecha']}','{row['forma_pago']}',{row['cantidad']})\n",
        "  \"\"\"\n",
        "  cursor.execute(query)\n",
        "  conn.commit()"
      ],
      "metadata": {
        "id": "eKxDTkJ2nK9s"
      },
      "execution_count": null,
      "outputs": []
    },
    {
      "cell_type": "markdown",
      "source": [
        "## Escribir queries"
      ],
      "metadata": {
        "id": "3KFloqDtBFBh"
      }
    },
    {
      "cell_type": "code",
      "source": [
        "def query():\n",
        "  q = input(\"Escriba aquí la query: \")\n",
        "  return pd.read_sql(q, con=conn)"
      ],
      "metadata": {
        "id": "Qk2g2oGG_RKc"
      },
      "execution_count": null,
      "outputs": []
    },
    {
      "cell_type": "markdown",
      "source": [
        "## Cómo escribir queries\n",
        "\n",
        "En esta sección solo debe llamarse a la función, ejecutarla y a continuación se les presentará un espacio donde pueden escribir. Escriban cualquier query haciendo uso del lenguaje SQL."
      ],
      "metadata": {
        "id": "1dsI88GQBY3J"
      }
    },
    {
      "cell_type": "code",
      "source": [
        "query()"
      ],
      "metadata": {
        "id": "0vHf00GaALBG",
        "colab": {
          "base_uri": "https://localhost:8080/",
          "height": 442
        },
        "outputId": "e2664f74-fc68-4f42-b9c6-df4c50485a2d"
      },
      "execution_count": null,
      "outputs": [
        {
          "name": "stdout",
          "output_type": "stream",
          "text": [
            "Escriba aquí la query: SELECT * FROM ventas\n"
          ]
        },
        {
          "output_type": "execute_result",
          "data": {
            "text/plain": [
              "                             id_venta  id_vendedor  id_cliente  id_producto  \\\n",
              "0      5OerulUwGlrlEAyFNLN4DB04yxlHhK           14          17            2   \n",
              "1      G3zM2P0AsvVWsB2KJ6DIcy8yA025a4           15          36            7   \n",
              "2      8CeLBZQmCskdC82cxNAcGJzn8kya7P            6          24            7   \n",
              "3      kC9jguu2d3HT2a4YsDgHIKXPvqaOf3           11          14            8   \n",
              "4      efAmYQWtLx0r427piumgoBHLJRiX1s            6          39            4   \n",
              "...                               ...          ...         ...          ...   \n",
              "14995  EjVcyMzTf6GdONHv6BoTrTYvvBkisu           10          15            6   \n",
              "14996  oGKRZKPX1i2602TDOv5gySROVAnVIc            3           2            5   \n",
              "14997  g0UyyzaSKnQObFHc4fzAN86n0mxGEo           15          48            8   \n",
              "14998  zoOYFDaRw8S7KJaSHaXwalj72vdWNU            4          42            1   \n",
              "14999  921f5OlOmIFA11aF2FPUkaJe8nmH42            1          10            8   \n",
              "\n",
              "            fecha forma_pago  cantidad  \n",
              "0      2021-06-01     debito         2  \n",
              "1      2021-06-01   efectivo         1  \n",
              "2      2021-06-01   efectivo         3  \n",
              "3      2021-06-01     debito         2  \n",
              "4      2021-06-01   efectivo         1  \n",
              "...           ...        ...       ...  \n",
              "14995  2022-01-30     debito         1  \n",
              "14996  2022-01-30     debito         2  \n",
              "14997  2022-01-30     debito         2  \n",
              "14998  2022-01-30    credito         2  \n",
              "14999  2022-01-30    credito         2  \n",
              "\n",
              "[15000 rows x 7 columns]"
            ],
            "text/html": [
              "\n",
              "  <div id=\"df-fd1ab6dd-4e13-4710-ab56-28564c94ea97\">\n",
              "    <div class=\"colab-df-container\">\n",
              "      <div>\n",
              "<style scoped>\n",
              "    .dataframe tbody tr th:only-of-type {\n",
              "        vertical-align: middle;\n",
              "    }\n",
              "\n",
              "    .dataframe tbody tr th {\n",
              "        vertical-align: top;\n",
              "    }\n",
              "\n",
              "    .dataframe thead th {\n",
              "        text-align: right;\n",
              "    }\n",
              "</style>\n",
              "<table border=\"1\" class=\"dataframe\">\n",
              "  <thead>\n",
              "    <tr style=\"text-align: right;\">\n",
              "      <th></th>\n",
              "      <th>id_venta</th>\n",
              "      <th>id_vendedor</th>\n",
              "      <th>id_cliente</th>\n",
              "      <th>id_producto</th>\n",
              "      <th>fecha</th>\n",
              "      <th>forma_pago</th>\n",
              "      <th>cantidad</th>\n",
              "    </tr>\n",
              "  </thead>\n",
              "  <tbody>\n",
              "    <tr>\n",
              "      <th>0</th>\n",
              "      <td>5OerulUwGlrlEAyFNLN4DB04yxlHhK</td>\n",
              "      <td>14</td>\n",
              "      <td>17</td>\n",
              "      <td>2</td>\n",
              "      <td>2021-06-01</td>\n",
              "      <td>debito</td>\n",
              "      <td>2</td>\n",
              "    </tr>\n",
              "    <tr>\n",
              "      <th>1</th>\n",
              "      <td>G3zM2P0AsvVWsB2KJ6DIcy8yA025a4</td>\n",
              "      <td>15</td>\n",
              "      <td>36</td>\n",
              "      <td>7</td>\n",
              "      <td>2021-06-01</td>\n",
              "      <td>efectivo</td>\n",
              "      <td>1</td>\n",
              "    </tr>\n",
              "    <tr>\n",
              "      <th>2</th>\n",
              "      <td>8CeLBZQmCskdC82cxNAcGJzn8kya7P</td>\n",
              "      <td>6</td>\n",
              "      <td>24</td>\n",
              "      <td>7</td>\n",
              "      <td>2021-06-01</td>\n",
              "      <td>efectivo</td>\n",
              "      <td>3</td>\n",
              "    </tr>\n",
              "    <tr>\n",
              "      <th>3</th>\n",
              "      <td>kC9jguu2d3HT2a4YsDgHIKXPvqaOf3</td>\n",
              "      <td>11</td>\n",
              "      <td>14</td>\n",
              "      <td>8</td>\n",
              "      <td>2021-06-01</td>\n",
              "      <td>debito</td>\n",
              "      <td>2</td>\n",
              "    </tr>\n",
              "    <tr>\n",
              "      <th>4</th>\n",
              "      <td>efAmYQWtLx0r427piumgoBHLJRiX1s</td>\n",
              "      <td>6</td>\n",
              "      <td>39</td>\n",
              "      <td>4</td>\n",
              "      <td>2021-06-01</td>\n",
              "      <td>efectivo</td>\n",
              "      <td>1</td>\n",
              "    </tr>\n",
              "    <tr>\n",
              "      <th>...</th>\n",
              "      <td>...</td>\n",
              "      <td>...</td>\n",
              "      <td>...</td>\n",
              "      <td>...</td>\n",
              "      <td>...</td>\n",
              "      <td>...</td>\n",
              "      <td>...</td>\n",
              "    </tr>\n",
              "    <tr>\n",
              "      <th>14995</th>\n",
              "      <td>EjVcyMzTf6GdONHv6BoTrTYvvBkisu</td>\n",
              "      <td>10</td>\n",
              "      <td>15</td>\n",
              "      <td>6</td>\n",
              "      <td>2022-01-30</td>\n",
              "      <td>debito</td>\n",
              "      <td>1</td>\n",
              "    </tr>\n",
              "    <tr>\n",
              "      <th>14996</th>\n",
              "      <td>oGKRZKPX1i2602TDOv5gySROVAnVIc</td>\n",
              "      <td>3</td>\n",
              "      <td>2</td>\n",
              "      <td>5</td>\n",
              "      <td>2022-01-30</td>\n",
              "      <td>debito</td>\n",
              "      <td>2</td>\n",
              "    </tr>\n",
              "    <tr>\n",
              "      <th>14997</th>\n",
              "      <td>g0UyyzaSKnQObFHc4fzAN86n0mxGEo</td>\n",
              "      <td>15</td>\n",
              "      <td>48</td>\n",
              "      <td>8</td>\n",
              "      <td>2022-01-30</td>\n",
              "      <td>debito</td>\n",
              "      <td>2</td>\n",
              "    </tr>\n",
              "    <tr>\n",
              "      <th>14998</th>\n",
              "      <td>zoOYFDaRw8S7KJaSHaXwalj72vdWNU</td>\n",
              "      <td>4</td>\n",
              "      <td>42</td>\n",
              "      <td>1</td>\n",
              "      <td>2022-01-30</td>\n",
              "      <td>credito</td>\n",
              "      <td>2</td>\n",
              "    </tr>\n",
              "    <tr>\n",
              "      <th>14999</th>\n",
              "      <td>921f5OlOmIFA11aF2FPUkaJe8nmH42</td>\n",
              "      <td>1</td>\n",
              "      <td>10</td>\n",
              "      <td>8</td>\n",
              "      <td>2022-01-30</td>\n",
              "      <td>credito</td>\n",
              "      <td>2</td>\n",
              "    </tr>\n",
              "  </tbody>\n",
              "</table>\n",
              "<p>15000 rows × 7 columns</p>\n",
              "</div>\n",
              "      <button class=\"colab-df-convert\" onclick=\"convertToInteractive('df-fd1ab6dd-4e13-4710-ab56-28564c94ea97')\"\n",
              "              title=\"Convert this dataframe to an interactive table.\"\n",
              "              style=\"display:none;\">\n",
              "        \n",
              "  <svg xmlns=\"http://www.w3.org/2000/svg\" height=\"24px\"viewBox=\"0 0 24 24\"\n",
              "       width=\"24px\">\n",
              "    <path d=\"M0 0h24v24H0V0z\" fill=\"none\"/>\n",
              "    <path d=\"M18.56 5.44l.94 2.06.94-2.06 2.06-.94-2.06-.94-.94-2.06-.94 2.06-2.06.94zm-11 1L8.5 8.5l.94-2.06 2.06-.94-2.06-.94L8.5 2.5l-.94 2.06-2.06.94zm10 10l.94 2.06.94-2.06 2.06-.94-2.06-.94-.94-2.06-.94 2.06-2.06.94z\"/><path d=\"M17.41 7.96l-1.37-1.37c-.4-.4-.92-.59-1.43-.59-.52 0-1.04.2-1.43.59L10.3 9.45l-7.72 7.72c-.78.78-.78 2.05 0 2.83L4 21.41c.39.39.9.59 1.41.59.51 0 1.02-.2 1.41-.59l7.78-7.78 2.81-2.81c.8-.78.8-2.07 0-2.86zM5.41 20L4 18.59l7.72-7.72 1.47 1.35L5.41 20z\"/>\n",
              "  </svg>\n",
              "      </button>\n",
              "      \n",
              "  <style>\n",
              "    .colab-df-container {\n",
              "      display:flex;\n",
              "      flex-wrap:wrap;\n",
              "      gap: 12px;\n",
              "    }\n",
              "\n",
              "    .colab-df-convert {\n",
              "      background-color: #E8F0FE;\n",
              "      border: none;\n",
              "      border-radius: 50%;\n",
              "      cursor: pointer;\n",
              "      display: none;\n",
              "      fill: #1967D2;\n",
              "      height: 32px;\n",
              "      padding: 0 0 0 0;\n",
              "      width: 32px;\n",
              "    }\n",
              "\n",
              "    .colab-df-convert:hover {\n",
              "      background-color: #E2EBFA;\n",
              "      box-shadow: 0px 1px 2px rgba(60, 64, 67, 0.3), 0px 1px 3px 1px rgba(60, 64, 67, 0.15);\n",
              "      fill: #174EA6;\n",
              "    }\n",
              "\n",
              "    [theme=dark] .colab-df-convert {\n",
              "      background-color: #3B4455;\n",
              "      fill: #D2E3FC;\n",
              "    }\n",
              "\n",
              "    [theme=dark] .colab-df-convert:hover {\n",
              "      background-color: #434B5C;\n",
              "      box-shadow: 0px 1px 3px 1px rgba(0, 0, 0, 0.15);\n",
              "      filter: drop-shadow(0px 1px 2px rgba(0, 0, 0, 0.3));\n",
              "      fill: #FFFFFF;\n",
              "    }\n",
              "  </style>\n",
              "\n",
              "      <script>\n",
              "        const buttonEl =\n",
              "          document.querySelector('#df-fd1ab6dd-4e13-4710-ab56-28564c94ea97 button.colab-df-convert');\n",
              "        buttonEl.style.display =\n",
              "          google.colab.kernel.accessAllowed ? 'block' : 'none';\n",
              "\n",
              "        async function convertToInteractive(key) {\n",
              "          const element = document.querySelector('#df-fd1ab6dd-4e13-4710-ab56-28564c94ea97');\n",
              "          const dataTable =\n",
              "            await google.colab.kernel.invokeFunction('convertToInteractive',\n",
              "                                                     [key], {});\n",
              "          if (!dataTable) return;\n",
              "\n",
              "          const docLinkHtml = 'Like what you see? Visit the ' +\n",
              "            '<a target=\"_blank\" href=https://colab.research.google.com/notebooks/data_table.ipynb>data table notebook</a>'\n",
              "            + ' to learn more about interactive tables.';\n",
              "          element.innerHTML = '';\n",
              "          dataTable['output_type'] = 'display_data';\n",
              "          await google.colab.output.renderOutput(dataTable, element);\n",
              "          const docLink = document.createElement('div');\n",
              "          docLink.innerHTML = docLinkHtml;\n",
              "          element.appendChild(docLink);\n",
              "        }\n",
              "      </script>\n",
              "    </div>\n",
              "  </div>\n",
              "  "
            ]
          },
          "metadata": {},
          "execution_count": 36
        }
      ]
    }
  ]
}