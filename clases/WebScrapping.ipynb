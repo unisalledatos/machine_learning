{
  "nbformat": 4,
  "nbformat_minor": 0,
  "metadata": {
    "colab": {
      "provenance": []
    },
    "kernelspec": {
      "name": "python3",
      "display_name": "Python 3"
    },
    "language_info": {
      "name": "python"
    }
  },
  "cells": [
    {
      "cell_type": "markdown",
      "metadata": {
        "id": "gQt3af0Qu0V-"
      },
      "source": [
        "# Web Scrapping\n",
        "\n",
        "Extraer información de la web.\n",
        "\n",
        "## Agenda\n",
        "\n",
        "1. La web\n",
        "2. robots.txt\n",
        "3. Librerías\n",
        "4. Requests\n",
        "5. Ejemplo sencillo con un periódico\n",
        "6. Extraer información de la revista CIFE\n",
        "7. Almacenar la información en un dataframe"
      ]
    },
    {
      "cell_type": "markdown",
      "metadata": {
        "id": "f-A4lPVAvVGy"
      },
      "source": [
        "## 1. La web\n",
        "\n",
        "- Frontend vs. Backend\n",
        "\n",
        "![](https://miro.medium.com/max/1200/1*Hy-RTBZiiqFH9sLHZKDRlQ.png)\n",
        "\n",
        "- Desarrollo web\n",
        "\n",
        "![](https://geoinnova.org/blog-territorio/wp-content/uploads/2020/11/logos.png)\n",
        "\n",
        "- HTML\n",
        "\n",
        "![](https://upload.wikimedia.org/wikipedia/commons/3/39/Etiquetas_en_HTML.png)\n",
        "\n",
        "- CSS\n",
        "\n",
        "![](https://lenguajecss.com/css/introduccion/estructura-de-css/sintaxis-simple.png)\n",
        "\n",
        "- javascript\n",
        "\n",
        "```\n",
        "var n = prompt();\n",
        "if (n % 2 == 0 && n != 2) {\n",
        "  console.log(\"Yes\");\n",
        "} else {\n",
        "  console.log(\"No\");\n",
        "}\n",
        "```"
      ]
    },
    {
      "cell_type": "markdown",
      "metadata": {
        "id": "fgPpFxhS17kT"
      },
      "source": [
        "## 2. robots.txt\n",
        "\n",
        "#[La nación](https://www.lanacion.com.ar/robots.txt)"
      ]
    },
    {
      "cell_type": "markdown",
      "metadata": {
        "id": "WzOGXHAXyFTc"
      },
      "source": [
        "## 3. Librerías\n",
        "\n",
        "\n",
        "![](https://docs.python-requests.org/es/latest/_static/requests-sidebar.png) <img src='https://sixfeetup.com/blog/an-introduction-to-beautifulsoup/@@images/27e8bf2a-5469-407e-b84d-5cf53b1b0bb6.png' width=\"400\"> ![](https://selenium-python.readthedocs.io/_static/logo.png)"
      ]
    },
    {
      "cell_type": "markdown",
      "metadata": {
        "id": "8B6hEh5EyXuQ"
      },
      "source": [
        "## 4. Requests, BeautifulSoup\n",
        "\n"
      ]
    },
    {
      "cell_type": "code",
      "metadata": {
        "id": "_Jo54IroyemF"
      },
      "source": [
        "import requests as rq\n",
        "from bs4 import BeautifulSoup"
      ],
      "execution_count": null,
      "outputs": []
    },
    {
      "cell_type": "code",
      "metadata": {
        "id": "8aZZMmxw1siq"
      },
      "source": [
        "pagina_web = 'https://www.lanacion.com.ar'\n",
        "pagina = rq.get(pagina_web)"
      ],
      "execution_count": null,
      "outputs": []
    },
    {
      "cell_type": "code",
      "metadata": {
        "colab": {
          "base_uri": "https://localhost:8080/"
        },
        "id": "2y-wUTmP2Oib",
        "outputId": "b10191e3-308b-4304-d5b9-bcb720fad4d3"
      },
      "source": [
        "pagina"
      ],
      "execution_count": null,
      "outputs": [
        {
          "output_type": "execute_result",
          "data": {
            "text/plain": [
              "<Response [200]>"
            ]
          },
          "metadata": {
            "tags": []
          },
          "execution_count": 3
        }
      ]
    },
    {
      "cell_type": "markdown",
      "metadata": {
        "id": "YByHNtff2dnd"
      },
      "source": [
        "### 4.1. Respuestas\n",
        "\n",
        "![](https://miro.medium.com/max/920/1*w_iicbG7L3xEQTArjHUS6g.jpeg)\n",
        "\n",
        "![](https://i.pinimg.com/originals/6a/bc/7c/6abc7caedc66d8863f2f9d3a5a671fdd.jpg)"
      ]
    },
    {
      "cell_type": "code",
      "metadata": {
        "id": "_iAt8QC32b4k"
      },
      "source": [
        "# crear la sopa\n",
        "pagina_sopa = BeautifulSoup(pagina.text,'lxml')"
      ],
      "execution_count": null,
      "outputs": []
    },
    {
      "cell_type": "code",
      "metadata": {
        "id": "1oyBySvSktH8"
      },
      "source": [],
      "execution_count": null,
      "outputs": []
    },
    {
      "cell_type": "code",
      "metadata": {
        "id": "3MgZ-lHK3DeF"
      },
      "source": [
        "# visualizar la sopa\n",
        "pagina_sopa"
      ],
      "execution_count": null,
      "outputs": []
    },
    {
      "cell_type": "markdown",
      "metadata": {
        "id": "Eo3NBfMfyYTQ"
      },
      "source": [
        "## 5. Ejemplo sencillo con un periódico\n",
        "\n",
        "![]()"
      ]
    },
    {
      "cell_type": "code",
      "metadata": {
        "id": "pjkrJNTxy3gb",
        "colab": {
          "base_uri": "https://localhost:8080/"
        },
        "outputId": "e29aed9c-5e78-42ff-e069-b5a7d976046e"
      },
      "source": [
        "pagina_sopa.find('h1')"
      ],
      "execution_count": null,
      "outputs": [
        {
          "output_type": "execute_result",
          "data": {
            "text/plain": [
              "<h1 class=\"com-title --xl\"><a class=\"com-link\" href=\"/politica/una-protesta-multitudinaria-que-desbordo-las-demandas-del-campo-nid09072021/\"><em class=\"com-lead\">San Nicolás. </em>Una protesta que desbordó las demandas del campo</a></h1>"
            ]
          },
          "metadata": {
            "tags": []
          },
          "execution_count": 6
        }
      ]
    },
    {
      "cell_type": "code",
      "metadata": {
        "id": "J4EJxzq-6mHP",
        "colab": {
          "base_uri": "https://localhost:8080/",
          "height": 37
        },
        "outputId": "99e33d35-5564-41fa-aa90-7a3279aa3692"
      },
      "source": [
        "pagina_sopa.find('h1').text"
      ],
      "execution_count": null,
      "outputs": [
        {
          "output_type": "execute_result",
          "data": {
            "application/vnd.google.colaboratory.intrinsic+json": {
              "type": "string"
            },
            "text/plain": [
              "'San Nicolás. Una protesta que desbordó las demandas del campo'"
            ]
          },
          "metadata": {
            "tags": []
          },
          "execution_count": 7
        }
      ]
    },
    {
      "cell_type": "code",
      "metadata": {
        "id": "NwB0IC0X7xg3"
      },
      "source": [
        "h1s = pagina_sopa.find_all('h1')"
      ],
      "execution_count": null,
      "outputs": []
    },
    {
      "cell_type": "code",
      "metadata": {
        "id": "Ic_JQS2T70eq",
        "colab": {
          "base_uri": "https://localhost:8080/"
        },
        "outputId": "1ebb4db8-6f64-4eda-f758-f76473b8424f"
      },
      "source": [
        "len(h1s)"
      ],
      "execution_count": null,
      "outputs": [
        {
          "output_type": "execute_result",
          "data": {
            "text/plain": [
              "1"
            ]
          },
          "metadata": {
            "tags": []
          },
          "execution_count": 13
        }
      ]
    },
    {
      "cell_type": "code",
      "metadata": {
        "id": "SDOsf9vd7FAW",
        "colab": {
          "base_uri": "https://localhost:8080/"
        },
        "outputId": "f7b24c5e-c527-4941-d72a-e5b9e2245e74"
      },
      "source": [
        "pagina_sopa.find('h2')"
      ],
      "execution_count": null,
      "outputs": [
        {
          "output_type": "execute_result",
          "data": {
            "text/plain": [
              "<h2 class=\"com-title --md\">ANTICIPO. Ciudad: Vidal se presentará mañana como candidata a diputada y la acompañaría Martín Tetaz</h2>"
            ]
          },
          "metadata": {
            "tags": []
          },
          "execution_count": 14
        }
      ]
    },
    {
      "cell_type": "code",
      "metadata": {
        "id": "3vCSg4re7HAo",
        "colab": {
          "base_uri": "https://localhost:8080/",
          "height": 37
        },
        "outputId": "4d9d7604-3f03-481a-93d6-61758f438c7e"
      },
      "source": [
        "pagina_sopa.find('h2').text"
      ],
      "execution_count": null,
      "outputs": [
        {
          "output_type": "execute_result",
          "data": {
            "application/vnd.google.colaboratory.intrinsic+json": {
              "type": "string"
            },
            "text/plain": [
              "'ANTICIPO. Ciudad: Vidal se presentará mañana como candidata a diputada y la acompañaría Martín Tetaz'"
            ]
          },
          "metadata": {
            "tags": []
          },
          "execution_count": 15
        }
      ]
    },
    {
      "cell_type": "code",
      "metadata": {
        "id": "tCAQm88275mq"
      },
      "source": [
        "h2s = pagina_sopa.find_all('h2')"
      ],
      "execution_count": null,
      "outputs": []
    },
    {
      "cell_type": "code",
      "metadata": {
        "id": "RToR9eCT79i-",
        "colab": {
          "base_uri": "https://localhost:8080/"
        },
        "outputId": "45262711-e56b-4531-d4c2-e4b967f6dada"
      },
      "source": [
        "h2s"
      ],
      "execution_count": null,
      "outputs": [
        {
          "output_type": "execute_result",
          "data": {
            "text/plain": [
              "[<h2 class=\"com-title --md\">ANTICIPO. Ciudad: Vidal se presentará mañana como candidata a diputada y la acompañaría Martín Tetaz</h2>,\n",
              " <h2 class=\"com-subhead --twoxs\"><a aria-label=\"La manifestación contra el Gobierno incluyó demandas de justicia y educación; visibilizó la crisis económica que agudizó la pandemia; y buscó sembrar comunión entre el campo y la ciudad \" class=\"com-link\" href=\"/politica/una-protesta-multitudinaria-que-desbordo-las-demandas-del-campo-nid09072021/\" title=\"La manifestación contra el Gobierno incluyó demandas de justicia y educación; visibilizó la crisis económica que agudizó la pandemia; y buscó sembrar comunión entre el campo y la ciudad \">La manifestación contra el Gobierno incluyó demandas de justicia y educación; visibilizó la crisis económica que agudizó la pandemia; y buscó sembrar comunión entre el campo y la ciudad </a></h2>,\n",
              " <h2 class=\"com-title --xs\"><a class=\"com-link\" href=\"/politica/fronteras-el-gobierno-flexibiliza-el-cupo-desde-manana-hasta-llegar-a-mil-ingresos-diarios-de-nid09072021/\"><em class=\"com-lead\">Varados. </em>El Gobierno flexibiliza el cupo desde mañana hasta llegar a mil ingresos diarios de pasajeros</a></h2>,\n",
              " <h2 class=\"com-title --xs\"><a class=\"com-link\" href=\"/el-mundo/el-excomandante-boliviano-involucrado-en-la-denuncia-por-el-envio-de-armamento-desde-la-argentina-nid09072021/\"><em class=\"com-lead\">\"Falsificada\". </em>La respuesta del excomandante involucrado en la carta sobre el envío de armamento argentino a Bolivia</a></h2>,\n",
              " <h2 class=\"com-title --xs\"><a class=\"com-link\" href=\"/el-mundo/el-presidente-arce-se-sumo-a-las-denuncias-y-acuso-a-macri-de-fomentar-el-golpe-nid09072021/\"><em class=\"com-lead\">Bolivia. </em>El presidente Arce se sumó a las denuncias y acusó a Macri de “fomentar el golpe”</a></h2>,\n",
              " <h2 class=\"com-title --xs\"><a class=\"com-link\" href=\"/politica/el-mensaje-del-presidente-tras-las-criticas-de-maximo-si-alguien-espera-que-claudique-ante-los-nid09072021/\"><em class=\"com-lead\">Respuesta. </em>El mensaje del Presidente tras las críticas de Máximo sobre los laboratorios</a></h2>,\n",
              " <h2 class=\"com-title --xs\"><a class=\"com-link\" href=\"/economia/gas-el-enargas-recomienda-a-cambiemos-militar-para-que-los-millonarios-renuncien-a-un-subsidio-nid09072021/\"><em class=\"com-lead\">Gas. </em>La particular militancia que le recomendó hacer a Cambiemos un alfil de Cristina Kirchner</a></h2>]"
            ]
          },
          "metadata": {
            "tags": []
          },
          "execution_count": 18
        }
      ]
    },
    {
      "cell_type": "code",
      "metadata": {
        "id": "X4gvGCl97JuS"
      },
      "source": [
        "# guardar la información\n",
        "\n",
        "data = {'titulo':[]}\n",
        "\n",
        "for noticia in h2s:\n",
        "  data['titulo'].append(noticia.text)\n",
        "\n"
      ],
      "execution_count": null,
      "outputs": []
    },
    {
      "cell_type": "code",
      "metadata": {
        "id": "kRsONG4a8Pp4",
        "colab": {
          "base_uri": "https://localhost:8080/"
        },
        "outputId": "41037d06-e88b-4ada-d18d-e3b125ddf7a5"
      },
      "source": [
        "data"
      ],
      "execution_count": null,
      "outputs": [
        {
          "output_type": "execute_result",
          "data": {
            "text/plain": [
              "{'titulo': ['ANTICIPO. Ciudad: Vidal se presentará mañana como candidata a diputada y la acompañaría Martín Tetaz',\n",
              "  'La manifestación contra el Gobierno incluyó demandas de justicia y educación; visibilizó la crisis económica que agudizó la pandemia; y buscó sembrar comunión entre el campo y la ciudad ',\n",
              "  'Varados. El Gobierno flexibiliza el cupo desde mañana hasta llegar a mil ingresos diarios de pasajeros',\n",
              "  '\"Falsificada\". La respuesta del excomandante involucrado en la carta sobre el envío de armamento argentino a Bolivia',\n",
              "  'Bolivia. El presidente Arce se sumó a las denuncias y acusó a Macri de “fomentar el golpe”',\n",
              "  'Respuesta. El mensaje del Presidente tras las críticas de Máximo sobre los laboratorios',\n",
              "  'Gas. La particular militancia que le recomendó hacer a Cambiemos un alfil de Cristina Kirchner']}"
            ]
          },
          "metadata": {
            "tags": []
          },
          "execution_count": 20
        }
      ]
    },
    {
      "cell_type": "code",
      "metadata": {
        "id": "zKV5xKN08Ucm",
        "colab": {
          "base_uri": "https://localhost:8080/",
          "height": 37
        },
        "outputId": "f620deb4-ec87-424e-8b4e-8d8b7572c61e"
      },
      "source": [
        "# Navegar entre páginas\n",
        "h2s[1].a.get('href')"
      ],
      "execution_count": null,
      "outputs": [
        {
          "output_type": "execute_result",
          "data": {
            "application/vnd.google.colaboratory.intrinsic+json": {
              "type": "string"
            },
            "text/plain": [
              "'/politica/una-protesta-multitudinaria-que-desbordo-las-demandas-del-campo-nid09072021/'"
            ]
          },
          "metadata": {
            "tags": []
          },
          "execution_count": 22
        }
      ]
    },
    {
      "cell_type": "code",
      "metadata": {
        "id": "6iktxuzN8U6u",
        "colab": {
          "base_uri": "https://localhost:8080/"
        },
        "outputId": "9d30ffe7-82e2-43e2-ac63-64d87e50ec3e"
      },
      "source": [
        "for noticia in h2s[1:]:\n",
        "  entrada = rq.get(pagina_web + noticia.a.get('href'))\n",
        "  print(entrada)"
      ],
      "execution_count": null,
      "outputs": [
        {
          "output_type": "stream",
          "text": [
            "<Response [200]>\n",
            "<Response [200]>\n",
            "<Response [200]>\n",
            "<Response [200]>\n",
            "<Response [200]>\n",
            "<Response [200]>\n"
          ],
          "name": "stdout"
        }
      ]
    },
    {
      "cell_type": "code",
      "metadata": {
        "id": "lfsR95k78VEu"
      },
      "source": [
        "\n",
        "\n",
        "datos = {'titulo':[],\n",
        "         'fecha':[],\n",
        "         'texto':[]}\n",
        "noticias = pagina_sopa.find_all('h2')\n",
        "for noticia in noticias[1:]:\n",
        "    pag_not = rq.get(pagina_web + noticia.a.get('href')) #acceder a las páginas\n",
        "    pag_not_sopa = BeautifulSoup(pag_not.text, 'lxml') #sopa de la nueva página\n",
        "    datos['titulo'].append(pag_not_sopa.find('h1').text) #agregar el título\n",
        "    parrafos = pag_not_sopa.find('section', attrs={'class':'cuerpo__nota'}).find_all('p')\n",
        "    texto = ''\n",
        "    for parrafo in parrafos:\n",
        "        texto = texto + parrafo.text + ' '\n",
        "    datos['texto'].append(texto)\n",
        "    datos['fecha'].append(datetime.datetime.today())\n"
      ],
      "execution_count": null,
      "outputs": []
    },
    {
      "cell_type": "code",
      "metadata": {
        "id": "64Fo_BIO8VK5",
        "colab": {
          "base_uri": "https://localhost:8080/",
          "height": 122
        },
        "outputId": "00e47091-d5f0-496a-fea8-ca78115bd343"
      },
      "source": [
        "parrafos[0].text + ' ' + parrafos[1].text"
      ],
      "execution_count": null,
      "outputs": [
        {
          "output_type": "execute_result",
          "data": {
            "application/vnd.google.colaboratory.intrinsic+json": {
              "type": "string"
            },
            "text/plain": [
              "'Federico Bernal, interventor en el Enargas, defendió nuevamente la ley de Zonas Frías, que amplió el subsidio al servicio de gas de 850.000 usuarios a 4 millones de personas. El proyecto, que fue impulsado por el diputado Máximo Kirchner, recibió critícas porque está considerado que beneficia a los más ricos, ya que reduce la tarifa para aquellos usuarios que tienen gas por red, pero no tiene en cuenta a los que compran garrafas. Bernal señaló que hay que generar más inversiones para que todos los usuarios tengan acceso a gas por red e indicó que la ley contempla que, aquellos usuarios que quieran renunciar al subsidio lo puedan hacer.'"
            ]
          },
          "metadata": {
            "tags": []
          },
          "execution_count": 31
        }
      ]
    },
    {
      "cell_type": "markdown",
      "metadata": {
        "id": "xVR3hroNyYpX"
      },
      "source": [
        "## 6. Extraer información de la revista CIFE"
      ]
    },
    {
      "cell_type": "code",
      "metadata": {
        "id": "nxVOp0FFvQ-n",
        "colab": {
          "base_uri": "https://localhost:8080/"
        },
        "outputId": "73e39478-2597-4550-9897-5d5e5445993e"
      },
      "source": [
        "revista = 'https://revistas.usantotomas.edu.co/index.php/cife/issue/archive'\n",
        "pag_revista = rq.get(revista)\n",
        "pag_revista"
      ],
      "execution_count": null,
      "outputs": [
        {
          "output_type": "execute_result",
          "data": {
            "text/plain": [
              "<Response [200]>"
            ]
          },
          "metadata": {
            "tags": []
          },
          "execution_count": 2
        }
      ]
    },
    {
      "cell_type": "code",
      "metadata": {
        "id": "xRplzyc6GL4g"
      },
      "source": [
        "pag_revista_sopa = BeautifulSoup(pag_revista.text, 'lxml')"
      ],
      "execution_count": null,
      "outputs": []
    },
    {
      "cell_type": "code",
      "metadata": {
        "id": "UzcMgHL2GLvy",
        "colab": {
          "base_uri": "https://localhost:8080/",
          "height": 35
        },
        "outputId": "3edb9146-0c29-4744-a2f1-e731c17a18dc"
      },
      "source": [
        "pag_revista_sopa.find('h2', attrs={'class':'media-heading'}).a.get('href')"
      ],
      "execution_count": null,
      "outputs": [
        {
          "output_type": "execute_result",
          "data": {
            "application/vnd.google.colaboratory.intrinsic+json": {
              "type": "string"
            },
            "text/plain": [
              "'https://revistas.usantotomas.edu.co/index.php/cife/issue/view/568'"
            ]
          },
          "metadata": {
            "tags": []
          },
          "execution_count": 4
        }
      ]
    },
    {
      "cell_type": "code",
      "metadata": {
        "id": "QiwnI9ZTGLoy",
        "colab": {
          "base_uri": "https://localhost:8080/"
        },
        "outputId": "2bdbc78c-26b2-4756-9651-32ccc3e8b95e"
      },
      "source": [
        "pag_revista_sopa.find_all('h2', attrs={'class':'media-heading'})"
      ],
      "execution_count": null,
      "outputs": [
        {
          "output_type": "execute_result",
          "data": {
            "text/plain": [
              "[<h2 class=\"media-heading\">\n",
              " <a class=\"title\" href=\"https://revistas.usantotomas.edu.co/index.php/cife/issue/view/568\">\n",
              " \t\t\t\t\t\t\t\t\tVol. 23 Núm. 38 (2021)\n",
              " \t\t\t\t\t\t\t</a>\n",
              " </h2>, <h2 class=\"media-heading\">\n",
              " <a class=\"title\" href=\"https://revistas.usantotomas.edu.co/index.php/cife/issue/view/565\">\n",
              " \t\t\t\t\t\t\t\t\tVol. 22 Núm. 37 (2020)\n",
              " \t\t\t\t\t\t\t</a>\n",
              " </h2>, <h2 class=\"media-heading\">\n",
              " <a class=\"title\" href=\"https://revistas.usantotomas.edu.co/index.php/cife/issue/view/525\">\n",
              " \t\t\t\t\t\t\t\t\tVol. 22 Núm. 36 (2020)\n",
              " \t\t\t\t\t\t\t</a>\n",
              " </h2>, <h2 class=\"media-heading\">\n",
              " <a class=\"title\" href=\"https://revistas.usantotomas.edu.co/index.php/cife/issue/view/511\">\n",
              " \t\t\t\t\t\t\t\t\tVol. 21 Núm. 35 (2019)\n",
              " \t\t\t\t\t\t\t</a>\n",
              " </h2>, <h2 class=\"media-heading\">\n",
              " <a class=\"title\" href=\"https://revistas.usantotomas.edu.co/index.php/cife/issue/view/498\">\n",
              " \t\t\t\t\t\t\t\t\tVol. 21 Núm. 34 (2019)\n",
              " \t\t\t\t\t\t\t</a>\n",
              " </h2>, <h2 class=\"media-heading\">\n",
              " <a class=\"title\" href=\"https://revistas.usantotomas.edu.co/index.php/cife/issue/view/461\">\n",
              " \t\t\t\t\t\t\t\t\tVol. 20 Núm. 33 (2018)\n",
              " \t\t\t\t\t\t\t</a>\n",
              " </h2>, <h2 class=\"media-heading\">\n",
              " <a class=\"title\" href=\"https://revistas.usantotomas.edu.co/index.php/cife/issue/view/457\">\n",
              " \t\t\t\t\t\t\t\t\tVol. 20 Núm. 32 (2018)\n",
              " \t\t\t\t\t\t\t</a>\n",
              " </h2>, <h2 class=\"media-heading\">\n",
              " <a class=\"title\" href=\"https://revistas.usantotomas.edu.co/index.php/cife/issue/view/424\">\n",
              " \t\t\t\t\t\t\t\t\tREVISTA CIFE: LECTURAS DE ECONOMÍA SOCIAL\n",
              " \t\t\t\t\t\t\t</a>\n",
              " <div class=\"series lead\">\n",
              " \t\t\t\t\tVol. 19 Núm. 31 (2017)\n",
              " \t\t\t\t</div>\n",
              " </h2>, <h2 class=\"media-heading\">\n",
              " <a class=\"title\" href=\"https://revistas.usantotomas.edu.co/index.php/cife/issue/view/400\">\n",
              " \t\t\t\t\t\t\t\t\tREVISTA CIFE: LECTURAS DE ECONOMIA SOCIAL\n",
              " \t\t\t\t\t\t\t</a>\n",
              " <div class=\"series lead\">\n",
              " \t\t\t\t\tVol. 19 Núm. 30 (2017)\n",
              " \t\t\t\t</div>\n",
              " </h2>, <h2 class=\"media-heading\">\n",
              " <a class=\"title\" href=\"https://revistas.usantotomas.edu.co/index.php/cife/issue/view/371\">\n",
              " \t\t\t\t\t\t\t\t\tREVISTA CIFE: LECTURAS DE ECONOMIA SOCIAL\n",
              " \t\t\t\t\t\t\t</a>\n",
              " <div class=\"series lead\">\n",
              " \t\t\t\t\tVol. 18 Núm. 29 (2016)\n",
              " \t\t\t\t</div>\n",
              " </h2>, <h2 class=\"media-heading\">\n",
              " <a class=\"title\" href=\"https://revistas.usantotomas.edu.co/index.php/cife/issue/view/369\">\n",
              " \t\t\t\t\t\t\t\t\tREVISTA CIFE: LECTURAS DE ECONOMÍA SOCIAL\n",
              " \t\t\t\t\t\t\t</a>\n",
              " <div class=\"series lead\">\n",
              " \t\t\t\t\tVol. 18 Núm. 28 (2016)\n",
              " \t\t\t\t</div>\n",
              " </h2>, <h2 class=\"media-heading\">\n",
              " <a class=\"title\" href=\"https://revistas.usantotomas.edu.co/index.php/cife/issue/view/353\">\n",
              " \t\t\t\t\t\t\t\t\tREVISTA CIFE: LECTURAS DE ECONOMIA SOCIAL\n",
              " \t\t\t\t\t\t\t</a>\n",
              " <div class=\"series lead\">\n",
              " \t\t\t\t\tVol. 17 Núm. 27 (2015)\n",
              " \t\t\t\t</div>\n",
              " </h2>, <h2 class=\"media-heading\">\n",
              " <a class=\"title\" href=\"https://revistas.usantotomas.edu.co/index.php/cife/issue/view/348\">\n",
              " \t\t\t\t\t\t\t\t\tREVISTA CIFE: LECTURAS DE ECONOMIA SOCIAL\n",
              " \t\t\t\t\t\t\t</a>\n",
              " <div class=\"series lead\">\n",
              " \t\t\t\t\tVol. 17 Núm. 26 (2015)\n",
              " \t\t\t\t</div>\n",
              " </h2>, <h2 class=\"media-heading\">\n",
              " <a class=\"title\" href=\"https://revistas.usantotomas.edu.co/index.php/cife/issue/view/347\">\n",
              " \t\t\t\t\t\t\t\t\tREVISTA CIFE: LECTURAS DE ECONOMIA SOCIAL\n",
              " \t\t\t\t\t\t\t</a>\n",
              " <div class=\"series lead\">\n",
              " \t\t\t\t\tVol. 16 Núm. 25 (2014)\n",
              " \t\t\t\t</div>\n",
              " </h2>, <h2 class=\"media-heading\">\n",
              " <a class=\"title\" href=\"https://revistas.usantotomas.edu.co/index.php/cife/issue/view/246\">\n",
              " \t\t\t\t\t\t\t\t\tVol. 16 Núm. 24 (2014)\n",
              " \t\t\t\t\t\t\t</a>\n",
              " </h2>, <h2 class=\"media-heading\">\n",
              " <a class=\"title\" href=\"https://revistas.usantotomas.edu.co/index.php/cife/issue/view/185\">\n",
              " \t\t\t\t\t\t\t\t\tVol. 15 Núm. 23 (2013)\n",
              " \t\t\t\t\t\t\t</a>\n",
              " </h2>, <h2 class=\"media-heading\">\n",
              " <a class=\"title\" href=\"https://revistas.usantotomas.edu.co/index.php/cife/issue/view/184\">\n",
              " \t\t\t\t\t\t\t\t\tVol. 15 Núm. 22 (2013)\n",
              " \t\t\t\t\t\t\t</a>\n",
              " </h2>, <h2 class=\"media-heading\">\n",
              " <a class=\"title\" href=\"https://revistas.usantotomas.edu.co/index.php/cife/issue/view/183\">\n",
              " \t\t\t\t\t\t\t\t\tVol. 14 Núm. 21 (2012)\n",
              " \t\t\t\t\t\t\t</a>\n",
              " </h2>, <h2 class=\"media-heading\">\n",
              " <a class=\"title\" href=\"https://revistas.usantotomas.edu.co/index.php/cife/issue/view/112\">\n",
              " \t\t\t\t\t\t\t\t\tRevista CIFE: Lecturas de Economía Social\n",
              " \t\t\t\t\t\t\t</a>\n",
              " <div class=\"series lead\">\n",
              " \t\t\t\t\tVol. 14 Núm. 20 (2012)\n",
              " \t\t\t\t</div>\n",
              " </h2>, <h2 class=\"media-heading\">\n",
              " <a class=\"title\" href=\"https://revistas.usantotomas.edu.co/index.php/cife/issue/view/111\">\n",
              " \t\t\t\t\t\t\t\t\tRevista CIFE: Lecturas de Economía Social\n",
              " \t\t\t\t\t\t\t</a>\n",
              " <div class=\"series lead\">\n",
              " \t\t\t\t\tVol. 13 Núm. 19 (2011)\n",
              " \t\t\t\t</div>\n",
              " </h2>, <h2 class=\"media-heading\">\n",
              " <a class=\"title\" href=\"https://revistas.usantotomas.edu.co/index.php/cife/issue/view/110\">\n",
              " \t\t\t\t\t\t\t\t\tRevista CIFE: Lecturas de Economía Social\n",
              " \t\t\t\t\t\t\t</a>\n",
              " <div class=\"series lead\">\n",
              " \t\t\t\t\tVol. 13 Núm. 18 (2011)\n",
              " \t\t\t\t</div>\n",
              " </h2>, <h2 class=\"media-heading\">\n",
              " <a class=\"title\" href=\"https://revistas.usantotomas.edu.co/index.php/cife/issue/view/109\">\n",
              " \t\t\t\t\t\t\t\t\tVol. 12 Núm. 17 (2010)\n",
              " \t\t\t\t\t\t\t</a>\n",
              " </h2>, <h2 class=\"media-heading\">\n",
              " <a class=\"title\" href=\"https://revistas.usantotomas.edu.co/index.php/cife/issue/view/108\">\n",
              " \t\t\t\t\t\t\t\t\tVol. 12 Núm. 16 (2010)\n",
              " \t\t\t\t\t\t\t</a>\n",
              " </h2>, <h2 class=\"media-heading\">\n",
              " <a class=\"title\" href=\"https://revistas.usantotomas.edu.co/index.php/cife/issue/view/107\">\n",
              " \t\t\t\t\t\t\t\t\tRevista CIFE: Lecturas de Economía Social\n",
              " \t\t\t\t\t\t\t</a>\n",
              " <div class=\"series lead\">\n",
              " \t\t\t\t\tVol. 11 Núm. 15 (2009)\n",
              " \t\t\t\t</div>\n",
              " </h2>, <h2 class=\"media-heading\">\n",
              " <a class=\"title\" href=\"https://revistas.usantotomas.edu.co/index.php/cife/issue/view/106\">\n",
              " \t\t\t\t\t\t\t\t\tRevista CIFE: Lecturas de Economía Social\n",
              " \t\t\t\t\t\t\t</a>\n",
              " <div class=\"series lead\">\n",
              " \t\t\t\t\tVol. 11 Núm. 14 (2009)\n",
              " \t\t\t\t</div>\n",
              " </h2>]"
            ]
          },
          "metadata": {
            "tags": []
          },
          "execution_count": 5
        }
      ]
    },
    {
      "cell_type": "code",
      "metadata": {
        "id": "l406Fn4eGLZr"
      },
      "source": [
        "numeros = pag_revista_sopa.find_all('h2', attrs={'class':'media-heading'})"
      ],
      "execution_count": null,
      "outputs": []
    },
    {
      "cell_type": "code",
      "metadata": {
        "id": "YvSUEq75rWIQ"
      },
      "source": [],
      "execution_count": null,
      "outputs": []
    },
    {
      "cell_type": "code",
      "metadata": {
        "id": "ayrex8_xGLRa"
      },
      "source": [
        "import requests as rq\n",
        "from bs4 import BeautifulSoup\n",
        "import datetime\n",
        "\n",
        "datos = {'titulo':[],\n",
        "         'autores':[],\n",
        "         'abstract':[],\n",
        "         'edicion':[]}\n",
        "contador = 0\n",
        "for numero in numeros[:-1]:\n",
        "  pag_numero = rq.get(numero.a.get('href'))\n",
        "  pag_numero_sopa = BeautifulSoup(pag_numero.text, 'lxml')\n",
        "  articulos = pag_numero_sopa.find_all('h3', attrs={'class':'media-heading'})\n",
        "  for articulo in articulos:\n",
        "    pag_articulo = rq.get(articulo.a.get('href'))\n",
        "    pag_articulo_sopa = BeautifulSoup(pag_articulo.text, 'lxml')\n",
        "    datos['titulo'].append(pag_articulo_sopa.find('h2', attrs={'class':'page-header'}).text)\n",
        "    datos['autores'].append(pag_articulo_sopa.find('div', attrs={'class':'authors'}).text)\n",
        "    datos['abstract'].append(pag_articulo_sopa.find('div', attrs={'class':'article-abstract'}).text)\n",
        "    datos['edicion'].append(pag_articulo_sopa.find('ol', attrs={'class':'breadcrumb'}).find_all('li')[2].text)\n",
        "    contador+=1\n",
        "    print(contador)\n",
        "\n"
      ],
      "execution_count": null,
      "outputs": []
    },
    {
      "cell_type": "markdown",
      "metadata": {
        "id": "na8YwVqxzOZC"
      },
      "source": [
        "## 7. Almacenar la información en un dataframe"
      ]
    },
    {
      "cell_type": "code",
      "metadata": {
        "id": "ChDlLSckzR_y"
      },
      "source": [
        "import pandas as pd\n",
        "\n",
        "data_texto = pd.DataFrame(datos)\n",
        "data_texto.to_csv('data_texto.csv')"
      ],
      "execution_count": null,
      "outputs": []
    },
    {
      "cell_type": "code",
      "metadata": {
        "id": "4S22B6Bjz4Rv",
        "colab": {
          "base_uri": "https://localhost:8080/"
        },
        "outputId": "30d329c9-6a25-4d2e-a82a-ff42fa0b18fb"
      },
      "source": [
        "%%time\n",
        "l = [parrafo.text for parrafo in parrafos]\n",
        "' '.join(l)"
      ],
      "execution_count": null,
      "outputs": [
        {
          "output_type": "stream",
          "text": [
            "CPU times: user 131 µs, sys: 0 ns, total: 131 µs\n",
            "Wall time: 135 µs\n"
          ],
          "name": "stdout"
        }
      ]
    },
    {
      "cell_type": "code",
      "metadata": {
        "colab": {
          "base_uri": "https://localhost:8080/"
        },
        "id": "y5Ljrc5bsoJd",
        "outputId": "cfd1ba1d-ebb9-40f7-f4c1-9aae47b68c9a"
      },
      "source": [
        "%%time\n",
        "texto = ''\n",
        "for parrafo in parrafos:\n",
        "  texto = texto + parrafo.text + ' '"
      ],
      "execution_count": null,
      "outputs": [
        {
          "output_type": "stream",
          "text": [
            "CPU times: user 239 µs, sys: 0 ns, total: 239 µs\n",
            "Wall time: 248 µs\n"
          ],
          "name": "stdout"
        }
      ]
    },
    {
      "cell_type": "code",
      "metadata": {
        "colab": {
          "base_uri": "https://localhost:8080/",
          "height": 419
        },
        "id": "UGIDsKLKvMuC",
        "outputId": "6a3d428a-41d4-48c3-850a-45202e0a695a"
      },
      "source": [
        "data_texto"
      ],
      "execution_count": null,
      "outputs": [
        {
          "output_type": "execute_result",
          "data": {
            "text/html": [
              "<div>\n",
              "<style scoped>\n",
              "    .dataframe tbody tr th:only-of-type {\n",
              "        vertical-align: middle;\n",
              "    }\n",
              "\n",
              "    .dataframe tbody tr th {\n",
              "        vertical-align: top;\n",
              "    }\n",
              "\n",
              "    .dataframe thead th {\n",
              "        text-align: right;\n",
              "    }\n",
              "</style>\n",
              "<table border=\"1\" class=\"dataframe\">\n",
              "  <thead>\n",
              "    <tr style=\"text-align: right;\">\n",
              "      <th></th>\n",
              "      <th>titulo</th>\n",
              "      <th>autores</th>\n",
              "      <th>abstract</th>\n",
              "      <th>edicion</th>\n",
              "    </tr>\n",
              "  </thead>\n",
              "  <tbody>\n",
              "    <tr>\n",
              "      <th>0</th>\n",
              "      <td>\\n\\t\\t\\tCrónica de una transformación anunciad...</td>\n",
              "      <td>\\nVíctor Hugo Malagón Basto\\n</td>\n",
              "      <td>\\n\\t\\t\\t\\t\\t\\t\\tEn la actual sociedad del cono...</td>\n",
              "      <td>\\n\\n\\t\\t\\t\\tVol. 23 Núm. 38 (2021)\\n\\t\\t\\t\\n</td>\n",
              "    </tr>\n",
              "    <tr>\n",
              "      <th>1</th>\n",
              "      <td>\\n\\t\\t\\tEl sistema de crédito digital para mic...</td>\n",
              "      <td>\\nLenin A. Muñoz G.\\n</td>\n",
              "      <td>\\n\\t\\t\\t\\t\\t\\t\\tEl proyecto aplicado empresari...</td>\n",
              "      <td>\\n\\n\\t\\t\\t\\tVol. 23 Núm. 38 (2021)\\n\\t\\t\\t\\n</td>\n",
              "    </tr>\n",
              "    <tr>\n",
              "      <th>2</th>\n",
              "      <td>\\n\\t\\t\\tCreación de un plan para aumentar los ...</td>\n",
              "      <td>\\nCarlos David De La Ossa Paternina\\n</td>\n",
              "      <td>\\n\\t\\t\\t\\t\\t\\t\\tHay una tendencia mundial a la...</td>\n",
              "      <td>\\n\\n\\t\\t\\t\\tVol. 23 Núm. 38 (2021)\\n\\t\\t\\t\\n</td>\n",
              "    </tr>\n",
              "    <tr>\n",
              "      <th>3</th>\n",
              "      <td>\\n\\t\\t\\tImplementación de un modelo de planeac...</td>\n",
              "      <td>\\nMaría Camila Sandoval Acevedo\\nMauricio Edua...</td>\n",
              "      <td>\\n\\t\\t\\t\\t\\t\\t\\tMediante un estudio de caso, e...</td>\n",
              "      <td>\\n\\n\\t\\t\\t\\tVol. 23 Núm. 38 (2021)\\n\\t\\t\\t\\n</td>\n",
              "    </tr>\n",
              "    <tr>\n",
              "      <th>4</th>\n",
              "      <td>\\n\\t\\t\\tSistema de gestión del conocimiento pa...</td>\n",
              "      <td>\\nEdison  Alonso Sosa\\nMaría Elizabeth Duque M...</td>\n",
              "      <td>\\n\\t\\t\\t\\t\\t\\t\\tEl sistema de salud para segur...</td>\n",
              "      <td>\\n\\n\\t\\t\\t\\tVol. 23 Núm. 38 (2021)\\n\\t\\t\\t\\n</td>\n",
              "    </tr>\n",
              "    <tr>\n",
              "      <th>...</th>\n",
              "      <td>...</td>\n",
              "      <td>...</td>\n",
              "      <td>...</td>\n",
              "      <td>...</td>\n",
              "    </tr>\n",
              "    <tr>\n",
              "      <th>164</th>\n",
              "      <td>\\n\\t\\t\\tEducación secundaria y sus posibles ef...</td>\n",
              "      <td>\\nBenjamín Afanador Vargas\\n\\n\\t\\t\\t\\t\\t\\t\\t\\t...</td>\n",
              "      <td>\\n\\t\\t\\t\\t\\t\\t\\tEl presente trabajo aborda la ...</td>\n",
              "      <td>\\n\\n\\t\\t\\t\\tVol. 11 Núm. 15 (2009): Revista CI...</td>\n",
              "    </tr>\n",
              "    <tr>\n",
              "      <th>165</th>\n",
              "      <td>\\n\\t\\t\\tModelo para regular la movilidad labor...</td>\n",
              "      <td>\\nGustavo Sandoval Betancourt\\n\\n\\t\\t\\t\\t\\t\\t\\...</td>\n",
              "      <td>\\n\\t\\t\\t\\t\\t\\t\\tEn este trabajo se hace un eje...</td>\n",
              "      <td>\\n\\n\\t\\t\\t\\tVol. 11 Núm. 15 (2009): Revista CI...</td>\n",
              "    </tr>\n",
              "    <tr>\n",
              "      <th>166</th>\n",
              "      <td>\\n\\t\\t\\tDerechos Humanos y violencia en Colomb...</td>\n",
              "      <td>\\nJin Anthony Cotrino Poveda\\n\\n\\t\\t\\t\\t\\t\\t\\t...</td>\n",
              "      <td>\\n\\t\\t\\t\\t\\t\\t\\tEl presente artículo explora l...</td>\n",
              "      <td>\\n\\n\\t\\t\\t\\tVol. 11 Núm. 15 (2009): Revista CI...</td>\n",
              "    </tr>\n",
              "    <tr>\n",
              "      <th>167</th>\n",
              "      <td>\\n\\t\\t\\tEl efecto interdependencia entre Colom...</td>\n",
              "      <td>\\nSandra Lucero Rodríguez Samacá\\n\\n\\t\\t\\t\\t\\t...</td>\n",
              "      <td>\\n\\t\\t\\t\\t\\t\\t\\tUno de los hechos que ha carac...</td>\n",
              "      <td>\\n\\n\\t\\t\\t\\tVol. 11 Núm. 15 (2009): Revista CI...</td>\n",
              "    </tr>\n",
              "    <tr>\n",
              "      <th>168</th>\n",
              "      <td>\\n\\t\\t\\tChoques de política fiscal y sus efect...</td>\n",
              "      <td>\\nÁlvaro Díaz\\n\\n\\t\\t\\t\\t\\t\\t\\t\\t\\tUniversidad...</td>\n",
              "      <td>\\n\\t\\t\\t\\t\\t\\t\\tEl presente documento busca ev...</td>\n",
              "      <td>\\n\\n\\t\\t\\t\\tVol. 11 Núm. 15 (2009): Revista CI...</td>\n",
              "    </tr>\n",
              "  </tbody>\n",
              "</table>\n",
              "<p>169 rows × 4 columns</p>\n",
              "</div>"
            ],
            "text/plain": [
              "                                                titulo  ...                                            edicion\n",
              "0    \\n\\t\\t\\tCrónica de una transformación anunciad...  ...       \\n\\n\\t\\t\\t\\tVol. 23 Núm. 38 (2021)\\n\\t\\t\\t\\n\n",
              "1    \\n\\t\\t\\tEl sistema de crédito digital para mic...  ...       \\n\\n\\t\\t\\t\\tVol. 23 Núm. 38 (2021)\\n\\t\\t\\t\\n\n",
              "2    \\n\\t\\t\\tCreación de un plan para aumentar los ...  ...       \\n\\n\\t\\t\\t\\tVol. 23 Núm. 38 (2021)\\n\\t\\t\\t\\n\n",
              "3    \\n\\t\\t\\tImplementación de un modelo de planeac...  ...       \\n\\n\\t\\t\\t\\tVol. 23 Núm. 38 (2021)\\n\\t\\t\\t\\n\n",
              "4    \\n\\t\\t\\tSistema de gestión del conocimiento pa...  ...       \\n\\n\\t\\t\\t\\tVol. 23 Núm. 38 (2021)\\n\\t\\t\\t\\n\n",
              "..                                                 ...  ...                                                ...\n",
              "164  \\n\\t\\t\\tEducación secundaria y sus posibles ef...  ...  \\n\\n\\t\\t\\t\\tVol. 11 Núm. 15 (2009): Revista CI...\n",
              "165  \\n\\t\\t\\tModelo para regular la movilidad labor...  ...  \\n\\n\\t\\t\\t\\tVol. 11 Núm. 15 (2009): Revista CI...\n",
              "166  \\n\\t\\t\\tDerechos Humanos y violencia en Colomb...  ...  \\n\\n\\t\\t\\t\\tVol. 11 Núm. 15 (2009): Revista CI...\n",
              "167  \\n\\t\\t\\tEl efecto interdependencia entre Colom...  ...  \\n\\n\\t\\t\\t\\tVol. 11 Núm. 15 (2009): Revista CI...\n",
              "168  \\n\\t\\t\\tChoques de política fiscal y sus efect...  ...  \\n\\n\\t\\t\\t\\tVol. 11 Núm. 15 (2009): Revista CI...\n",
              "\n",
              "[169 rows x 4 columns]"
            ]
          },
          "metadata": {
            "tags": []
          },
          "execution_count": 9
        }
      ]
    },
    {
      "cell_type": "code",
      "metadata": {
        "id": "i_0OSSnUwDak"
      },
      "source": [
        "textos = data_texto['abstract']"
      ],
      "execution_count": null,
      "outputs": []
    },
    {
      "cell_type": "code",
      "metadata": {
        "id": "dC7CJDcDNXbi"
      },
      "source": [
        "pip install contexto"
      ],
      "execution_count": null,
      "outputs": []
    },
    {
      "cell_type": "code",
      "metadata": {
        "id": "ICRD8RAzNX1K"
      },
      "source": [
        "from contexto.limpieza import limpieza_texto, lista_stopwords"
      ],
      "execution_count": null,
      "outputs": []
    },
    {
      "cell_type": "code",
      "metadata": {
        "id": "7Yzfswb9NsMU"
      },
      "source": [
        "from contexto.vectorizacion import VectorizadorFrecuencias"
      ],
      "execution_count": null,
      "outputs": []
    },
    {
      "cell_type": "code",
      "metadata": {
        "colab": {
          "base_uri": "https://localhost:8080/"
        },
        "id": "HkOqcVVqNwTK",
        "outputId": "17d6d1ba-490a-494e-ff16-be1640530bdd"
      },
      "source": [
        "textos_limpios = [limpieza_texto(texto, lista_palabras=lista_stopwords(), n_min=4) for texto in textos]"
      ],
      "execution_count": null,
      "outputs": [
        {
          "output_type": "stream",
          "text": [
            "[nltk_data] Downloading package stopwords to /root/nltk_data...\n",
            "[nltk_data]   Unzipping corpora/stopwords.zip.\n"
          ],
          "name": "stderr"
        }
      ]
    },
    {
      "cell_type": "code",
      "metadata": {
        "id": "SLiwSTkHNxlD"
      },
      "source": [
        "textos_limpios"
      ],
      "execution_count": null,
      "outputs": []
    },
    {
      "cell_type": "code",
      "metadata": {
        "id": "HJlRklEyN72J"
      },
      "source": [],
      "execution_count": null,
      "outputs": []
    }
  ]
}