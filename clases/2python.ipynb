{
  "nbformat": 4,
  "nbformat_minor": 0,
  "metadata": {
    "colab": {
      "provenance": []
    },
    "kernelspec": {
      "name": "python3",
      "display_name": "Python 3"
    },
    "language_info": {
      "name": "python"
    }
  },
  "cells": [
    {
      "cell_type": "code",
      "execution_count": 106,
      "metadata": {
        "id": "YoQjH248gNDY"
      },
      "outputs": [],
      "source": [
        "def pares_impares(lista):\n",
        "  \"\"\"\n",
        "  Esta función clasifica los números de la lista\n",
        "  \"\"\"\n",
        "  dic_nums = {'pares': [],\n",
        "              'impares': []}\n",
        "\n",
        "  for num in lista:\n",
        "    if num % 2 == 0:\n",
        "      dic_nums['pares'].append(num)\n",
        "    else:\n",
        "      dic_nums['impares'].append(num)\n",
        "\n",
        "  return dic_nums['pares'], dic_nums['impares']"
      ]
    },
    {
      "cell_type": "code",
      "source": [
        "pares, impares = pares_impares([4, 3, 2, 5, 4, 46, 65, 78, 90, 12])\n",
        "print(f\"pares: {pares}\")\n",
        "print(f\"impares: {impares}\")"
      ],
      "metadata": {
        "colab": {
          "base_uri": "https://localhost:8080/"
        },
        "id": "CNB-BRp-6W0G",
        "outputId": "30642c84-8f58-40bf-af8a-a73755018a3b"
      },
      "execution_count": 108,
      "outputs": [
        {
          "output_type": "stream",
          "name": "stdout",
          "text": [
            "pares: [4, 2, 4, 46, 78, 90, 12]\n",
            "impares: [3, 5, 65]\n"
          ]
        }
      ]
    },
    {
      "cell_type": "markdown",
      "source": [
        "## Listas"
      ],
      "metadata": {
        "id": "x5ET6YywiW5A"
      }
    },
    {
      "cell_type": "markdown",
      "source": [
        "### Indexing"
      ],
      "metadata": {
        "id": "_07BsJuCiYWw"
      }
    },
    {
      "cell_type": "code",
      "source": [
        "l = [1, 8, 7, 9, 7]\n",
        "l"
      ],
      "metadata": {
        "colab": {
          "base_uri": "https://localhost:8080/"
        },
        "id": "6fhwyXIuiav5",
        "outputId": "b973adc0-3a26-4898-9f2d-9aef8342bfe9"
      },
      "execution_count": 1,
      "outputs": [
        {
          "output_type": "execute_result",
          "data": {
            "text/plain": [
              "[1, 8, 7, 9, 7]"
            ]
          },
          "metadata": {},
          "execution_count": 1
        }
      ]
    },
    {
      "cell_type": "code",
      "source": [
        "type(l)"
      ],
      "metadata": {
        "colab": {
          "base_uri": "https://localhost:8080/"
        },
        "id": "-nZXbS6FihJR",
        "outputId": "60101a60-45fb-4eea-d9fe-063f5b4d5eac"
      },
      "execution_count": 2,
      "outputs": [
        {
          "output_type": "execute_result",
          "data": {
            "text/plain": [
              "list"
            ]
          },
          "metadata": {},
          "execution_count": 2
        }
      ]
    },
    {
      "cell_type": "code",
      "source": [
        "l[0]"
      ],
      "metadata": {
        "colab": {
          "base_uri": "https://localhost:8080/"
        },
        "id": "SXMeEx1WihEo",
        "outputId": "3b827de7-b06a-4c6d-a2aa-319dd1e39eaf"
      },
      "execution_count": 3,
      "outputs": [
        {
          "output_type": "execute_result",
          "data": {
            "text/plain": [
              "1"
            ]
          },
          "metadata": {},
          "execution_count": 3
        }
      ]
    },
    {
      "cell_type": "code",
      "source": [
        "l[2]"
      ],
      "metadata": {
        "colab": {
          "base_uri": "https://localhost:8080/"
        },
        "id": "OqTIeJoNiuNh",
        "outputId": "5a631736-e336-4333-c2fb-f3024d1644e0"
      },
      "execution_count": 4,
      "outputs": [
        {
          "output_type": "execute_result",
          "data": {
            "text/plain": [
              "7"
            ]
          },
          "metadata": {},
          "execution_count": 4
        }
      ]
    },
    {
      "cell_type": "code",
      "source": [
        "l[-1]"
      ],
      "metadata": {
        "colab": {
          "base_uri": "https://localhost:8080/"
        },
        "id": "z-EZ4gybi0Zo",
        "outputId": "87feefd3-2728-406b-bdb5-45dc8ba7b0f3"
      },
      "execution_count": 5,
      "outputs": [
        {
          "output_type": "execute_result",
          "data": {
            "text/plain": [
              "7"
            ]
          },
          "metadata": {},
          "execution_count": 5
        }
      ]
    },
    {
      "cell_type": "code",
      "source": [
        "l[9]"
      ],
      "metadata": {
        "colab": {
          "base_uri": "https://localhost:8080/",
          "height": 176
        },
        "id": "zLGMs5Vfi3xp",
        "outputId": "23fd20d7-eb26-46b9-84ae-8d5bf2c370cb"
      },
      "execution_count": 6,
      "outputs": [
        {
          "output_type": "error",
          "ename": "IndexError",
          "evalue": "ignored",
          "traceback": [
            "\u001b[0;31m---------------------------------------------------------------------------\u001b[0m",
            "\u001b[0;31mIndexError\u001b[0m                                Traceback (most recent call last)",
            "\u001b[0;32m<ipython-input-6-af148481e71f>\u001b[0m in \u001b[0;36m<cell line: 1>\u001b[0;34m()\u001b[0m\n\u001b[0;32m----> 1\u001b[0;31m \u001b[0ml\u001b[0m\u001b[0;34m[\u001b[0m\u001b[0;36m9\u001b[0m\u001b[0;34m]\u001b[0m\u001b[0;34m\u001b[0m\u001b[0;34m\u001b[0m\u001b[0m\n\u001b[0m",
            "\u001b[0;31mIndexError\u001b[0m: list index out of range"
          ]
        }
      ]
    },
    {
      "cell_type": "markdown",
      "source": [
        "### Slicing"
      ],
      "metadata": {
        "id": "riqRaXrbiZmo"
      }
    },
    {
      "cell_type": "code",
      "source": [
        "l2 = [4, 1, 3, 2, 4, 6, 3, 34, 3, 21, 8, 78, 6, 58]\n",
        "l2"
      ],
      "metadata": {
        "colab": {
          "base_uri": "https://localhost:8080/"
        },
        "id": "9UmPAnIZiWwo",
        "outputId": "fa7261fe-67ab-4ad2-aaf3-c4fdb90a15f4"
      },
      "execution_count": 7,
      "outputs": [
        {
          "output_type": "execute_result",
          "data": {
            "text/plain": [
              "[4, 1, 3, 2, 4, 6, 3, 34, 3, 21, 8, 78, 6, 58]"
            ]
          },
          "metadata": {},
          "execution_count": 7
        }
      ]
    },
    {
      "cell_type": "code",
      "source": [
        "l2[0:5:1] #[start:stop:step]"
      ],
      "metadata": {
        "colab": {
          "base_uri": "https://localhost:8080/"
        },
        "id": "CGiIALVKjCU4",
        "outputId": "42a07905-e091-44f7-99c4-5f72ec2dd892"
      },
      "execution_count": 8,
      "outputs": [
        {
          "output_type": "execute_result",
          "data": {
            "text/plain": [
              "[4, 1, 3, 2, 4]"
            ]
          },
          "metadata": {},
          "execution_count": 8
        }
      ]
    },
    {
      "cell_type": "code",
      "source": [
        "l2[4:10:3]"
      ],
      "metadata": {
        "colab": {
          "base_uri": "https://localhost:8080/"
        },
        "id": "TTLqgWA6jCSB",
        "outputId": "9a411099-1c74-46f4-b562-8cb8c0b98c10"
      },
      "execution_count": 10,
      "outputs": [
        {
          "output_type": "execute_result",
          "data": {
            "text/plain": [
              "[4, 34]"
            ]
          },
          "metadata": {},
          "execution_count": 10
        }
      ]
    },
    {
      "cell_type": "code",
      "source": [
        "l2[1:8:2]"
      ],
      "metadata": {
        "colab": {
          "base_uri": "https://localhost:8080/"
        },
        "id": "R20dm_TrjCOY",
        "outputId": "4b37a2e1-b878-4963-fb2f-cdc15d8f4698"
      },
      "execution_count": 11,
      "outputs": [
        {
          "output_type": "execute_result",
          "data": {
            "text/plain": [
              "[1, 2, 6, 34]"
            ]
          },
          "metadata": {},
          "execution_count": 11
        }
      ]
    },
    {
      "cell_type": "code",
      "source": [
        "l2[::-1]"
      ],
      "metadata": {
        "colab": {
          "base_uri": "https://localhost:8080/"
        },
        "id": "NGn62lCOkBxn",
        "outputId": "ae60dea3-42b5-42aa-c994-baaa44b55ee5"
      },
      "execution_count": 12,
      "outputs": [
        {
          "output_type": "execute_result",
          "data": {
            "text/plain": [
              "[58, 6, 78, 8, 21, 3, 34, 3, 6, 4, 2, 3, 1, 4]"
            ]
          },
          "metadata": {},
          "execution_count": 12
        }
      ]
    },
    {
      "cell_type": "markdown",
      "source": [
        "### Métodos (listas)"
      ],
      "metadata": {
        "id": "zLIXe7zrkc53"
      }
    },
    {
      "cell_type": "code",
      "source": [
        "l2"
      ],
      "metadata": {
        "colab": {
          "base_uri": "https://localhost:8080/"
        },
        "id": "T73UmcKJkUV3",
        "outputId": "3b512817-bebb-42b4-ea78-c318df03b2f8"
      },
      "execution_count": 13,
      "outputs": [
        {
          "output_type": "execute_result",
          "data": {
            "text/plain": [
              "[4, 1, 3, 2, 4, 6, 3, 34, 3, 21, 8, 78, 6, 58]"
            ]
          },
          "metadata": {},
          "execution_count": 13
        }
      ]
    },
    {
      "cell_type": "markdown",
      "source": [
        "#### Agregar"
      ],
      "metadata": {
        "id": "oaTcRcQDkkgu"
      }
    },
    {
      "cell_type": "code",
      "source": [
        "l2.append(4)"
      ],
      "metadata": {
        "id": "FfIie-JKkjlm"
      },
      "execution_count": 14,
      "outputs": []
    },
    {
      "cell_type": "code",
      "source": [
        "l2"
      ],
      "metadata": {
        "colab": {
          "base_uri": "https://localhost:8080/"
        },
        "id": "in8g87UAkoD3",
        "outputId": "a54ee98a-ace3-4acc-e8ed-a78355d8bc5d"
      },
      "execution_count": 15,
      "outputs": [
        {
          "output_type": "execute_result",
          "data": {
            "text/plain": [
              "[4, 1, 3, 2, 4, 6, 3, 34, 3, 21, 8, 78, 6, 58, 4]"
            ]
          },
          "metadata": {},
          "execution_count": 15
        }
      ]
    },
    {
      "cell_type": "code",
      "source": [
        "l2.insert(0, 10)"
      ],
      "metadata": {
        "id": "gkoK70HnkrZB"
      },
      "execution_count": 16,
      "outputs": []
    },
    {
      "cell_type": "code",
      "source": [
        "l2"
      ],
      "metadata": {
        "colab": {
          "base_uri": "https://localhost:8080/"
        },
        "id": "1tPu2KZ5k2cA",
        "outputId": "38b35200-f14f-48ef-cab8-57ad25164779"
      },
      "execution_count": 17,
      "outputs": [
        {
          "output_type": "execute_result",
          "data": {
            "text/plain": [
              "[10, 4, 1, 3, 2, 4, 6, 3, 34, 3, 21, 8, 78, 6, 58, 4]"
            ]
          },
          "metadata": {},
          "execution_count": 17
        }
      ]
    },
    {
      "cell_type": "code",
      "source": [
        "l2.extend([3, 4, 1])"
      ],
      "metadata": {
        "id": "aoLcmoaTk3Xh"
      },
      "execution_count": 18,
      "outputs": []
    },
    {
      "cell_type": "code",
      "source": [
        "l2"
      ],
      "metadata": {
        "colab": {
          "base_uri": "https://localhost:8080/"
        },
        "id": "2U2XKOyIlShn",
        "outputId": "bce1a402-7870-42e1-fda0-d603d2eacca1"
      },
      "execution_count": 19,
      "outputs": [
        {
          "output_type": "execute_result",
          "data": {
            "text/plain": [
              "[10, 4, 1, 3, 2, 4, 6, 3, 34, 3, 21, 8, 78, 6, 58, 4, 3, 4, 1]"
            ]
          },
          "metadata": {},
          "execution_count": 19
        }
      ]
    },
    {
      "cell_type": "code",
      "source": [
        "l2.remove(10)"
      ],
      "metadata": {
        "id": "rHzbk4bylS5m"
      },
      "execution_count": 20,
      "outputs": []
    },
    {
      "cell_type": "code",
      "source": [
        "l2"
      ],
      "metadata": {
        "colab": {
          "base_uri": "https://localhost:8080/"
        },
        "id": "Yv5e77_CloqV",
        "outputId": "2874130c-5f19-48aa-94ed-c9f1eff41fdf"
      },
      "execution_count": 21,
      "outputs": [
        {
          "output_type": "execute_result",
          "data": {
            "text/plain": [
              "[4, 1, 3, 2, 4, 6, 3, 34, 3, 21, 8, 78, 6, 58, 4, 3, 4, 1]"
            ]
          },
          "metadata": {},
          "execution_count": 21
        }
      ]
    },
    {
      "cell_type": "code",
      "source": [
        "l2.pop()"
      ],
      "metadata": {
        "colab": {
          "base_uri": "https://localhost:8080/"
        },
        "id": "nWZbWhKmljN0",
        "outputId": "3902d94f-bac1-4af5-9b37-308d704b1e32"
      },
      "execution_count": 22,
      "outputs": [
        {
          "output_type": "execute_result",
          "data": {
            "text/plain": [
              "1"
            ]
          },
          "metadata": {},
          "execution_count": 22
        }
      ]
    },
    {
      "cell_type": "code",
      "source": [
        "l2"
      ],
      "metadata": {
        "colab": {
          "base_uri": "https://localhost:8080/"
        },
        "id": "boqJkXUUl2dA",
        "outputId": "6e060405-76e4-467e-a63a-1f2bfd2f9667"
      },
      "execution_count": 23,
      "outputs": [
        {
          "output_type": "execute_result",
          "data": {
            "text/plain": [
              "[4, 1, 3, 2, 4, 6, 3, 34, 3, 21, 8, 78, 6, 58, 4, 3, 4]"
            ]
          },
          "metadata": {},
          "execution_count": 23
        }
      ]
    },
    {
      "cell_type": "code",
      "source": [
        "l2.pop(0)"
      ],
      "metadata": {
        "colab": {
          "base_uri": "https://localhost:8080/"
        },
        "id": "p9jfekJwljHj",
        "outputId": "634acec9-b7c5-4297-9e81-6b931ded8d84"
      },
      "execution_count": 24,
      "outputs": [
        {
          "output_type": "execute_result",
          "data": {
            "text/plain": [
              "4"
            ]
          },
          "metadata": {},
          "execution_count": 24
        }
      ]
    },
    {
      "cell_type": "code",
      "source": [
        "l2"
      ],
      "metadata": {
        "colab": {
          "base_uri": "https://localhost:8080/"
        },
        "id": "36r8j37sl_BY",
        "outputId": "63350df1-087e-490c-dd55-2fdee4042efd"
      },
      "execution_count": 25,
      "outputs": [
        {
          "output_type": "execute_result",
          "data": {
            "text/plain": [
              "[1, 3, 2, 4, 6, 3, 34, 3, 21, 8, 78, 6, 58, 4, 3, 4]"
            ]
          },
          "metadata": {},
          "execution_count": 25
        }
      ]
    },
    {
      "cell_type": "code",
      "source": [
        "l2.sort()"
      ],
      "metadata": {
        "id": "GqfSUUvVl_bo"
      },
      "execution_count": 26,
      "outputs": []
    },
    {
      "cell_type": "code",
      "source": [
        "l2"
      ],
      "metadata": {
        "colab": {
          "base_uri": "https://localhost:8080/"
        },
        "id": "HjdbcVKvmTk-",
        "outputId": "be3937e5-a72b-4666-9c84-53507226498e"
      },
      "execution_count": 27,
      "outputs": [
        {
          "output_type": "execute_result",
          "data": {
            "text/plain": [
              "[1, 2, 3, 3, 3, 3, 4, 4, 4, 6, 6, 8, 21, 34, 58, 78]"
            ]
          },
          "metadata": {},
          "execution_count": 27
        }
      ]
    },
    {
      "cell_type": "code",
      "source": [
        "l2.sort(reverse=True)"
      ],
      "metadata": {
        "id": "PByr05WAmT9f"
      },
      "execution_count": 28,
      "outputs": []
    },
    {
      "cell_type": "code",
      "source": [
        "l2"
      ],
      "metadata": {
        "colab": {
          "base_uri": "https://localhost:8080/"
        },
        "id": "BtFQurujmYd-",
        "outputId": "57f7993f-ef89-408c-d2ab-8d358ed6bcd6"
      },
      "execution_count": 29,
      "outputs": [
        {
          "output_type": "execute_result",
          "data": {
            "text/plain": [
              "[78, 58, 34, 21, 8, 6, 6, 4, 4, 4, 3, 3, 3, 3, 2, 1]"
            ]
          },
          "metadata": {},
          "execution_count": 29
        }
      ]
    },
    {
      "cell_type": "code",
      "source": [
        "l2.reverse()"
      ],
      "metadata": {
        "id": "KxrMKorGmYuO"
      },
      "execution_count": 32,
      "outputs": []
    },
    {
      "cell_type": "code",
      "source": [
        "l2"
      ],
      "metadata": {
        "colab": {
          "base_uri": "https://localhost:8080/"
        },
        "id": "rqokwpEtmnFp",
        "outputId": "b03b4cac-b8ac-400e-d533-ad10868cc14d"
      },
      "execution_count": 33,
      "outputs": [
        {
          "output_type": "execute_result",
          "data": {
            "text/plain": [
              "[78, 58, 34, 21, 8, 6, 6, 4, 4, 4, 3, 3, 3, 3, 2, 1]"
            ]
          },
          "metadata": {},
          "execution_count": 33
        }
      ]
    },
    {
      "cell_type": "code",
      "source": [
        "l2.count(4)"
      ],
      "metadata": {
        "colab": {
          "base_uri": "https://localhost:8080/"
        },
        "id": "abLbUjR2mncp",
        "outputId": "283123d3-9139-41f3-8bf6-f2e653537f90"
      },
      "execution_count": 34,
      "outputs": [
        {
          "output_type": "execute_result",
          "data": {
            "text/plain": [
              "3"
            ]
          },
          "metadata": {},
          "execution_count": 34
        }
      ]
    },
    {
      "cell_type": "code",
      "source": [
        "l2.count(0)"
      ],
      "metadata": {
        "colab": {
          "base_uri": "https://localhost:8080/"
        },
        "id": "TCtrCrudm3Dk",
        "outputId": "9cfd3751-91de-40b1-ba33-bacbc476249f"
      },
      "execution_count": 35,
      "outputs": [
        {
          "output_type": "execute_result",
          "data": {
            "text/plain": [
              "0"
            ]
          },
          "metadata": {},
          "execution_count": 35
        }
      ]
    },
    {
      "cell_type": "code",
      "source": [
        "l2.index(78)"
      ],
      "metadata": {
        "colab": {
          "base_uri": "https://localhost:8080/"
        },
        "id": "fP0p9zodm5BE",
        "outputId": "92c06142-f816-4a37-fa17-b0c6a7bde787"
      },
      "execution_count": 36,
      "outputs": [
        {
          "output_type": "execute_result",
          "data": {
            "text/plain": [
              "0"
            ]
          },
          "metadata": {},
          "execution_count": 36
        }
      ]
    },
    {
      "cell_type": "code",
      "source": [
        "l2.clear()"
      ],
      "metadata": {
        "id": "STqtLfgPm-S_"
      },
      "execution_count": 39,
      "outputs": []
    },
    {
      "cell_type": "code",
      "source": [
        "l2."
      ],
      "metadata": {
        "colab": {
          "base_uri": "https://localhost:8080/"
        },
        "id": "2wRgkjQFnTDa",
        "outputId": "e405f82a-bd80-4832-aa30-1f6f1055de39"
      },
      "execution_count": 41,
      "outputs": [
        {
          "output_type": "execute_result",
          "data": {
            "text/plain": [
              "[]"
            ]
          },
          "metadata": {},
          "execution_count": 41
        }
      ]
    },
    {
      "cell_type": "code",
      "source": [
        "a = [1, 4, 5]\n",
        "b = a\n",
        "print(a)\n",
        "print(b)\n",
        "print(\"Modificando...\")\n",
        "b.append(8)\n",
        "print(a)\n",
        "print(b)"
      ],
      "metadata": {
        "colab": {
          "base_uri": "https://localhost:8080/"
        },
        "id": "y8X6kwmYnTT6",
        "outputId": "08f46c79-b8e0-4d03-c65f-b4c3ec508666"
      },
      "execution_count": 42,
      "outputs": [
        {
          "output_type": "stream",
          "name": "stdout",
          "text": [
            "[1, 4, 5]\n",
            "[1, 4, 5]\n",
            "Modificando...\n",
            "[1, 4, 5, 8]\n",
            "[1, 4, 5, 8]\n"
          ]
        }
      ]
    },
    {
      "cell_type": "code",
      "source": [
        "a = [1, 4, 5]\n",
        "b = a.copy()\n",
        "print(a)\n",
        "print(b)\n",
        "print(\"Modificando...\")\n",
        "b.append(8)\n",
        "print(a)\n",
        "print(b)"
      ],
      "metadata": {
        "colab": {
          "base_uri": "https://localhost:8080/"
        },
        "id": "83Cg1M9Lnw1w",
        "outputId": "eb83d30b-36cf-4451-8d21-d85cb13dc45b"
      },
      "execution_count": 43,
      "outputs": [
        {
          "output_type": "stream",
          "name": "stdout",
          "text": [
            "[1, 4, 5]\n",
            "[1, 4, 5]\n",
            "Modificando...\n",
            "[1, 4, 5]\n",
            "[1, 4, 5, 8]\n"
          ]
        }
      ]
    },
    {
      "cell_type": "code",
      "source": [
        "l3 = [3, 2, 1, 4, 34, 2, 9]\n",
        "l3"
      ],
      "metadata": {
        "colab": {
          "base_uri": "https://localhost:8080/"
        },
        "id": "EQs0Y74ooBRD",
        "outputId": "90c09864-aae4-426a-8c5a-567f1d04f9ac"
      },
      "execution_count": 44,
      "outputs": [
        {
          "output_type": "execute_result",
          "data": {
            "text/plain": [
              "[3, 2, 1, 4, 34, 2, 9]"
            ]
          },
          "metadata": {},
          "execution_count": 44
        }
      ]
    },
    {
      "cell_type": "code",
      "source": [
        "l3.append(9)"
      ],
      "metadata": {
        "id": "2jZigj7qok20"
      },
      "execution_count": 45,
      "outputs": []
    },
    {
      "cell_type": "code",
      "source": [
        "l3.pop(1)"
      ],
      "metadata": {
        "colab": {
          "base_uri": "https://localhost:8080/"
        },
        "id": "S9LuuBxQooD0",
        "outputId": "ef5764f3-b5e4-459d-cd3a-3a4f0661fbe8"
      },
      "execution_count": 46,
      "outputs": [
        {
          "output_type": "execute_result",
          "data": {
            "text/plain": [
              "2"
            ]
          },
          "metadata": {},
          "execution_count": 46
        }
      ]
    },
    {
      "cell_type": "code",
      "source": [
        "l3.sort(reverse=True)"
      ],
      "metadata": {
        "id": "uHKZGL-Aor-U"
      },
      "execution_count": 47,
      "outputs": []
    },
    {
      "cell_type": "code",
      "source": [
        "l3"
      ],
      "metadata": {
        "colab": {
          "base_uri": "https://localhost:8080/"
        },
        "id": "y6f0zkvIox6k",
        "outputId": "4ca96633-4b62-47da-d999-bff235833e9b"
      },
      "execution_count": 48,
      "outputs": [
        {
          "output_type": "execute_result",
          "data": {
            "text/plain": [
              "[34, 9, 9, 4, 3, 2, 1]"
            ]
          },
          "metadata": {},
          "execution_count": 48
        }
      ]
    },
    {
      "cell_type": "code",
      "source": [
        "l3.extend([9, 2, 3])"
      ],
      "metadata": {
        "id": "3JRJP7HpoyaE"
      },
      "execution_count": 49,
      "outputs": []
    },
    {
      "cell_type": "code",
      "source": [
        "l3"
      ],
      "metadata": {
        "colab": {
          "base_uri": "https://localhost:8080/"
        },
        "id": "Z6SCVU39o6-E",
        "outputId": "2c01158d-81b7-4932-a7c3-cb6291f43790"
      },
      "execution_count": 50,
      "outputs": [
        {
          "output_type": "execute_result",
          "data": {
            "text/plain": [
              "[34, 9, 9, 4, 3, 2, 1, 9, 2, 3]"
            ]
          },
          "metadata": {},
          "execution_count": 50
        }
      ]
    },
    {
      "cell_type": "code",
      "source": [
        "l3.clear()"
      ],
      "metadata": {
        "id": "skSo-HsSo7j0"
      },
      "execution_count": 51,
      "outputs": []
    },
    {
      "cell_type": "code",
      "source": [
        "l3"
      ],
      "metadata": {
        "colab": {
          "base_uri": "https://localhost:8080/"
        },
        "id": "dDO2_s7Bo9lU",
        "outputId": "bfa218b4-004e-4d23-c9c5-4916779b2217"
      },
      "execution_count": 52,
      "outputs": [
        {
          "output_type": "execute_result",
          "data": {
            "text/plain": [
              "[]"
            ]
          },
          "metadata": {},
          "execution_count": 52
        }
      ]
    },
    {
      "cell_type": "code",
      "source": [
        "t = (3, 4, 5, 6)"
      ],
      "metadata": {
        "id": "j59wQUiHo9-0"
      },
      "execution_count": 53,
      "outputs": []
    },
    {
      "cell_type": "code",
      "source": [
        "type(t)"
      ],
      "metadata": {
        "colab": {
          "base_uri": "https://localhost:8080/"
        },
        "id": "tmtGC7CfpG4j",
        "outputId": "acfba92a-3eba-4160-8e2e-95e4fca5c2e2"
      },
      "execution_count": 54,
      "outputs": [
        {
          "output_type": "execute_result",
          "data": {
            "text/plain": [
              "tuple"
            ]
          },
          "metadata": {},
          "execution_count": 54
        }
      ]
    },
    {
      "cell_type": "code",
      "source": [
        "t.count(4)"
      ],
      "metadata": {
        "colab": {
          "base_uri": "https://localhost:8080/"
        },
        "id": "qavfTXZopHYj",
        "outputId": "7a8e1923-3543-4679-e2b6-af2436d05336"
      },
      "execution_count": 55,
      "outputs": [
        {
          "output_type": "execute_result",
          "data": {
            "text/plain": [
              "1"
            ]
          },
          "metadata": {},
          "execution_count": 55
        }
      ]
    },
    {
      "cell_type": "code",
      "source": [
        "t.index(3)"
      ],
      "metadata": {
        "colab": {
          "base_uri": "https://localhost:8080/"
        },
        "id": "_dNDBARjpOVj",
        "outputId": "ab0949ab-245f-43e3-ac02-1b5696e386c0"
      },
      "execution_count": 56,
      "outputs": [
        {
          "output_type": "execute_result",
          "data": {
            "text/plain": [
              "0"
            ]
          },
          "metadata": {},
          "execution_count": 56
        }
      ]
    },
    {
      "cell_type": "markdown",
      "source": [
        "## Diccionarios"
      ],
      "metadata": {
        "id": "wPedjlD0pulR"
      }
    },
    {
      "cell_type": "code",
      "source": [
        "d = {'ciudad': \"Bogotá\",\n",
        "     'edad': 21,\n",
        "     'nombre': 'Andrés',\n",
        "     'carrera': 'Finanzas'}"
      ],
      "metadata": {
        "id": "brPL8FropSCj"
      },
      "execution_count": 57,
      "outputs": []
    },
    {
      "cell_type": "code",
      "source": [
        "type(d)"
      ],
      "metadata": {
        "colab": {
          "base_uri": "https://localhost:8080/"
        },
        "id": "xTDGa7tLqUhA",
        "outputId": "f69c3420-922d-4ca7-8c2a-86e91824d03a"
      },
      "execution_count": 58,
      "outputs": [
        {
          "output_type": "execute_result",
          "data": {
            "text/plain": [
              "dict"
            ]
          },
          "metadata": {},
          "execution_count": 58
        }
      ]
    },
    {
      "cell_type": "code",
      "source": [
        "d['ciudad']"
      ],
      "metadata": {
        "colab": {
          "base_uri": "https://localhost:8080/",
          "height": 35
        },
        "id": "kooMCHv2qVDf",
        "outputId": "7e525eb4-84b6-43eb-9251-6eea7d698d19"
      },
      "execution_count": 59,
      "outputs": [
        {
          "output_type": "execute_result",
          "data": {
            "text/plain": [
              "'Bogotá'"
            ],
            "application/vnd.google.colaboratory.intrinsic+json": {
              "type": "string"
            }
          },
          "metadata": {},
          "execution_count": 59
        }
      ]
    },
    {
      "cell_type": "code",
      "source": [
        "d['barrio'] = \"Marly\""
      ],
      "metadata": {
        "id": "-aVxuILJqkbv"
      },
      "execution_count": 60,
      "outputs": []
    },
    {
      "cell_type": "code",
      "source": [
        "d"
      ],
      "metadata": {
        "colab": {
          "base_uri": "https://localhost:8080/"
        },
        "id": "XSDcJuwkq0TO",
        "outputId": "91786e31-9faa-4b5a-9557-0140f0cf1951"
      },
      "execution_count": 61,
      "outputs": [
        {
          "output_type": "execute_result",
          "data": {
            "text/plain": [
              "{'ciudad': 'Bogotá',\n",
              " 'edad': 21,\n",
              " 'nombre': 'Andrés',\n",
              " 'carrera': 'Finanzas',\n",
              " 'barrio': 'Marly'}"
            ]
          },
          "metadata": {},
          "execution_count": 61
        }
      ]
    },
    {
      "cell_type": "code",
      "source": [
        "d['localidad'] = \"Chapinero\""
      ],
      "metadata": {
        "id": "bAiqh_Xdq0id"
      },
      "execution_count": 62,
      "outputs": []
    },
    {
      "cell_type": "code",
      "source": [
        "d"
      ],
      "metadata": {
        "colab": {
          "base_uri": "https://localhost:8080/"
        },
        "id": "jWJ2UL52q-zt",
        "outputId": "0fbe4ade-de67-4e00-cf39-237fc6c6af43"
      },
      "execution_count": 63,
      "outputs": [
        {
          "output_type": "execute_result",
          "data": {
            "text/plain": [
              "{'ciudad': 'Bogotá',\n",
              " 'edad': 21,\n",
              " 'nombre': 'Andrés',\n",
              " 'carrera': 'Finanzas',\n",
              " 'barrio': 'Marly',\n",
              " 'localidad': 'Chapinero'}"
            ]
          },
          "metadata": {},
          "execution_count": 63
        }
      ]
    },
    {
      "cell_type": "code",
      "source": [
        "d['carrera']"
      ],
      "metadata": {
        "colab": {
          "base_uri": "https://localhost:8080/",
          "height": 35
        },
        "id": "IGAt0tFdq_a9",
        "outputId": "34d2aea5-e6df-4241-f5b2-46c65087bf87"
      },
      "execution_count": 64,
      "outputs": [
        {
          "output_type": "execute_result",
          "data": {
            "text/plain": [
              "'Finanzas'"
            ],
            "application/vnd.google.colaboratory.intrinsic+json": {
              "type": "string"
            }
          },
          "metadata": {},
          "execution_count": 64
        }
      ]
    },
    {
      "cell_type": "code",
      "source": [
        "d.pop('ciudad')"
      ],
      "metadata": {
        "colab": {
          "base_uri": "https://localhost:8080/",
          "height": 35
        },
        "id": "vGjSPWeWrI0d",
        "outputId": "533aab86-893c-4fe4-98c3-b33fc12a91c9"
      },
      "execution_count": 65,
      "outputs": [
        {
          "output_type": "execute_result",
          "data": {
            "text/plain": [
              "'Bogotá'"
            ],
            "application/vnd.google.colaboratory.intrinsic+json": {
              "type": "string"
            }
          },
          "metadata": {},
          "execution_count": 65
        }
      ]
    },
    {
      "cell_type": "code",
      "source": [
        "d"
      ],
      "metadata": {
        "colab": {
          "base_uri": "https://localhost:8080/"
        },
        "id": "YNcL1IuwrOgd",
        "outputId": "d03763c7-4c4d-4a44-ab81-3b5311637081"
      },
      "execution_count": 66,
      "outputs": [
        {
          "output_type": "execute_result",
          "data": {
            "text/plain": [
              "{'edad': 21,\n",
              " 'nombre': 'Andrés',\n",
              " 'carrera': 'Finanzas',\n",
              " 'barrio': 'Marly',\n",
              " 'localidad': 'Chapinero'}"
            ]
          },
          "metadata": {},
          "execution_count": 66
        }
      ]
    },
    {
      "cell_type": "code",
      "source": [
        "d.keys()"
      ],
      "metadata": {
        "colab": {
          "base_uri": "https://localhost:8080/"
        },
        "id": "J6IEa-SHrOp9",
        "outputId": "05539f27-fb38-4841-ed18-ab9e0b1047ee"
      },
      "execution_count": 67,
      "outputs": [
        {
          "output_type": "execute_result",
          "data": {
            "text/plain": [
              "dict_keys(['edad', 'nombre', 'carrera', 'barrio', 'localidad'])"
            ]
          },
          "metadata": {},
          "execution_count": 67
        }
      ]
    },
    {
      "cell_type": "code",
      "source": [
        "d.values()"
      ],
      "metadata": {
        "colab": {
          "base_uri": "https://localhost:8080/"
        },
        "id": "Mj7r13w6rUvc",
        "outputId": "a00e1938-16ed-490c-edb3-3cd99d51be7f"
      },
      "execution_count": 68,
      "outputs": [
        {
          "output_type": "execute_result",
          "data": {
            "text/plain": [
              "dict_values([21, 'Andrés', 'Finanzas', 'Marly', 'Chapinero'])"
            ]
          },
          "metadata": {},
          "execution_count": 68
        }
      ]
    },
    {
      "cell_type": "code",
      "source": [
        "d.items()"
      ],
      "metadata": {
        "colab": {
          "base_uri": "https://localhost:8080/"
        },
        "id": "uJfTbUK2rVj8",
        "outputId": "1d25aec7-6b0e-49dc-b708-e3ce04290f6e"
      },
      "execution_count": 69,
      "outputs": [
        {
          "output_type": "execute_result",
          "data": {
            "text/plain": [
              "dict_items([('edad', 21), ('nombre', 'Andrés'), ('carrera', 'Finanzas'), ('barrio', 'Marly'), ('localidad', 'Chapinero')])"
            ]
          },
          "metadata": {},
          "execution_count": 69
        }
      ]
    },
    {
      "cell_type": "code",
      "source": [
        "d"
      ],
      "metadata": {
        "colab": {
          "base_uri": "https://localhost:8080/"
        },
        "id": "RciHMUHqrWV8",
        "outputId": "ec9555cf-c3a5-425a-a6c7-7d38482b2821"
      },
      "execution_count": 70,
      "outputs": [
        {
          "output_type": "execute_result",
          "data": {
            "text/plain": [
              "{'edad': 21,\n",
              " 'nombre': 'Andrés',\n",
              " 'carrera': 'Finanzas',\n",
              " 'barrio': 'Marly',\n",
              " 'localidad': 'Chapinero'}"
            ]
          },
          "metadata": {},
          "execution_count": 70
        }
      ]
    },
    {
      "cell_type": "code",
      "source": [
        "t2 = (4, 5)"
      ],
      "metadata": {
        "id": "Y0J9rDhOrqKL"
      },
      "execution_count": 71,
      "outputs": []
    },
    {
      "cell_type": "code",
      "source": [
        "t2"
      ],
      "metadata": {
        "colab": {
          "base_uri": "https://localhost:8080/"
        },
        "id": "9qDY06cRrul7",
        "outputId": "3cfb84f3-c975-43ac-a562-fb4c021d9783"
      },
      "execution_count": 72,
      "outputs": [
        {
          "output_type": "execute_result",
          "data": {
            "text/plain": [
              "(4, 5)"
            ]
          },
          "metadata": {},
          "execution_count": 72
        }
      ]
    },
    {
      "cell_type": "code",
      "source": [
        "a, b = t2"
      ],
      "metadata": {
        "id": "ay_QiUYZru0r"
      },
      "execution_count": 73,
      "outputs": []
    },
    {
      "cell_type": "code",
      "source": [
        "a"
      ],
      "metadata": {
        "colab": {
          "base_uri": "https://localhost:8080/"
        },
        "id": "Iha5iqAkrzFb",
        "outputId": "00daf89f-5c4e-485c-9031-5c9dc0c3ba2a"
      },
      "execution_count": 74,
      "outputs": [
        {
          "output_type": "execute_result",
          "data": {
            "text/plain": [
              "4"
            ]
          },
          "metadata": {},
          "execution_count": 74
        }
      ]
    },
    {
      "cell_type": "code",
      "source": [
        "b"
      ],
      "metadata": {
        "colab": {
          "base_uri": "https://localhost:8080/"
        },
        "id": "0ukRy8fnr00b",
        "outputId": "2be84e04-789c-4811-fff8-68e47cd198e9"
      },
      "execution_count": 75,
      "outputs": [
        {
          "output_type": "execute_result",
          "data": {
            "text/plain": [
              "5"
            ]
          },
          "metadata": {},
          "execution_count": 75
        }
      ]
    },
    {
      "cell_type": "markdown",
      "source": [
        "### Bucles"
      ],
      "metadata": {
        "id": "lxyqpa5Dsa13"
      }
    },
    {
      "cell_type": "code",
      "source": [
        "l2"
      ],
      "metadata": {
        "colab": {
          "base_uri": "https://localhost:8080/"
        },
        "id": "Mm3Lghnqr0_7",
        "outputId": "8a90c63c-0e6a-4a12-ef34-a2fab30159d4"
      },
      "execution_count": 76,
      "outputs": [
        {
          "output_type": "execute_result",
          "data": {
            "text/plain": [
              "[]"
            ]
          },
          "metadata": {},
          "execution_count": 76
        }
      ]
    },
    {
      "cell_type": "code",
      "source": [
        "l3"
      ],
      "metadata": {
        "colab": {
          "base_uri": "https://localhost:8080/"
        },
        "id": "nbUZJs0JtAed",
        "outputId": "7f402c4a-002f-4628-eacb-683951567fb7"
      },
      "execution_count": 77,
      "outputs": [
        {
          "output_type": "execute_result",
          "data": {
            "text/plain": [
              "[]"
            ]
          },
          "metadata": {},
          "execution_count": 77
        }
      ]
    },
    {
      "cell_type": "code",
      "source": [
        "l4 = [3, 2, 1, 5, 4, 3, 7]"
      ],
      "metadata": {
        "id": "ChOxsLfJtBHM"
      },
      "execution_count": 78,
      "outputs": []
    },
    {
      "cell_type": "code",
      "source": [
        "for i in l4:\n",
        "  print(i ** 2)"
      ],
      "metadata": {
        "colab": {
          "base_uri": "https://localhost:8080/"
        },
        "id": "asZ6fN2ltDUM",
        "outputId": "514832a7-98bf-4a0a-f6e8-91113ccd01db"
      },
      "execution_count": 80,
      "outputs": [
        {
          "output_type": "stream",
          "name": "stdout",
          "text": [
            "9\n",
            "4\n",
            "1\n",
            "25\n",
            "16\n",
            "9\n",
            "49\n"
          ]
        }
      ]
    },
    {
      "cell_type": "code",
      "source": [
        "for i in l4:\n",
        "  print(\"Hola, mundo\")"
      ],
      "metadata": {
        "colab": {
          "base_uri": "https://localhost:8080/"
        },
        "id": "wF_-XvAGtFsc",
        "outputId": "e9c7a2a4-a48c-46c4-9451-9f0918d38338"
      },
      "execution_count": 81,
      "outputs": [
        {
          "output_type": "stream",
          "name": "stdout",
          "text": [
            "Hola, mundo\n",
            "Hola, mundo\n",
            "Hola, mundo\n",
            "Hola, mundo\n",
            "Hola, mundo\n",
            "Hola, mundo\n",
            "Hola, mundo\n"
          ]
        }
      ]
    },
    {
      "cell_type": "code",
      "source": [
        "lista_pares = []\n",
        "lista_impares = []\n",
        "l5 = [4, 3, 2, 5, 45, 65, 7, 8, 67, 91, 28, 34]"
      ],
      "metadata": {
        "id": "JMwMGI19txkm"
      },
      "execution_count": 86,
      "outputs": []
    },
    {
      "cell_type": "code",
      "source": [
        "for num in l5:\n",
        "  if num % 2 == 0:\n",
        "    lista_pares.append(num)\n",
        "  else:\n",
        "    lista_impares.append(num)\n",
        "\n",
        "  print(f\"pares: {lista_pares}\")\n",
        "\n",
        "  print(f\"impares: {lista_impares}\")\n",
        "  print('---' * 10)"
      ],
      "metadata": {
        "id": "3Ut9fz_cuNuN"
      },
      "execution_count": null,
      "outputs": []
    },
    {
      "cell_type": "code",
      "source": [
        "for letra in \"palabra\":\n",
        "  print(letra)\n"
      ],
      "metadata": {
        "colab": {
          "base_uri": "https://localhost:8080/"
        },
        "id": "wKY7tQhrue4A",
        "outputId": "4b135a68-6d7c-40e8-856a-432b524bac73"
      },
      "execution_count": 88,
      "outputs": [
        {
          "output_type": "stream",
          "name": "stdout",
          "text": [
            "p\n",
            "a\n",
            "l\n",
            "a\n",
            "b\n",
            "r\n",
            "a\n"
          ]
        }
      ]
    },
    {
      "cell_type": "code",
      "source": [
        "str1 = \"rpd\"\n",
        "str2 = \"aeo\"\n",
        "str3 = \"snm\"\n",
        "\n",
        "for ch1 in str1:\n",
        "  for ch2 in str2:\n",
        "    for ch3 in str3:\n",
        "      print(f\"{ch1}{ch2}{ch3}\")"
      ],
      "metadata": {
        "colab": {
          "base_uri": "https://localhost:8080/"
        },
        "id": "RX4rKqsLvclN",
        "outputId": "8299165f-343b-41a9-dc47-bc94adc513ac"
      },
      "execution_count": 91,
      "outputs": [
        {
          "output_type": "stream",
          "name": "stdout",
          "text": [
            "ras\n",
            "ran\n",
            "ram\n",
            "res\n",
            "ren\n",
            "rem\n",
            "ros\n",
            "ron\n",
            "rom\n",
            "pas\n",
            "pan\n",
            "pam\n",
            "pes\n",
            "pen\n",
            "pem\n",
            "pos\n",
            "pon\n",
            "pom\n",
            "das\n",
            "dan\n",
            "dam\n",
            "des\n",
            "den\n",
            "dem\n",
            "dos\n",
            "don\n",
            "dom\n"
          ]
        }
      ]
    },
    {
      "cell_type": "code",
      "source": [
        "for numero in range(2, 11):\n",
        "  for numero2 in range(1, 11):\n",
        "    print(f\"{numero} x {numero2} = {numero * numero2}\")"
      ],
      "metadata": {
        "colab": {
          "base_uri": "https://localhost:8080/"
        },
        "id": "ynmppg1Uvnrg",
        "outputId": "0b31b71b-cf62-4663-b795-fb863b2e8240"
      },
      "execution_count": 92,
      "outputs": [
        {
          "output_type": "stream",
          "name": "stdout",
          "text": [
            "2 x 1 = 2\n",
            "2 x 2 = 4\n",
            "2 x 3 = 6\n",
            "2 x 4 = 8\n",
            "2 x 5 = 10\n",
            "2 x 6 = 12\n",
            "2 x 7 = 14\n",
            "2 x 8 = 16\n",
            "2 x 9 = 18\n",
            "2 x 10 = 20\n",
            "3 x 1 = 3\n",
            "3 x 2 = 6\n",
            "3 x 3 = 9\n",
            "3 x 4 = 12\n",
            "3 x 5 = 15\n",
            "3 x 6 = 18\n",
            "3 x 7 = 21\n",
            "3 x 8 = 24\n",
            "3 x 9 = 27\n",
            "3 x 10 = 30\n",
            "4 x 1 = 4\n",
            "4 x 2 = 8\n",
            "4 x 3 = 12\n",
            "4 x 4 = 16\n",
            "4 x 5 = 20\n",
            "4 x 6 = 24\n",
            "4 x 7 = 28\n",
            "4 x 8 = 32\n",
            "4 x 9 = 36\n",
            "4 x 10 = 40\n",
            "5 x 1 = 5\n",
            "5 x 2 = 10\n",
            "5 x 3 = 15\n",
            "5 x 4 = 20\n",
            "5 x 5 = 25\n",
            "5 x 6 = 30\n",
            "5 x 7 = 35\n",
            "5 x 8 = 40\n",
            "5 x 9 = 45\n",
            "5 x 10 = 50\n",
            "6 x 1 = 6\n",
            "6 x 2 = 12\n",
            "6 x 3 = 18\n",
            "6 x 4 = 24\n",
            "6 x 5 = 30\n",
            "6 x 6 = 36\n",
            "6 x 7 = 42\n",
            "6 x 8 = 48\n",
            "6 x 9 = 54\n",
            "6 x 10 = 60\n",
            "7 x 1 = 7\n",
            "7 x 2 = 14\n",
            "7 x 3 = 21\n",
            "7 x 4 = 28\n",
            "7 x 5 = 35\n",
            "7 x 6 = 42\n",
            "7 x 7 = 49\n",
            "7 x 8 = 56\n",
            "7 x 9 = 63\n",
            "7 x 10 = 70\n",
            "8 x 1 = 8\n",
            "8 x 2 = 16\n",
            "8 x 3 = 24\n",
            "8 x 4 = 32\n",
            "8 x 5 = 40\n",
            "8 x 6 = 48\n",
            "8 x 7 = 56\n",
            "8 x 8 = 64\n",
            "8 x 9 = 72\n",
            "8 x 10 = 80\n",
            "9 x 1 = 9\n",
            "9 x 2 = 18\n",
            "9 x 3 = 27\n",
            "9 x 4 = 36\n",
            "9 x 5 = 45\n",
            "9 x 6 = 54\n",
            "9 x 7 = 63\n",
            "9 x 8 = 72\n",
            "9 x 9 = 81\n",
            "9 x 10 = 90\n",
            "10 x 1 = 10\n",
            "10 x 2 = 20\n",
            "10 x 3 = 30\n",
            "10 x 4 = 40\n",
            "10 x 5 = 50\n",
            "10 x 6 = 60\n",
            "10 x 7 = 70\n",
            "10 x 8 = 80\n",
            "10 x 9 = 90\n",
            "10 x 10 = 100\n"
          ]
        }
      ]
    },
    {
      "cell_type": "code",
      "source": [
        "x = 4\n",
        "while x < 10:\n",
        "  print(\"Hola mundo\")\n",
        "  x += 1"
      ],
      "metadata": {
        "colab": {
          "base_uri": "https://localhost:8080/"
        },
        "id": "RYALHPRUwgFh",
        "outputId": "ced5a1f3-409c-4a92-d69e-7b71ff43ae01"
      },
      "execution_count": 93,
      "outputs": [
        {
          "output_type": "stream",
          "name": "stdout",
          "text": [
            "Hola mundo\n",
            "Hola mundo\n",
            "Hola mundo\n",
            "Hola mundo\n",
            "Hola mundo\n",
            "Hola mundo\n"
          ]
        }
      ]
    },
    {
      "cell_type": "code",
      "source": [
        "x"
      ],
      "metadata": {
        "colab": {
          "base_uri": "https://localhost:8080/"
        },
        "id": "Pzf9mwqwziEu",
        "outputId": "0448de4c-d658-407f-8886-c688e52125c1"
      },
      "execution_count": 94,
      "outputs": [
        {
          "output_type": "execute_result",
          "data": {
            "text/plain": [
              "10"
            ]
          },
          "metadata": {},
          "execution_count": 94
        }
      ]
    },
    {
      "cell_type": "code",
      "source": [
        "while True:\n",
        "  print(\"Hola, mundo\")"
      ],
      "metadata": {
        "id": "2P9kkVhWzjsO"
      },
      "execution_count": null,
      "outputs": []
    },
    {
      "cell_type": "code",
      "source": [
        "def media(lista):\n",
        "  n = 0\n",
        "  suma = 0\n",
        "  for numero in lista:\n",
        "    n += 1\n",
        "    suma += numero\n",
        "  division = suma / n\n",
        "  return division, n"
      ],
      "metadata": {
        "id": "AuqbDSM80OLM"
      },
      "execution_count": 100,
      "outputs": []
    },
    {
      "cell_type": "code",
      "source": [
        "media([3, 2, 4, 1, 5])"
      ],
      "metadata": {
        "colab": {
          "base_uri": "https://localhost:8080/"
        },
        "id": "ADpHdDBNztPE",
        "outputId": "63d5b5fd-c589-432e-f554-9c33f0ba2578"
      },
      "execution_count": 101,
      "outputs": [
        {
          "output_type": "execute_result",
          "data": {
            "text/plain": [
              "(3.0, 5)"
            ]
          },
          "metadata": {},
          "execution_count": 101
        }
      ]
    },
    {
      "cell_type": "code",
      "source": [
        "def varianza(lista):\n",
        "  promedio, n = media(lista)\n",
        "  suma = 0\n",
        "  for numero in lista:\n",
        "    suma += (numero - promedio) ** 2\n",
        "\n",
        "  return suma / (n - 1)"
      ],
      "metadata": {
        "id": "UmdecKsm1hqb"
      },
      "execution_count": 102,
      "outputs": []
    },
    {
      "cell_type": "code",
      "source": [
        "varianza([3, 2, 4, 1, 5])"
      ],
      "metadata": {
        "colab": {
          "base_uri": "https://localhost:8080/"
        },
        "id": "vCFQct6v3J9W",
        "outputId": "83113ae1-e853-426b-a7cc-1b6fe7d9cbfd"
      },
      "execution_count": 103,
      "outputs": [
        {
          "output_type": "execute_result",
          "data": {
            "text/plain": [
              "2.5"
            ]
          },
          "metadata": {},
          "execution_count": 103
        }
      ]
    },
    {
      "cell_type": "code",
      "source": [
        "def std(lista):\n",
        "  var = varianza(lista)\n",
        "  return var ** (0.5)"
      ],
      "metadata": {
        "id": "shbSBgAJ3Na2"
      },
      "execution_count": 104,
      "outputs": []
    },
    {
      "cell_type": "code",
      "source": [
        "std([3, 2, 4, 1, 5])"
      ],
      "metadata": {
        "colab": {
          "base_uri": "https://localhost:8080/"
        },
        "id": "RbFSCh-i5tRv",
        "outputId": "6fd22255-d8f7-4014-c824-d61554c2bc89"
      },
      "execution_count": 105,
      "outputs": [
        {
          "output_type": "execute_result",
          "data": {
            "text/plain": [
              "1.5811388300841898"
            ]
          },
          "metadata": {},
          "execution_count": 105
        }
      ]
    }
  ]
}