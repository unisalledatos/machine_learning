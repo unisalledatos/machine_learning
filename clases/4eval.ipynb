{
  "nbformat": 4,
  "nbformat_minor": 0,
  "metadata": {
    "colab": {
      "provenance": []
    },
    "kernelspec": {
      "name": "python3",
      "display_name": "Python 3"
    },
    "language_info": {
      "name": "python"
    }
  },
  "cells": [
    {
      "cell_type": "code",
      "execution_count": 49,
      "metadata": {
        "id": "DjgxY7sATZr-"
      },
      "outputs": [],
      "source": [
        "import pandas as pd\n",
        "import scipy\n",
        "import matplotlib.pyplot as plt\n",
        "import numpy as np\n",
        "\n",
        "from sklearn.preprocessing import LabelEncoder\n",
        "from sklearn.preprocessing import StandardScaler\n",
        "\n",
        "from sklearn.decomposition import PCA\n",
        "from sklearn.linear_model import LogisticRegression\n",
        "from sklearn.svm import SVC\n",
        "\n",
        "from sklearn.pipeline import make_pipeline\n",
        "\n",
        "from sklearn.model_selection import train_test_split\n",
        "from sklearn.model_selection import learning_curve\n",
        "from sklearn.model_selection import validation_curve\n",
        "\n",
        "from sklearn.model_selection import StratifiedKFold\n",
        "from sklearn.model_selection import cross_val_score\n",
        "from sklearn.model_selection import GridSearchCV\n",
        "from sklearn.model_selection import HalvingRandomSearchCV\n",
        "from sklearn.model_selection import RandomizedSearchCV\n",
        "\n",
        "from sklearn.experimental import enable_halving_search_cv"
      ]
    },
    {
      "cell_type": "code",
      "source": [
        "df = pd.read_csv('https://archive.ics.uci.edu/ml/'\n",
        "                 'machine-learning-databases'\n",
        "                 '/breast-cancer-wisconsin/wdbc.data',\n",
        "                header=None)"
      ],
      "metadata": {
        "id": "VZTPmQxWTmg8"
      },
      "execution_count": 22,
      "outputs": []
    },
    {
      "cell_type": "code",
      "source": [
        "X = df.loc[:, 2:].values\n",
        "y = df.loc[:, 1].values\n",
        "le = LabelEncoder()\n",
        "y = le.fit_transform(y)\n",
        "le.classes_\n"
      ],
      "metadata": {
        "colab": {
          "base_uri": "https://localhost:8080/"
        },
        "id": "LntQV48GTpOB",
        "outputId": "014db866-6996-4676-868e-871bd3271951"
      },
      "execution_count": 23,
      "outputs": [
        {
          "output_type": "execute_result",
          "data": {
            "text/plain": [
              "array(['B', 'M'], dtype=object)"
            ]
          },
          "metadata": {},
          "execution_count": 23
        }
      ]
    },
    {
      "cell_type": "code",
      "source": [
        "le.transform(['M', 'B'])"
      ],
      "metadata": {
        "colab": {
          "base_uri": "https://localhost:8080/"
        },
        "id": "kPfsbcphTrBX",
        "outputId": "e402c6e3-7064-44e9-a4b6-dba8854fcb0a"
      },
      "execution_count": 24,
      "outputs": [
        {
          "output_type": "execute_result",
          "data": {
            "text/plain": [
              "array([1, 0])"
            ]
          },
          "metadata": {},
          "execution_count": 24
        }
      ]
    },
    {
      "cell_type": "code",
      "source": [
        "X_train, X_test, y_train, y_test = train_test_split(X, y,\n",
        "                                                    test_size=0.20,\n",
        "                                                    stratify=y,\n",
        "                                                    random_state=1)"
      ],
      "metadata": {
        "id": "NZXc6B2gTsLm"
      },
      "execution_count": 25,
      "outputs": []
    },
    {
      "cell_type": "code",
      "source": [
        "pipe_lr = make_pipeline(StandardScaler(),\n",
        "                        PCA(n_components=2),\n",
        "                        LogisticRegression())\n",
        "pipe_lr.fit(X_train, y_train)\n",
        "y_pred = pipe_lr.predict(X_test)\n",
        "test_acc = pipe_lr.score(X_test, y_test)\n",
        "print(f'Test accuracy: {test_acc:.3f}')"
      ],
      "metadata": {
        "colab": {
          "base_uri": "https://localhost:8080/"
        },
        "id": "jxVzfU-9Tt37",
        "outputId": "040189a3-90b2-47f6-f435-ea3f3015df9e"
      },
      "execution_count": 26,
      "outputs": [
        {
          "output_type": "stream",
          "name": "stdout",
          "text": [
            "Test accuracy: 0.956\n"
          ]
        }
      ]
    },
    {
      "cell_type": "code",
      "source": [
        "kfold = StratifiedKFold(n_splits=10).split(X_train, y_train)\n",
        "scores = []\n",
        "for k, (train, test) in enumerate(kfold):\n",
        "  pipe_lr.fit(X_train[train], y_train[train])\n",
        "  score = pipe_lr.score(X_train[test], y_train[test])\n",
        "  scores.append(score)\n",
        "  print(f'Fold: {k+1:02d}, '\n",
        "  f'Class distr.: {np.bincount(y_train[train])}, '\n",
        "  f'Acc.: {score:.3f}')"
      ],
      "metadata": {
        "colab": {
          "base_uri": "https://localhost:8080/"
        },
        "id": "wI9MFDfXTx9g",
        "outputId": "62e7d092-21f4-41d7-87d9-17cb1bfaf8f4"
      },
      "execution_count": 27,
      "outputs": [
        {
          "output_type": "stream",
          "name": "stdout",
          "text": [
            "Fold: 01, Class distr.: [256 153], Acc.: 0.935\n",
            "Fold: 02, Class distr.: [256 153], Acc.: 0.935\n",
            "Fold: 03, Class distr.: [256 153], Acc.: 0.957\n",
            "Fold: 04, Class distr.: [256 153], Acc.: 0.957\n",
            "Fold: 05, Class distr.: [256 153], Acc.: 0.935\n",
            "Fold: 06, Class distr.: [257 153], Acc.: 0.956\n",
            "Fold: 07, Class distr.: [257 153], Acc.: 0.978\n",
            "Fold: 08, Class distr.: [257 153], Acc.: 0.933\n",
            "Fold: 09, Class distr.: [257 153], Acc.: 0.956\n",
            "Fold: 10, Class distr.: [257 153], Acc.: 0.956\n"
          ]
        }
      ]
    },
    {
      "cell_type": "code",
      "source": [
        "mean_acc = np.mean(scores)\n",
        "std_acc = np.std(scores)\n",
        "print(f'\\nCV accuracy: {mean_acc:.3f} +/- {std_acc:.3f}')"
      ],
      "metadata": {
        "colab": {
          "base_uri": "https://localhost:8080/"
        },
        "id": "-zQz2siHTzYq",
        "outputId": "e5f72c17-974f-4971-9486-6e969499b6a1"
      },
      "execution_count": 28,
      "outputs": [
        {
          "output_type": "stream",
          "name": "stdout",
          "text": [
            "\n",
            "CV accuracy: 0.950 +/- 0.014\n"
          ]
        }
      ]
    },
    {
      "cell_type": "code",
      "source": [
        "scores = cross_val_score(estimator=pipe_lr,\n",
        "                          X=X_train,\n",
        "                          y=y_train,\n",
        "                          cv=10,\n",
        "                          n_jobs=1)\n",
        "print(f'CV accuracy scores: {scores}')"
      ],
      "metadata": {
        "colab": {
          "base_uri": "https://localhost:8080/"
        },
        "id": "hyXupCgqT0wG",
        "outputId": "a1751d0e-4b24-41d5-9b76-a59f212ba8bb"
      },
      "execution_count": 29,
      "outputs": [
        {
          "output_type": "stream",
          "name": "stdout",
          "text": [
            "CV accuracy scores: [0.93478261 0.93478261 0.95652174 0.95652174 0.93478261 0.95555556\n",
            " 0.97777778 0.93333333 0.95555556 0.95555556]\n"
          ]
        }
      ]
    },
    {
      "cell_type": "code",
      "source": [
        "print(f'CV accuracy: {np.mean(scores):.3f} 'f'+/- {np.std(scores):.3f}')"
      ],
      "metadata": {
        "colab": {
          "base_uri": "https://localhost:8080/"
        },
        "id": "dzmv5DdpT2Lc",
        "outputId": "62034521-4d35-4ddf-f8bd-b27fce83abce"
      },
      "execution_count": 30,
      "outputs": [
        {
          "output_type": "stream",
          "name": "stdout",
          "text": [
            "CV accuracy: 0.950 +/- 0.014\n"
          ]
        }
      ]
    },
    {
      "cell_type": "markdown",
      "source": [
        "![](https://raw.githubusercontent.com/rasbt/python-machine-learning-book-3rd-edition/bf62496f44a92a21d23250d5ed13d2d2e617e0e2/ch06/images/06_04.png)"
      ],
      "metadata": {
        "id": "b4nuivB4dKRH"
      }
    },
    {
      "cell_type": "markdown",
      "source": [
        "## Learning curve"
      ],
      "metadata": {
        "id": "01nTyb9_Wj_l"
      }
    },
    {
      "cell_type": "code",
      "source": [
        "pipe_lr = make_pipeline(StandardScaler(),\n",
        "    LogisticRegression(penalty='l2',\n",
        "    max_iter=10000))\n",
        "train_sizes, train_scores, test_scores =\\\n",
        "    learning_curve(estimator=pipe_lr,\n",
        "    X=X_train,\n",
        "    y=y_train,\n",
        "    train_sizes=np.linspace(\n",
        "    0.1, 1.0, 10),\n",
        "    cv=10,\n",
        "    n_jobs=1)\n",
        "train_mean = np.mean(train_scores, axis=1)\n",
        "train_std = np.std(train_scores, axis=1)\n",
        "test_mean = np.mean(test_scores, axis=1)\n",
        "test_std = np.std(test_scores, axis=1)\n",
        "plt.plot(train_sizes, train_mean,\n",
        "    color='blue', marker='o',\n",
        "    markersize=5, label='Training accuracy')\n",
        "plt.fill_between(train_sizes,\n",
        "    train_mean + train_std,\n",
        "    train_mean - train_std,\n",
        "    alpha=0.15, color='blue')\n",
        "plt.plot(train_sizes, test_mean,\n",
        "    color='green', linestyle='--',\n",
        "    marker='s', markersize=5,\n",
        "    label='Validation accuracy')\n",
        "plt.fill_between(train_sizes,\n",
        "    test_mean + test_std,\n",
        "    test_mean - test_std,\n",
        "    alpha=0.15, color='green')\n",
        "plt.grid()\n",
        "plt.xlabel('Number of training examples')\n",
        "plt.ylabel('Accuracy')\n",
        "plt.legend(loc='lower right')\n",
        "plt.ylim([0.8, 1.03])\n",
        "plt.show()"
      ],
      "metadata": {
        "colab": {
          "base_uri": "https://localhost:8080/",
          "height": 449
        },
        "id": "nrcgtKixT9a2",
        "outputId": "63cc9947-5039-435a-e13e-734c1ee105d4"
      },
      "execution_count": 31,
      "outputs": [
        {
          "output_type": "display_data",
          "data": {
            "text/plain": [
              "<Figure size 640x480 with 1 Axes>"
            ],
            "image/png": "[encoded data removed]"
          },
          "metadata": {}
        }
      ]
    },
    {
      "cell_type": "markdown",
      "source": [
        "## Validation curve"
      ],
      "metadata": {
        "id": "QmRjWtHIWmIf"
      }
    },
    {
      "cell_type": "code",
      "source": [
        "param_range = [0.001, 0.01, 0.1, 1.0, 10.0, 100.0]\n",
        "train_scores, test_scores = validation_curve(\n",
        "          estimator=pipe_lr,\n",
        "          X=X_train,\n",
        "          y=y_train,\n",
        "          param_name='logisticregression__C',\n",
        "          param_range=param_range,\n",
        "          cv=10)\n",
        "train_mean = np.mean(train_scores, axis=1)\n",
        "train_std = np.std(train_scores, axis=1)\n",
        "test_mean = np.mean(test_scores, axis=1)\n",
        "test_std = np.std(test_scores, axis=1)\n",
        "plt.plot(param_range, train_mean,\n",
        "          color='blue', marker='o',\n",
        "          markersize=5, label='Training accuracy')\n",
        "plt.fill_between(param_range, train_mean + train_std,\n",
        "          train_mean - train_std, alpha=0.15,\n",
        "          color='blue')\n",
        "plt.plot(param_range, test_mean,\n",
        "          color='green', linestyle='--',\n",
        "          marker='s', markersize=5,\n",
        "          label='Validation accuracy')\n",
        "plt.fill_between(param_range,\n",
        "          test_mean + test_std,\n",
        "          test_mean - test_std,\n",
        "          alpha=0.15, color='green')\n",
        "plt.grid()\n",
        "plt.xscale('log')\n",
        "plt.legend(loc='lower right')\n",
        "plt.xlabel('Parameter C')\n",
        "plt.ylabel('Accuracy')\n",
        "plt.ylim([0.8, 1.0])\n",
        "plt.show()"
      ],
      "metadata": {
        "colab": {
          "base_uri": "https://localhost:8080/",
          "height": 459
        },
        "id": "7FJS6F_CT_Xi",
        "outputId": "01a54f54-39bd-4bf5-afff-04d85c66619e"
      },
      "execution_count": 32,
      "outputs": [
        {
          "output_type": "display_data",
          "data": {
            "text/plain": [
              "<Figure size 640x480 with 1 Axes>"
            ],
            "image/png": "[encoded data removed]"
          },
          "metadata": {}
        }
      ]
    },
    {
      "cell_type": "markdown",
      "source": [
        "## Grid Search CV"
      ],
      "metadata": {
        "id": "DKPq9QyYWr92"
      }
    },
    {
      "cell_type": "code",
      "source": [
        "pipe_svc = make_pipeline(StandardScaler(),\n",
        "      SVC(random_state=1))\n",
        "param_range = [0.0001, 0.001, 0.01, 0.1,\n",
        "      1.0, 10.0, 100.0, 1000.0]\n",
        "param_grid = [{'svc__C': param_range,\n",
        "      'svc__kernel': ['linear']},\n",
        "      {'svc__C': param_range,\n",
        "      'svc__gamma': param_range,\n",
        "      'svc__kernel': ['rbf']}]\n",
        "gs = GridSearchCV(estimator=pipe_svc,\n",
        "      param_grid=param_grid,\n",
        "      scoring='accuracy',\n",
        "      cv=10,\n",
        "      refit=True,\n",
        "      n_jobs=-1)\n",
        "gs = gs.fit(X_train, y_train)\n",
        "print(gs.best_score_)\n",
        "print(gs.best_params_)"
      ],
      "metadata": {
        "colab": {
          "base_uri": "https://localhost:8080/"
        },
        "id": "hAIJcKECUBRd",
        "outputId": "95e06567-15c3-4305-a11f-84f8c36dbdaa"
      },
      "execution_count": 37,
      "outputs": [
        {
          "output_type": "stream",
          "name": "stdout",
          "text": [
            "0.9846859903381642\n",
            "{'svc__C': 100.0, 'svc__gamma': 0.001, 'svc__kernel': 'rbf'}\n"
          ]
        }
      ]
    },
    {
      "cell_type": "code",
      "source": [
        "clf = gs.best_estimator_\n",
        "clf.fit(X_train, y_train)\n",
        "print(f'Test accuracy: {clf.score(X_test, y_test):.3f}')"
      ],
      "metadata": {
        "colab": {
          "base_uri": "https://localhost:8080/"
        },
        "id": "asrvu8HxUCrM",
        "outputId": "c69cbf6f-4ab0-4b5a-ce99-28d8433905a0"
      },
      "execution_count": 38,
      "outputs": [
        {
          "output_type": "stream",
          "name": "stdout",
          "text": [
            "Test accuracy: 0.974\n"
          ]
        }
      ]
    },
    {
      "cell_type": "markdown",
      "source": [
        "## Randomized Search CV"
      ],
      "metadata": {
        "id": "MmTurii4UHDh"
      }
    },
    {
      "cell_type": "code",
      "source": [
        "param_range = [0.0001, 0.001, 0.01, 0.1, 1.0, 10.0, 100.0, 1000.0]"
      ],
      "metadata": {
        "id": "BRhVaUdzUHOx"
      },
      "execution_count": 39,
      "outputs": []
    },
    {
      "cell_type": "code",
      "source": [
        "param_range = scipy.stats.loguniform(0.0001, 1000.0)"
      ],
      "metadata": {
        "id": "5hL4HIpwUGzz"
      },
      "execution_count": 40,
      "outputs": []
    },
    {
      "cell_type": "code",
      "source": [
        "np.random.seed(1)\n",
        "param_range.rvs(10)"
      ],
      "metadata": {
        "colab": {
          "base_uri": "https://localhost:8080/"
        },
        "id": "dZcepTIPUKTq",
        "outputId": "8f12fe26-cf82-4b29-b4fc-660e25643d28"
      },
      "execution_count": 41,
      "outputs": [
        {
          "output_type": "execute_result",
          "data": {
            "text/plain": [
              "array([8.30145146e-02, 1.10222804e+01, 1.00184520e-04, 1.30715777e-02,\n",
              "       1.06485687e-03, 4.42965766e-04, 2.01289666e-03, 2.62376594e-02,\n",
              "       5.98924832e-02, 5.91176467e-01])"
            ]
          },
          "metadata": {},
          "execution_count": 41
        }
      ]
    },
    {
      "cell_type": "code",
      "source": [
        "pipe_svc = make_pipeline(StandardScaler(), SVC(random_state=1))"
      ],
      "metadata": {
        "id": "7wIWQZINULj0"
      },
      "execution_count": 42,
      "outputs": []
    },
    {
      "cell_type": "code",
      "source": [
        "param_grid = [{'svc__C': param_range,\n",
        "      'svc__kernel': ['linear']},\n",
        "      {'svc__C': param_range,\n",
        "      'svc__gamma': param_range,\n",
        "      'svc__kernel': ['rbf']}]\n",
        "rs = RandomizedSearchCV(estimator=pipe_svc,\n",
        "      param_distributions=param_grid,\n",
        "      scoring='accuracy',\n",
        "      refit=True,\n",
        "      n_iter=20,\n",
        "      cv=10,\n",
        "      random_state=1,\n",
        "      n_jobs=-1)\n",
        "rs = rs.fit(X_train, y_train)\n",
        "print(rs.best_score_)\n",
        "\n",
        "print(rs.best_params_)\n"
      ],
      "metadata": {
        "colab": {
          "base_uri": "https://localhost:8080/"
        },
        "id": "uy4o0-PQUMwO",
        "outputId": "e4883c4d-194b-4592-c013-8557a852868b"
      },
      "execution_count": 43,
      "outputs": [
        {
          "output_type": "stream",
          "name": "stdout",
          "text": [
            "0.9780676328502416\n",
            "{'svc__C': 0.05971247755848463, 'svc__kernel': 'linear'}\n"
          ]
        }
      ]
    },
    {
      "cell_type": "markdown",
      "source": [
        "## Halving Search CV"
      ],
      "metadata": {
        "id": "WaZKZFB2WY88"
      }
    },
    {
      "cell_type": "code",
      "source": [
        "hs = HalvingRandomSearchCV(pipe_svc,\n",
        "    param_distributions=param_grid,\n",
        "    n_candidates='exhaust',\n",
        "    resource='n_samples',\n",
        "    factor=1.5,\n",
        "    random_state=1,\n",
        "    n_jobs=-1)"
      ],
      "metadata": {
        "id": "Cv4DI2mWUPwM"
      },
      "execution_count": 45,
      "outputs": []
    },
    {
      "cell_type": "code",
      "source": [
        "hs = hs.fit(X_train, y_train)\n",
        "print(hs.best_score_)"
      ],
      "metadata": {
        "colab": {
          "base_uri": "https://localhost:8080/"
        },
        "id": "LlmrMaFFURPy",
        "outputId": "13715f20-0c8b-4a33-f212-abaa6bb59fd2"
      },
      "execution_count": 46,
      "outputs": [
        {
          "output_type": "stream",
          "name": "stdout",
          "text": [
            "0.9617647058823529\n"
          ]
        }
      ]
    },
    {
      "cell_type": "code",
      "source": [
        "print(hs.best_params_)"
      ],
      "metadata": {
        "colab": {
          "base_uri": "https://localhost:8080/"
        },
        "id": "2JTDYjJpUSA0",
        "outputId": "145c19ff-813a-42dd-8b34-4ea9f49cf33b"
      },
      "execution_count": 47,
      "outputs": [
        {
          "output_type": "stream",
          "name": "stdout",
          "text": [
            "{'svc__C': 4.934834261073333, 'svc__kernel': 'linear'}\n"
          ]
        }
      ]
    },
    {
      "cell_type": "code",
      "source": [
        "clf = hs.best_estimator_\n",
        "print(f'Test accuracy: {hs.score(X_test, y_test):.3f}')"
      ],
      "metadata": {
        "colab": {
          "base_uri": "https://localhost:8080/"
        },
        "id": "7IYlDqpQUTN5",
        "outputId": "f4dbe875-730b-4be6-85fe-c35a9f1a1786"
      },
      "execution_count": 48,
      "outputs": [
        {
          "output_type": "stream",
          "name": "stdout",
          "text": [
            "Test accuracy: 0.982\n"
          ]
        }
      ]
    },
    {
      "cell_type": "markdown",
      "source": [
        "Tomado de Raschka, S (2023). con fines educativos."
      ],
      "metadata": {
        "id": "fCseLLb8dMn0"
      }
    }
  ]
}