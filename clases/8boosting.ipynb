{
  "nbformat": 4,
  "nbformat_minor": 0,
  "metadata": {
    "colab": {
      "provenance": []
    },
    "kernelspec": {
      "name": "python3",
      "display_name": "Python 3"
    },
    "language_info": {
      "name": "python"
    }
  },
  "cells": [
    {
      "cell_type": "markdown",
      "source": [
        "# Boosting\n"
      ],
      "metadata": {
        "id": "CYaNW4mzhEVg"
      }
    },
    {
      "cell_type": "code",
      "source": [
        "import numpy as np\n",
        "import matplotlib.pyplot as plt"
      ],
      "metadata": {
        "id": "dAFBdrKRvDnV"
      },
      "execution_count": 1,
      "outputs": []
    },
    {
      "cell_type": "code",
      "source": [
        "def f(x):\n",
        "  return x ** 2\n",
        "\n",
        "def grad(x):\n",
        "  return 2 * x"
      ],
      "metadata": {
        "id": "WMgLzoSJvj_C"
      },
      "execution_count": 2,
      "outputs": []
    },
    {
      "cell_type": "code",
      "source": [
        "x = np.random.randint(-5, 5)\n",
        "eta = 0.8\n",
        "m = 100\n",
        "X = []\n",
        "for _ in range(m):\n",
        "  X.append(x)\n",
        "  x = x - eta * grad(x)\n",
        "\n",
        "x_ = np.linspace(-5, 5, 100)\n",
        "y = f(x_)\n",
        "\n",
        "plt.plot(x_, y)\n",
        "plt.plot(X, list(map(f, X)), '-o', color='r')\n",
        "plt.show()"
      ],
      "metadata": {
        "colab": {
          "base_uri": "https://localhost:8080/",
          "height": 430
        },
        "id": "gZmqtdpDvq8U",
        "outputId": "54c071ff-245d-427d-e047-ee07daf6209d"
      },
      "execution_count": 7,
      "outputs": [
        {
          "output_type": "display_data",
          "data": {
            "text/plain": [
              "<Figure size 640x480 with 1 Axes>"
            ],
            "image/png": "[encoded data removed]"
          },
          "metadata": {}
        }
      ]
    },
    {
      "cell_type": "code",
      "source": [
        "!pip install catboost"
      ],
      "metadata": {
        "id": "h6ydLw1thxnO"
      },
      "execution_count": null,
      "outputs": []
    },
    {
      "cell_type": "code",
      "source": [
        "from sklearn.ensemble import GradientBoostingClassifier, HistGradientBoostingClassifier\n",
        "from sklearn.tree import DecisionTreeRegressor\n",
        "from sklearn.model_selection import GridSearchCV, train_test_split\n",
        "from sklearn.metrics import confusion_matrix, accuracy_score\n",
        "from sklearn.datasets import make_classification\n",
        "from lightgbm import LGBMClassifier\n",
        "from xgboost import XGBClassifier\n",
        "from catboost import CatBoostClassifier\n",
        "\n",
        "import numpy as np\n",
        "import pandas as pd"
      ],
      "metadata": {
        "id": "o5XazvsxhXvN"
      },
      "execution_count": null,
      "outputs": []
    },
    {
      "cell_type": "markdown",
      "source": [
        "Input: conjunto de entrenamiento $\\{(x_i, y_i)\\}_{i=1}^n$, función de pérdida diferenciable $L(y, F(x))$, número de iteraciones $M$\n",
        "\n",
        "Algoritmo:\n",
        "\n",
        "1. Inicializar el modelo con un valor constante:\n",
        "\n",
        "$$F_0(x)=\\arg \\min_{\\gamma}\\sum_{i=1}^n L(y_i, \\gamma)$$\n",
        "\n",
        "2. For m=1 hasta $M$:\n",
        "  1. Calcular los pseudo-residuos:\n",
        "      $$r_{im}=-\\bigg[\\frac{\\partial L(y_i, F(x_i))}{\\partial F(x_i)}\\bigg]$$\n",
        "  2. Ajustar un modelo básico $h_m(x)$ a los residuales: $\\{(x_i, r_{im})\\}_{i=1}^n$\n",
        "  3. Calcular el multiplicador $\\gamma_m$:\n",
        "      \n",
        "      $$\\gamma_m = \\arg \\min_{\\gamma} \\sum_{i=1}^n L(y_i, F_{m-1}(x_i)+\\gamma h_m(x_i))$$\n",
        "  4. Actualizar el output:\n",
        "      $$F_m(x)=F_{m-1}(x)+\\gamma_mh_m(x)$$\n",
        "\n",
        "Output: $F_M(x)$\n"
      ],
      "metadata": {
        "id": "8oENPkwoibtv"
      }
    },
    {
      "cell_type": "code",
      "source": [
        "class GradientBoostingRegressor:\n",
        "    def __init__(self, n_estimators=100, learning_rate=0.1, max_depth=3):\n",
        "        self.n_estimators = n_estimators\n",
        "        self.learning_rate = learning_rate\n",
        "        self.max_depth = max_depth\n",
        "\n",
        "        self.estimators = []\n",
        "        self.residuals = []\n",
        "        self.base_prediction = 0\n",
        "\n",
        "    def fit(self, X, y):\n",
        "        self.base_prediction = np.mean(y)\n",
        "        self.residuals = y - self.base_prediction\n",
        "\n",
        "        for i in range(self.n_estimators):\n",
        "            tree = DecisionTreeRegressor(max_depth=self.max_depth)\n",
        "            tree.fit(X, self.residuals)\n",
        "            prediction = tree.predict(X)\n",
        "            self.estimators.append(tree)\n",
        "            self.residuals -= self.learning_rate * prediction\n",
        "\n",
        "    def predict(self, X):\n",
        "        y_pred = np.zeros(len(X))\n",
        "        for estimator in self.estimators:\n",
        "            y_pred += self.learning_rate * estimator.predict(X)\n",
        "        return y_pred + self.base_prediction"
      ],
      "metadata": {
        "id": "6EUOiCrfiAhh"
      },
      "execution_count": null,
      "outputs": []
    },
    {
      "cell_type": "code",
      "source": [
        "X, y = make_classification(n_samples=1000, n_features=10, n_informative=5, n_classes=2)"
      ],
      "metadata": {
        "id": "5LVH2h2WlzKt"
      },
      "execution_count": null,
      "outputs": []
    },
    {
      "cell_type": "code",
      "source": [
        "X_train, X_test, y_train, y_test = train_test_split(X, y, test_size=0.2, random_state=1234)"
      ],
      "metadata": {
        "id": "YH02_O2ol8fW"
      },
      "execution_count": null,
      "outputs": []
    },
    {
      "cell_type": "markdown",
      "source": [
        "## GradientBoosting\n",
        "\n",
        "`learning_rate`\n",
        "\n",
        "`max_depth`\n",
        "\n",
        "`n_estimators`\n",
        "\n",
        "`min_samples_split`\n",
        "\n",
        "`min_samples_leaf`"
      ],
      "metadata": {
        "id": "4qaUNhHphGHO"
      }
    },
    {
      "cell_type": "code",
      "source": [
        "gbc = GradientBoostingClassifier()\n",
        "gbc.fit(X_train, y_train)\n",
        "y_pred_gbc = gbc.predict(X_test)\n",
        "accuracy_score(y_pred_gbc, y_test)"
      ],
      "metadata": {
        "colab": {
          "base_uri": "https://localhost:8080/"
        },
        "id": "fMizccIShGW3",
        "outputId": "373231db-1f85-4482-aaa6-754a7940a9bf"
      },
      "execution_count": null,
      "outputs": [
        {
          "output_type": "execute_result",
          "data": {
            "text/plain": [
              "0.97"
            ]
          },
          "metadata": {},
          "execution_count": 17
        }
      ]
    },
    {
      "cell_type": "markdown",
      "source": [
        "## HistGradientBoosting\n",
        "\n",
        "`learning_rate`\n",
        "\n",
        "`max_leaf_nodes`\n",
        "\n",
        "`max_depth`\n",
        "\n",
        "`min_samples_leaf`"
      ],
      "metadata": {
        "id": "kZGVwam2hGly"
      }
    },
    {
      "cell_type": "code",
      "source": [
        "hgbc = HistGradientBoostingClassifier()\n",
        "hgbc.fit(X_train, y_train)\n",
        "y_pred_hgbc = hgbc.predict(X_test)\n",
        "accuracy_score(y_pred_hgbc, y_test)"
      ],
      "metadata": {
        "colab": {
          "base_uri": "https://localhost:8080/"
        },
        "id": "okRFRsIbhG1m",
        "outputId": "886d9e7f-b9bb-41c6-c877-9b40332b7de1"
      },
      "execution_count": null,
      "outputs": [
        {
          "output_type": "execute_result",
          "data": {
            "text/plain": [
              "0.945"
            ]
          },
          "metadata": {},
          "execution_count": 18
        }
      ]
    },
    {
      "cell_type": "markdown",
      "source": [
        "## XGBoosting\n",
        "\n",
        "`eta`: learning rate\n",
        "\n",
        "`gamma`: min_split_loss\n",
        "\n",
        "`max_depth`: profundidad\n",
        "\n",
        "`lambda`: l2 regularization\n",
        "\n",
        "`alpha`: l1 regularization\n"
      ],
      "metadata": {
        "id": "aJ0QqtE7hG_e"
      }
    },
    {
      "cell_type": "code",
      "source": [
        "xbc = XGBClassifier()\n",
        "xbc.fit(X_train, y_train)\n",
        "y_pred_xbc = xbc.predict(X_test)\n",
        "accuracy_score(y_pred_xbc, y_test)"
      ],
      "metadata": {
        "colab": {
          "base_uri": "https://localhost:8080/"
        },
        "id": "BRuNW4EshHP4",
        "outputId": "7634f4c7-2955-473a-df0d-58dfe9b79336"
      },
      "execution_count": null,
      "outputs": [
        {
          "output_type": "execute_result",
          "data": {
            "text/plain": [
              "0.96"
            ]
          },
          "metadata": {},
          "execution_count": 19
        }
      ]
    },
    {
      "cell_type": "markdown",
      "source": [
        "## LightGBM\n",
        "\n",
        "`num_leaves`\n",
        "\n",
        "`max_depth`\n",
        "\n",
        "`n_estimators`\n",
        "\n",
        "`learning_rate`\n",
        "\n",
        "`reg_lambda`\n",
        "\n",
        "`reg_alpha`"
      ],
      "metadata": {
        "id": "fORFwmTvhHau"
      }
    },
    {
      "cell_type": "code",
      "source": [
        "lgbc = LGBMClassifier()\n",
        "lgbc.fit(X_train, y_train)\n",
        "y_pred_lgbc = lgbc.predict(X_test)\n",
        "accuracy_score(y_pred_lgbc, y_test)"
      ],
      "metadata": {
        "colab": {
          "base_uri": "https://localhost:8080/"
        },
        "id": "WWCEi8vjhHvc",
        "outputId": "a738310d-9afb-4308-d056-abebc18c5c36"
      },
      "execution_count": null,
      "outputs": [
        {
          "output_type": "execute_result",
          "data": {
            "text/plain": [
              "0.955"
            ]
          },
          "metadata": {},
          "execution_count": 20
        }
      ]
    },
    {
      "cell_type": "markdown",
      "source": [
        "## CatBoost\n",
        "\n",
        "`learning_rate`\n",
        "\n",
        "`max_depth`\n"
      ],
      "metadata": {
        "id": "F02oKEb7hH9f"
      }
    },
    {
      "cell_type": "code",
      "source": [
        "cbc = CatBoostClassifier()\n",
        "cbc.fit(X_train, y_train, verbose=False)\n",
        "y_pred_cbc = cbc.predict(X_test)\n",
        "accuracy_score(y_pred_cbc, y_test)"
      ],
      "metadata": {
        "colab": {
          "base_uri": "https://localhost:8080/"
        },
        "id": "S3NKhxLnhIS9",
        "outputId": "4edba154-77a8-4212-ae5c-26dc754f026e"
      },
      "execution_count": null,
      "outputs": [
        {
          "output_type": "execute_result",
          "data": {
            "text/plain": [
              "0.985"
            ]
          },
          "metadata": {},
          "execution_count": 22
        }
      ]
    },
    {
      "cell_type": "code",
      "source": [
        "!pip install wooldridge\n",
        "import wooldridge as wd\n",
        "hprice = wd.data('hprice1')"
      ],
      "metadata": {
        "colab": {
          "base_uri": "https://localhost:8080/"
        },
        "id": "dxLFN9257B0n",
        "outputId": "00ad18be-b065-41c5-b48e-ea577617fd38"
      },
      "execution_count": 12,
      "outputs": [
        {
          "output_type": "stream",
          "name": "stdout",
          "text": [
            "Requirement already satisfied: wooldridge in /usr/local/lib/python3.10/dist-packages (0.4.4)\n",
            "Requirement already satisfied: pandas in /usr/local/lib/python3.10/dist-packages (from wooldridge) (1.5.3)\n",
            "Requirement already satisfied: python-dateutil>=2.8.1 in /usr/local/lib/python3.10/dist-packages (from pandas->wooldridge) (2.8.2)\n",
            "Requirement already satisfied: pytz>=2020.1 in /usr/local/lib/python3.10/dist-packages (from pandas->wooldridge) (2023.3.post1)\n",
            "Requirement already satisfied: numpy>=1.21.0 in /usr/local/lib/python3.10/dist-packages (from pandas->wooldridge) (1.23.5)\n",
            "Requirement already satisfied: six>=1.5 in /usr/local/lib/python3.10/dist-packages (from python-dateutil>=2.8.1->pandas->wooldridge) (1.16.0)\n"
          ]
        }
      ]
    },
    {
      "cell_type": "code",
      "source": [
        "hprice.info()"
      ],
      "metadata": {
        "colab": {
          "base_uri": "https://localhost:8080/"
        },
        "id": "jUinj9cr7HtX",
        "outputId": "435ef6b7-547d-4fef-90a1-954ebf8c1710"
      },
      "execution_count": 13,
      "outputs": [
        {
          "output_type": "stream",
          "name": "stdout",
          "text": [
            "<class 'pandas.core.frame.DataFrame'>\n",
            "RangeIndex: 88 entries, 0 to 87\n",
            "Data columns (total 10 columns):\n",
            " #   Column    Non-Null Count  Dtype  \n",
            "---  ------    --------------  -----  \n",
            " 0   price     88 non-null     float64\n",
            " 1   assess    88 non-null     float64\n",
            " 2   bdrms     88 non-null     int64  \n",
            " 3   lotsize   88 non-null     float64\n",
            " 4   sqrft     88 non-null     int64  \n",
            " 5   colonial  88 non-null     int64  \n",
            " 6   lprice    88 non-null     float64\n",
            " 7   lassess   88 non-null     float64\n",
            " 8   llotsize  88 non-null     float64\n",
            " 9   lsqrft    88 non-null     float64\n",
            "dtypes: float64(7), int64(3)\n",
            "memory usage: 7.0 KB\n"
          ]
        }
      ]
    },
    {
      "cell_type": "code",
      "source": [],
      "metadata": {
        "id": "sPdm945B7JoG"
      },
      "execution_count": null,
      "outputs": []
    }
  ]
}